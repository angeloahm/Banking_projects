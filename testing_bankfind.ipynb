{
 "cells": [
  {
   "cell_type": "code",
   "execution_count": 49,
   "metadata": {},
   "outputs": [],
   "source": [
    "# Load packages:\n",
    "import numpy as np\n",
    "import bankfind as bf\n",
    "import pandas as pd\n",
    "import matplotlib.pyplot as plt\n",
    "import requests\n",
    "import yaml"
   ]
  },
  {
   "cell_type": "code",
   "execution_count": 95,
   "metadata": {},
   "outputs": [],
   "source": [
    "# Use bf to get data:\n",
    "failures = bf.get_failures()\n",
    "institutions = bf.get_institutions()\n",
    "history = bf.get_history()\n",
    "locations = bf.get_locations()\n",
    "summary = bf.get_summary()"
   ]
  },
  {
   "cell_type": "markdown",
   "metadata": {},
   "source": [
    "### Create an API to export the SOD"
   ]
  },
  {
   "cell_type": "code",
   "execution_count": 73,
   "metadata": {},
   "outputs": [],
   "source": [
    "# Load the YAML file\n",
    "yaml_file_path = 'c:\\\\Users\\\\angel\\\\Documents\\\\Economics\\\\Research\\\\Banking Project\\\\Banking_projects\\\\Dictionaries'"
   ]
  },
  {
   "cell_type": "code",
   "execution_count": 86,
   "metadata": {},
   "outputs": [],
   "source": [
    "# Read the 'sod_properties.yaml' file:\n",
    "with open(yaml_file_path + '\\\\sod_properties.yaml', 'r') as file:\n",
    "    sod_properties = yaml.safe_load(file)\n",
    "\n",
    "# Take the keys of the dictionary:\n",
    "keys = sod_properties['properties']['data']['properties'].keys()\n",
    "\n",
    "# Join all properties into a single string\n",
    "fields = \",\".join(keys)"
   ]
  },
  {
   "cell_type": "code",
   "execution_count": 130,
   "metadata": {},
   "outputs": [],
   "source": [
    "# Create the API to extract SOD data (tjis cell will take too long.)\n",
    "# Define the API endpoint and parameters\n",
    "api_url = \"https://banks.data.fdic.gov/api/sod\"\n",
    "params = {\n",
    "    \"filters\": \"CERT<1000\",     # Example filter: banks with CERT less than 1000\n",
    "    \"fields\": fields,           # Fields to retrieve\n",
    "    \"limit\": 100,               # Number of records to retrieve\n",
    "    \"offset\": 0,                # Offset for pagination\n",
    "    \"sort_by\": \"CERT\",          # Sort by CERT field\n",
    "    \"format\": \"json\"            # Response format\n",
    "}\n",
    "\n",
    "# We may need more than one request to retrieve all the data. In this case we will use a loop to fetch all the records.\n",
    "# We will store all the records in a list called all_records.\n",
    "\n",
    "# Initialize an empty list to hold all records\n",
    "all_records = []\n",
    "\n",
    "# Fetch data with pagination\n",
    "while True:\n",
    "    response = requests.get(api_url, params=params)\n",
    "    if response.status_code == 200:\n",
    "        data = response.json()\n",
    "        records = [record['data'] for record in data['data']]\n",
    "        all_records.extend(records)\n",
    "        \n",
    "        # Check if we have retrieved all the records\n",
    "        if len(records) < params['limit']:\n",
    "            break\n",
    "        \n",
    "        # Update the offset for the next request\n",
    "        params['offset'] += params['limit']\n",
    "    else:\n",
    "        print(f\"Failed to retrieve data: {response.status_code}\")\n",
    "        break\n",
    "\n",
    "\n",
    "# Convert to DataFrame\n",
    "sod = pd.DataFrame(all_records)"
   ]
  }
 ],
 "metadata": {
  "kernelspec": {
   "display_name": "Python 3",
   "language": "python",
   "name": "python3"
  },
  "language_info": {
   "codemirror_mode": {
    "name": "ipython",
    "version": 3
   },
   "file_extension": ".py",
   "mimetype": "text/x-python",
   "name": "python",
   "nbconvert_exporter": "python",
   "pygments_lexer": "ipython3",
   "version": "3.11.9"
  }
 },
 "nbformat": 4,
 "nbformat_minor": 2
}
