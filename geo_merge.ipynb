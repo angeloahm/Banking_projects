{
 "cells": [
  {
   "cell_type": "code",
   "execution_count": 17,
   "metadata": {},
   "outputs": [],
   "source": [
    "# Nice packages to spatial stuff we thought we would need \n",
    "# import pygris as pg \n",
    "# import geopandas as gpd \n",
    "\n",
    "import pandas as pd\n",
    "import os"
   ]
  },
  {
   "cell_type": "code",
   "execution_count": 25,
   "metadata": {},
   "outputs": [],
   "source": [
    "# Load the SOD file into a pandas DataFrame:\n",
    "path = 'C:/Users/angel/Documents/Economics/Research/Banking Project/data/intermediate/sod'\n",
    "\n",
    "# Set path to be the directory:\n",
    "os.chdir(path)"
   ]
  },
  {
   "cell_type": "code",
   "execution_count": 29,
   "metadata": {},
   "outputs": [],
   "source": [
    "# Read the list of county codes:\n",
    "list = pd.read_excel('qcew-county-msa-csa-crosswalk.xlsx', sheet_name='Feb. 2013 Crosswalk')\n",
    "list.rename(columns={'County Code': 'STCNTYBR'}, inplace=True)"
   ]
  },
  {
   "cell_type": "code",
   "execution_count": 37,
   "metadata": {},
   "outputs": [
    {
     "name": "stderr",
     "output_type": "stream",
     "text": [
      "C:\\Users\\angel\\AppData\\Local\\Temp\\ipykernel_28552\\1967836314.py:2: DtypeWarning: Columns (13,28,50,59,60,62) have mixed types. Specify dtype option on import or set low_memory=False.\n",
      "  sod = pd.read_csv('sod_data.csv')\n"
     ]
    }
   ],
   "source": [
    "# Read the sod file into a DataFrame:\n",
    "sod = pd.read_csv('sod_data.csv')"
   ]
  },
  {
   "cell_type": "code",
   "execution_count": 38,
   "metadata": {},
   "outputs": [],
   "source": [
    "# Merge the list of county codes with the sod data:\n",
    "sod = pd.merge(sod, list, on='STCNTYBR', how='left')"
   ]
  },
  {
   "cell_type": "code",
   "execution_count": 40,
   "metadata": {},
   "outputs": [
    {
     "data": {
      "text/plain": [
       "Index(['YEAR', 'CERT', 'BRNUM', 'UNINUMBR', 'NAMEFULL', 'ADDRESBR', 'CITYBR',\n",
       "       'CNTYNAMB', 'STALPBR', 'ZIPBR', 'BRCENM', 'CONSOLD', 'BRSERTYP',\n",
       "       'DEPSUMBR', 'BKMO', 'CBSA_DIV_NAMB', 'CITY2BR', 'CNTRYNAB', 'CNTYNUMB',\n",
       "       'CSABR', 'CSANAMBR', 'DIVISIONB', 'MSABR', 'MSANAMB', 'METROBR',\n",
       "       'MICROBR', 'NAMEBR', 'NECTABR', 'NECNAMB', 'PLACENUM',\n",
       "       'SIMS_ACQUIRED_DATE', 'SIMS_ESTABLISHED_DATE', 'SIMS_LATITUDE',\n",
       "       'SIMS_LONGITUDE', 'SIMS_DESCRIPTION', 'SIMS_PROJECTION', 'STCNTYBR',\n",
       "       'STNAMEBR', 'STNUMBR', 'HCTMULT', 'RSSDHCR', 'NAMEHCR', 'CITYHCR',\n",
       "       'STALPHCR', 'RSSDID', 'UNIT', 'ADDRESS', 'CITY', 'STALP', 'ZIP',\n",
       "       'ASSET', 'BKCLASS', 'CALL', 'CHARTER', 'CHRTAGNN', 'CHRTAGNT', 'CLCODE',\n",
       "       'CNTRYNA', 'DENOVO', 'DEPDOM', 'DEPSUM', 'DOCKET', 'ESCROW', 'FDICDBS',\n",
       "       'FDICNAME', 'FED', 'FEDNAME', 'INSAGNT1', 'INSURED', 'INSBRDD',\n",
       "       'INSBRTS', 'OCCDIST', 'OCCNAME', 'REGAGNT', 'SPECGRP', 'SPECDESC',\n",
       "       'STCNTY', 'STNAME', 'USA', 'Metrobr', 'Microbr', 'County Title',\n",
       "       'MSA Code', 'MSA Title', 'CSA Code', 'CSA Title'],\n",
       "      dtype='object')"
      ]
     },
     "execution_count": 40,
     "metadata": {},
     "output_type": "execute_result"
    }
   ],
   "source": [
    "sod.columns"
   ]
  }
 ],
 "metadata": {
  "kernelspec": {
   "display_name": "Python 3",
   "language": "python",
   "name": "python3"
  },
  "language_info": {
   "codemirror_mode": {
    "name": "ipython",
    "version": 3
   },
   "file_extension": ".py",
   "mimetype": "text/x-python",
   "name": "python",
   "nbconvert_exporter": "python",
   "pygments_lexer": "ipython3",
   "version": "3.11.9"
  }
 },
 "nbformat": 4,
 "nbformat_minor": 2
}
