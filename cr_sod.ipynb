{
 "cells": [
  {
   "cell_type": "code",
   "execution_count": 1,
   "metadata": {},
   "outputs": [],
   "source": [
    "# Load packages\n",
    "import numpy as np\n",
    "import os\n",
    "import pandas as pd\n",
    "import seaborn as sns\n",
    "import matplotlib.pyplot as plt"
   ]
  },
  {
   "cell_type": "code",
   "execution_count": 2,
   "metadata": {},
   "outputs": [],
   "source": [
    "path = 'C:/Users/angel/Documents/Economics/Research/Banking Project/data/intermediate/call_reports_SP/'\n",
    "\n",
    "# Set path to be the directory:\n",
    "os.chdir(path)\n",
    "\n",
    "# Read file that contains only the variables of interest, specify that the column 'Date' is a date:\n",
    "cr = pd.read_csv('call_reports_subset.csv', parse_dates = ['Date'])"
   ]
  },
  {
   "cell_type": "code",
   "execution_count": 19,
   "metadata": {},
   "outputs": [],
   "source": [
    "# The SOD reports the values equivalent to June 30th from the Call Reports:\n",
    "# https://www.fdic.gov/resources/bankers/call-reports/sod/2020-06-sod-instructions.pdf (page 4)\n",
    "cr = cr[cr['Date'].dt.strftime('%m-%d') == '06-30']"
   ]
  },
  {
   "cell_type": "code",
   "execution_count": 20,
   "metadata": {},
   "outputs": [
    {
     "name": "stderr",
     "output_type": "stream",
     "text": [
      "C:\\Users\\angel\\AppData\\Local\\Temp\\ipykernel_14552\\2269769294.py:1: SettingWithCopyWarning: \n",
      "A value is trying to be set on a copy of a slice from a DataFrame.\n",
      "Try using .loc[row_indexer,col_indexer] = value instead\n",
      "\n",
      "See the caveats in the documentation: https://pandas.pydata.org/pandas-docs/stable/user_guide/indexing.html#returning-a-view-versus-a-copy\n",
      "  cr['Year'] = cr['Date'].dt.year\n"
     ]
    }
   ],
   "source": [
    "cr['Year'] = cr['Date'].dt.year"
   ]
  },
  {
   "cell_type": "code",
   "execution_count": 39,
   "metadata": {},
   "outputs": [
    {
     "data": {
      "text/plain": [
       "157156"
      ]
     },
     "execution_count": 39,
     "metadata": {},
     "output_type": "execute_result"
    }
   ],
   "source": [
    "len(cr[cr['Year']<2024]) # matches Jason's count."
   ]
  },
  {
   "cell_type": "code",
   "execution_count": 42,
   "metadata": {},
   "outputs": [],
   "source": [
    "cr = cr[cr['Year']<2024]"
   ]
  },
  {
   "cell_type": "code",
   "execution_count": 21,
   "metadata": {},
   "outputs": [
    {
     "name": "stderr",
     "output_type": "stream",
     "text": [
      "C:\\Users\\angel\\AppData\\Local\\Temp\\ipykernel_14552\\1760351394.py:6: DtypeWarning: Columns (28) have mixed types. Specify dtype option on import or set low_memory=False.\n",
      "  sod = pd.read_csv('sod_clean.csv')\n"
     ]
    }
   ],
   "source": [
    "path = 'C:/Users/angel/Documents/Economics/Research/Banking Project/data/intermediate/sod'\n",
    "\n",
    "# Set path to be the directory:\n",
    "os.chdir(path)\n",
    "\n",
    "sod = pd.read_csv('sod_clean.csv')"
   ]
  },
  {
   "cell_type": "code",
   "execution_count": 25,
   "metadata": {},
   "outputs": [],
   "source": [
    "# Rename 'RSSDID' to 'IDRSSD' to match the name in the call reports data:\n",
    "sod = sod.rename(columns = {'RSSDID':'IDRSSD', 'YEAR':'Year'})\n",
    "\n",
    "len(sod[sod['Year'] > 2000]) # matches Jason's count."
   ]
  },
  {
   "cell_type": "code",
   "execution_count": 43,
   "metadata": {},
   "outputs": [],
   "source": [
    "sod = sod[sod['Year'] > 2000]"
   ]
  },
  {
   "cell_type": "code",
   "execution_count": 88,
   "metadata": {},
   "outputs": [],
   "source": [
    "# Merge the two datasets on the 'IDRSSD' and 'Year' columns:\n",
    "df = pd.merge(cr, sod, on = ['IDRSSD', 'Year'], how = 'outer', indicator=True)"
   ]
  },
  {
   "cell_type": "code",
   "execution_count": 81,
   "metadata": {},
   "outputs": [
    {
     "data": {
      "text/plain": [
       "2092862"
      ]
     },
     "execution_count": 81,
     "metadata": {},
     "output_type": "execute_result"
    }
   ],
   "source": [
    "#len(df)     # matches Jason's count."
   ]
  },
  {
   "cell_type": "code",
   "execution_count": 112,
   "metadata": {},
   "outputs": [],
   "source": [
    "# All those checks are made to access the quality of the merge. They match with Jason's numbers.\n",
    "#df['Total Deposit'].isna().groupby(df['Year']).sum().sum()\n",
    "#df['BRNUM'].isna().groupby(df['Year']).sum().sum()\n",
    "#df[df['_merge']== 'right_only'].groupby('Year')['DEPSUMBR'].sum()"
   ]
  },
  {
   "cell_type": "code",
   "execution_count": 114,
   "metadata": {},
   "outputs": [],
   "source": [
    "df2 = df[df['Total Deposit']>0]"
   ]
  },
  {
   "cell_type": "code",
   "execution_count": 124,
   "metadata": {},
   "outputs": [
    {
     "data": {
      "text/plain": [
       "Index(['Date', 'IDRSSD', 'Total Deposit', 'Deposit Expenditure',\n",
       "       'Deposit Rate', 'Year', 'CERT', 'BRNUM', 'UNINUMBR', 'NAMEFULL',\n",
       "       'ADDRESBR', 'CITYBR', 'CNTYNAMB', 'STALPBR', 'ZIPBR', 'BRCENM',\n",
       "       'CONSOLD', 'BRSERTYP', 'DEPSUMBR', 'BKMO', 'CBSA_DIV_NAMB', 'CITY2BR',\n",
       "       'CNTRYNAB', 'CNTYNUMB', 'CSABR', 'CSANAMBR', 'DIVISIONB', 'MSABR',\n",
       "       'MSANAMB', 'METROBR', 'MICROBR', 'NAMEBR', 'NECTABR', 'NECNAMB',\n",
       "       'PLACENUM', 'SIMS_ACQUIRED_DATE', 'SIMS_ESTABLISHED_DATE',\n",
       "       'SIMS_LATITUDE', 'SIMS_LONGITUDE', 'SIMS_DESCRIPTION',\n",
       "       'SIMS_PROJECTION', 'STCNTYBR', 'STNAMEBR', 'STNUMBR', 'HCTMULT',\n",
       "       'RSSDHCR', 'NAMEHCR', 'CITYHCR', 'STALPHCR', 'UNIT', 'ADDRESS', 'CITY',\n",
       "       'STALP', 'ZIP', 'ASSET', 'BKCLASS', 'CALL', 'CHARTER', 'CHRTAGNN',\n",
       "       'CHRTAGNT', 'CLCODE', 'CNTRYNA', 'DENOVO', 'DEPDOM', 'DEPSUM', 'DOCKET',\n",
       "       'ESCROW', 'FDICDBS', 'FDICNAME', 'FED', 'FEDNAME', 'INSAGNT1',\n",
       "       'INSURED', 'INSBRDD', 'INSBRTS', 'OCCDIST', 'OCCNAME', 'REGAGNT',\n",
       "       'SPECGRP', 'SPECDESC', 'STCNTY', 'STNAME', 'USA', 'Metrobr', 'Microbr',\n",
       "       'County Code', 'County Title', 'MSA Code', 'MSA Title', 'CSA Code',\n",
       "       'CSA Title', '_merge'],\n",
       "      dtype='object')"
      ]
     },
     "execution_count": 124,
     "metadata": {},
     "output_type": "execute_result"
    }
   ],
   "source": [
    "df2.columns"
   ]
  },
  {
   "cell_type": "code",
   "execution_count": null,
   "metadata": {},
   "outputs": [],
   "source": []
  },
  {
   "cell_type": "code",
   "execution_count": null,
   "metadata": {},
   "outputs": [],
   "source": []
  }
 ],
 "metadata": {
  "kernelspec": {
   "display_name": "Python 3",
   "language": "python",
   "name": "python3"
  },
  "language_info": {
   "codemirror_mode": {
    "name": "ipython",
    "version": 3
   },
   "file_extension": ".py",
   "mimetype": "text/x-python",
   "name": "python",
   "nbconvert_exporter": "python",
   "pygments_lexer": "ipython3",
   "version": "3.11.9"
  }
 },
 "nbformat": 4,
 "nbformat_minor": 2
}
