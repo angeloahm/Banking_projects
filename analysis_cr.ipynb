{
 "cells": [
  {
   "cell_type": "code",
   "execution_count": 1,
   "metadata": {},
   "outputs": [],
   "source": [
    "# Load packages\n",
    "import numpy as np\n",
    "import os\n",
    "import pandas as pd\n",
    "import seaborn as sns\n",
    "import matplotlib.pyplot as plt"
   ]
  },
  {
   "cell_type": "code",
   "execution_count": 4,
   "metadata": {},
   "outputs": [],
   "source": [
    "path = 'C:/Users/IRAXA11/Documents/Research/Banking Project/Call Reports'\n",
    "\n",
    "# Set path to be the directory:\n",
    "os.chdir(path)"
   ]
  },
  {
   "cell_type": "code",
   "execution_count": 5,
   "metadata": {},
   "outputs": [
    {
     "data": {
      "text/plain": [
       "['2001(1 of 2).csv',\n",
       " '2001(2 of 2).csv',\n",
       " '2002(1 of 2).csv',\n",
       " '2002(2 of 2).csv',\n",
       " '2003(1 of 2).csv',\n",
       " '2003(2 of 2).csv',\n",
       " '2004(1 of 2).csv',\n",
       " '2004(2 of 2).csv',\n",
       " '2005(1 of 2).csv',\n",
       " '2005(2 of 2).csv',\n",
       " '2006(1 of 2).csv',\n",
       " '2006(2 of 2).csv',\n",
       " '2007(1 of 2).csv',\n",
       " '2007(2 of 2).csv',\n",
       " '2008(1 of 2).csv',\n",
       " '2008(2 of 2).csv',\n",
       " '2009(1 of 2).csv',\n",
       " '2009(2 of 2).csv',\n",
       " '2010(1 of 2).csv',\n",
       " '2010(2 of 2).csv',\n",
       " '2011(1 of 3).csv',\n",
       " '2011(2 of 3).csv',\n",
       " '2011(3 of 3).csv',\n",
       " '2012(1 of 3).csv',\n",
       " '2012(2 of 3).csv',\n",
       " '2012(3 of 3).csv',\n",
       " '2013(1 of 3).csv',\n",
       " '2013(2 of 3).csv',\n",
       " '2013(3 of 3).csv',\n",
       " '2014(1 of 3).csv',\n",
       " '2014(2 of 3).csv',\n",
       " '2014(3 of 3).csv',\n",
       " '2015(1 of 3).csv',\n",
       " '2015(2 of 3).csv',\n",
       " '2015(3 of 3).csv',\n",
       " '2016(1 of 3).csv',\n",
       " '2016(2 of 3).csv',\n",
       " '2016(3 of 3).csv',\n",
       " '2017(1 of 2).csv',\n",
       " '2017(2 of 2).csv',\n",
       " '2018(1 of 2).csv',\n",
       " '2018(2 of 2).csv',\n",
       " '2019(1 of 2).csv',\n",
       " '2019(2 of 2).csv',\n",
       " '2020(1 of 2).csv',\n",
       " '2020(2 of 2).csv',\n",
       " '2021(1 of 2).csv',\n",
       " '2021(2 of 2).csv',\n",
       " '2022(1 of 2).csv',\n",
       " '2022(2 of 2).csv',\n",
       " '2023(1 of 2).csv',\n",
       " '2023(2 of 2).csv',\n",
       " '2024(1 of 2).csv',\n",
       " '2024(2 of 2).csv',\n",
       " 'FFIEC CDR Call Bulk Subset of Schedules 2001',\n",
       " 'FFIEC CDR Call Bulk Subset of Schedules 2002',\n",
       " 'FFIEC CDR Call Bulk Subset of Schedules 2003',\n",
       " 'FFIEC CDR Call Bulk Subset of Schedules 2004',\n",
       " 'FFIEC CDR Call Bulk Subset of Schedules 2005',\n",
       " 'FFIEC CDR Call Bulk Subset of Schedules 2006',\n",
       " 'FFIEC CDR Call Bulk Subset of Schedules 2007',\n",
       " 'FFIEC CDR Call Bulk Subset of Schedules 2008',\n",
       " 'FFIEC CDR Call Bulk Subset of Schedules 2009',\n",
       " 'FFIEC CDR Call Bulk Subset of Schedules 2010',\n",
       " 'FFIEC CDR Call Bulk Subset of Schedules 2011',\n",
       " 'FFIEC CDR Call Bulk Subset of Schedules 2012',\n",
       " 'FFIEC CDR Call Bulk Subset of Schedules 2013',\n",
       " 'FFIEC CDR Call Bulk Subset of Schedules 2014',\n",
       " 'FFIEC CDR Call Bulk Subset of Schedules 2015',\n",
       " 'FFIEC CDR Call Bulk Subset of Schedules 2016',\n",
       " 'FFIEC CDR Call Bulk Subset of Schedules 2017',\n",
       " 'FFIEC CDR Call Bulk Subset of Schedules 2018',\n",
       " 'FFIEC CDR Call Bulk Subset of Schedules 2019',\n",
       " 'FFIEC CDR Call Bulk Subset of Schedules 2020',\n",
       " 'FFIEC CDR Call Bulk Subset of Schedules 2021',\n",
       " 'FFIEC CDR Call Bulk Subset of Schedules 2022',\n",
       " 'FFIEC CDR Call Bulk Subset of Schedules 2023',\n",
       " 'FFIEC CDR Call Bulk Subset of Schedules 2024']"
      ]
     },
     "execution_count": 5,
     "metadata": {},
     "output_type": "execute_result"
    }
   ],
   "source": [
    "# show the files in the directory:\n",
    "os.listdir()"
   ]
  },
  {
   "cell_type": "code",
   "execution_count": null,
   "metadata": {},
   "outputs": [],
   "source": [
    "\n",
    "# read data from the csv file:\n",
    "df = pd.read_csv('call_reports.csv')"
   ]
  },
  {
   "cell_type": "code",
   "execution_count": null,
   "metadata": {},
   "outputs": [],
   "source": []
  },
  {
   "cell_type": "code",
   "execution_count": null,
   "metadata": {},
   "outputs": [],
   "source": []
  },
  {
   "cell_type": "code",
   "execution_count": null,
   "metadata": {},
   "outputs": [],
   "source": []
  }
 ],
 "metadata": {
  "kernelspec": {
   "display_name": "Python 3",
   "language": "python",
   "name": "python3"
  },
  "language_info": {
   "codemirror_mode": {
    "name": "ipython",
    "version": 3
   },
   "file_extension": ".py",
   "mimetype": "text/x-python",
   "name": "python",
   "nbconvert_exporter": "python",
   "pygments_lexer": "ipython3",
   "version": "3.11.7"
  }
 },
 "nbformat": 4,
 "nbformat_minor": 2
}
