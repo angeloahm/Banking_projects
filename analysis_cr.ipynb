{
 "cells": [
  {
   "cell_type": "code",
   "execution_count": 1,
   "metadata": {},
   "outputs": [],
   "source": [
    "# Load packages\n",
    "import numpy as np\n",
    "import os\n",
    "import pandas as pd\n",
    "import seaborn as sns\n",
    "import matplotlib.pyplot as plt"
   ]
  },
  {
   "cell_type": "code",
<<<<<<< HEAD
   "execution_count": 4,
=======
   "execution_count": 2,
>>>>>>> 2ec136179e63aa929f3915ba0a1e68695b31420c
   "metadata": {},
   "outputs": [],
   "source": [
    "path = 'C:/Users/IRAXA11/Documents/Research/Banking Project/Call Reports'\n",
    "\n",
    "# Set path to be the directory:\n",
    "os.chdir(path)"
   ]
  },
  {
   "cell_type": "code",
<<<<<<< HEAD
   "execution_count": 5,
   "metadata": {},
   "outputs": [
    {
     "data": {
      "text/plain": [
       "['2001(1 of 2).csv',\n",
       " '2001(2 of 2).csv',\n",
       " '2002(1 of 2).csv',\n",
       " '2002(2 of 2).csv',\n",
       " '2003(1 of 2).csv',\n",
       " '2003(2 of 2).csv',\n",
       " '2004(1 of 2).csv',\n",
       " '2004(2 of 2).csv',\n",
       " '2005(1 of 2).csv',\n",
       " '2005(2 of 2).csv',\n",
       " '2006(1 of 2).csv',\n",
       " '2006(2 of 2).csv',\n",
       " '2007(1 of 2).csv',\n",
       " '2007(2 of 2).csv',\n",
       " '2008(1 of 2).csv',\n",
       " '2008(2 of 2).csv',\n",
       " '2009(1 of 2).csv',\n",
       " '2009(2 of 2).csv',\n",
       " '2010(1 of 2).csv',\n",
       " '2010(2 of 2).csv',\n",
       " '2011(1 of 3).csv',\n",
       " '2011(2 of 3).csv',\n",
       " '2011(3 of 3).csv',\n",
       " '2012(1 of 3).csv',\n",
       " '2012(2 of 3).csv',\n",
       " '2012(3 of 3).csv',\n",
       " '2013(1 of 3).csv',\n",
       " '2013(2 of 3).csv',\n",
       " '2013(3 of 3).csv',\n",
       " '2014(1 of 3).csv',\n",
       " '2014(2 of 3).csv',\n",
       " '2014(3 of 3).csv',\n",
       " '2015(1 of 3).csv',\n",
       " '2015(2 of 3).csv',\n",
       " '2015(3 of 3).csv',\n",
       " '2016(1 of 3).csv',\n",
       " '2016(2 of 3).csv',\n",
       " '2016(3 of 3).csv',\n",
       " '2017(1 of 2).csv',\n",
       " '2017(2 of 2).csv',\n",
       " '2018(1 of 2).csv',\n",
       " '2018(2 of 2).csv',\n",
       " '2019(1 of 2).csv',\n",
       " '2019(2 of 2).csv',\n",
       " '2020(1 of 2).csv',\n",
       " '2020(2 of 2).csv',\n",
       " '2021(1 of 2).csv',\n",
       " '2021(2 of 2).csv',\n",
       " '2022(1 of 2).csv',\n",
       " '2022(2 of 2).csv',\n",
       " '2023(1 of 2).csv',\n",
       " '2023(2 of 2).csv',\n",
       " '2024(1 of 2).csv',\n",
       " '2024(2 of 2).csv',\n",
       " 'FFIEC CDR Call Bulk Subset of Schedules 2001',\n",
       " 'FFIEC CDR Call Bulk Subset of Schedules 2002',\n",
       " 'FFIEC CDR Call Bulk Subset of Schedules 2003',\n",
       " 'FFIEC CDR Call Bulk Subset of Schedules 2004',\n",
       " 'FFIEC CDR Call Bulk Subset of Schedules 2005',\n",
       " 'FFIEC CDR Call Bulk Subset of Schedules 2006',\n",
       " 'FFIEC CDR Call Bulk Subset of Schedules 2007',\n",
       " 'FFIEC CDR Call Bulk Subset of Schedules 2008',\n",
       " 'FFIEC CDR Call Bulk Subset of Schedules 2009',\n",
       " 'FFIEC CDR Call Bulk Subset of Schedules 2010',\n",
       " 'FFIEC CDR Call Bulk Subset of Schedules 2011',\n",
       " 'FFIEC CDR Call Bulk Subset of Schedules 2012',\n",
       " 'FFIEC CDR Call Bulk Subset of Schedules 2013',\n",
       " 'FFIEC CDR Call Bulk Subset of Schedules 2014',\n",
       " 'FFIEC CDR Call Bulk Subset of Schedules 2015',\n",
       " 'FFIEC CDR Call Bulk Subset of Schedules 2016',\n",
       " 'FFIEC CDR Call Bulk Subset of Schedules 2017',\n",
       " 'FFIEC CDR Call Bulk Subset of Schedules 2018',\n",
       " 'FFIEC CDR Call Bulk Subset of Schedules 2019',\n",
       " 'FFIEC CDR Call Bulk Subset of Schedules 2020',\n",
       " 'FFIEC CDR Call Bulk Subset of Schedules 2021',\n",
       " 'FFIEC CDR Call Bulk Subset of Schedules 2022',\n",
       " 'FFIEC CDR Call Bulk Subset of Schedules 2023',\n",
       " 'FFIEC CDR Call Bulk Subset of Schedules 2024']"
      ]
     },
     "execution_count": 5,
     "metadata": {},
     "output_type": "execute_result"
    }
   ],
   "source": [
    "# show the files in the directory:\n",
    "os.listdir()"
   ]
  },
  {
   "cell_type": "code",
   "execution_count": null,
=======
   "execution_count": 3,
>>>>>>> 2ec136179e63aa929f3915ba0a1e68695b31420c
   "metadata": {},
   "outputs": [],
   "source": [
    "\n",
    "# read data from the csv file:\n",
    "df = pd.read_csv('call_reports.csv')"
   ]
  },
  {
   "cell_type": "code",
<<<<<<< HEAD
   "execution_count": null,
   "metadata": {},
   "outputs": [],
=======
   "execution_count": 8,
   "metadata": {},
   "outputs": [],
   "source": [
    "# Create a set in which var_name is either 'RIADA517', 'RIADA518', 'RIAD4508', 'RIAD0093', 'RIADHK03', or 'RIADHK04':\n",
    "temp = df[df['var_name'].isin(['RIADA517', 'RIADA518', 'RIAD4508', 'RIAD0093', 'RIADHK03', 'RIADHK04'])]\n"
   ]
  },
  {
   "cell_type": "code",
   "execution_count": 22,
   "metadata": {},
   "outputs": [],
   "source": [
    "var_pre_2017 = ['RIADA517', 'RIADA518', 'RIAD4508', 'RIAD0093']\n",
    "var_post_2017 = ['RIADHK03', 'RIADHK04', 'RIAD4508', 'RIAD0093']"
   ]
  },
  {
   "cell_type": "code",
   "execution_count": 23,
   "metadata": {},
   "outputs": [],
   "source": [
    "# Filter and sum for dates before 2017\n",
    "temp_before_2017 = temp[(temp['variable'].isin(var_pre_2017)) & (temp['Reporting Period End Date'] < '2017-01-01')]\n",
    "temp_before_2017_grouped = temp_before_2017.groupby(['IDRSSD', 'Reporting Period End Date'])['value'].sum().reset_index()\n",
    "temp_before_2017_grouped.rename(columns={'value': 'Dep_Expenditure'}, inplace=True)\n",
    "\n"
   ]
  },
  {
   "cell_type": "code",
   "execution_count": 24,
   "metadata": {},
   "outputs": [],
   "source": [
    "# Filter and sum for dates from 2017 onwards\n",
    "temp_from_2017 = temp[(temp['variable'].isin(var_post_2017)) & (temp['Reporting Period End Date'] >= '2017-01-01')]\n",
    "temp_from_2017_grouped = temp_from_2017.groupby(['IDRSSD', 'Reporting Period End Date'])['value'].sum().reset_index()\n",
    "temp_from_2017_grouped.rename(columns={'value': 'Dep_Expenditure'}, inplace=True)\n"
   ]
  },
  {
   "cell_type": "code",
   "execution_count": 25,
   "metadata": {},
   "outputs": [],
   "source": [
    "# Merge both grouped dataframes with the original dataframe\n",
    "temp = temp.merge(temp_before_2017_grouped, on=['IDRSSD', 'Reporting Period End Date'], how='left', suffixes=('', '_before_2017'))\n",
    "temp = temp.merge(temp_from_2017_grouped, on=['IDRSSD', 'Reporting Period End Date'], how='left', suffixes=('', '_from_2017'))"
   ]
  },
  {
   "cell_type": "code",
   "execution_count": 29,
   "metadata": {},
   "outputs": [],
   "source": [
    "# Combine the two Dep_Expenditure columns into one\n",
    "temp['Dep_Expenditure'] = temp['Dep_Expenditure'].combine_first(temp['Dep_Expenditure'])\n",
    "temp['Dep_Expenditure'] = temp['Dep_Expenditure'].combine_first(temp['Dep_Expenditure_from_2017'])"
   ]
  },
  {
   "cell_type": "code",
   "execution_count": 30,
   "metadata": {},
   "outputs": [],
   "source": [
    "# Drop the extra columns used for merging\n",
    "temp.drop(columns=['Dep_Expenditure_from_2017'], inplace=True)\n"
   ]
  },
  {
   "cell_type": "code",
   "execution_count": 33,
   "metadata": {},
   "outputs": [
    {
     "data": {
      "text/plain": [
       "Index(['Reporting Period End Date', 'IDRSSD', 'FDIC Certificate Number',\n",
       "       'OCC Charter Number', 'OTS Docket Number', 'Primary ABA Routing Number',\n",
       "       'Financial Institution Name', 'Financial Institution Address',\n",
       "       'Financial Institution City', 'Financial Institution State',\n",
       "       'Financial Institution Zip Code', 'Financial Institution Filing Type',\n",
       "       'Last Date/Time Submission Updated On', 'variable', 'value', 'year',\n",
       "       'var_name', 'Item Name', 'Dep_Expenditure'],\n",
       "      dtype='object')"
      ]
     },
     "execution_count": 33,
     "metadata": {},
     "output_type": "execute_result"
    }
   ],
   "source": [
    "# Save temp to a csv file:\n",
    "temp.to_csv('expenditure_data.csv', index=False)"
   ]
  },
  {
   "cell_type": "code",
   "execution_count": 10,
   "metadata": {},
   "outputs": [],
   "source": [
    "# open file 2009.csv:\n",
    "test = pd.read_csv('2009.csv')"
   ]
  },
  {
   "cell_type": "code",
   "execution_count": 12,
   "metadata": {},
   "outputs": [
    {
     "data": {
      "text/html": [
       "<div>\n",
       "<style scoped>\n",
       "    .dataframe tbody tr th:only-of-type {\n",
       "        vertical-align: middle;\n",
       "    }\n",
       "\n",
       "    .dataframe tbody tr th {\n",
       "        vertical-align: top;\n",
       "    }\n",
       "\n",
       "    .dataframe thead th {\n",
       "        text-align: right;\n",
       "    }\n",
       "</style>\n",
       "<table border=\"1\" class=\"dataframe\">\n",
       "  <thead>\n",
       "    <tr style=\"text-align: right;\">\n",
       "      <th></th>\n",
       "      <th>Reporting Period End Date</th>\n",
       "      <th>IDRSSD</th>\n",
       "      <th>FDIC Certificate Number</th>\n",
       "      <th>OCC Charter Number</th>\n",
       "      <th>OTS Docket Number</th>\n",
       "      <th>Primary ABA Routing Number</th>\n",
       "      <th>Financial Institution Name</th>\n",
       "      <th>Financial Institution Address</th>\n",
       "      <th>Financial Institution City</th>\n",
       "      <th>Financial Institution State</th>\n",
       "      <th>Financial Institution Zip Code</th>\n",
       "      <th>Financial Institution Filing Type</th>\n",
       "      <th>Last Date/Time Submission Updated On</th>\n",
       "      <th>variable</th>\n",
       "      <th>value</th>\n",
       "      <th>year</th>\n",
       "      <th>var_name</th>\n",
       "      <th>Item Name</th>\n",
       "    </tr>\n",
       "  </thead>\n",
       "  <tbody>\n",
       "  </tbody>\n",
       "</table>\n",
       "</div>"
      ],
      "text/plain": [
       "Empty DataFrame\n",
       "Columns: [Reporting Period End Date, IDRSSD, FDIC Certificate Number, OCC Charter Number, OTS Docket Number, Primary ABA Routing Number, Financial Institution Name, Financial Institution Address, Financial Institution City, Financial Institution State, Financial Institution Zip Code, Financial Institution Filing Type, Last Date/Time Submission Updated On, variable, value, year, var_name, Item Name]\n",
       "Index: []"
      ]
     },
     "execution_count": 12,
     "metadata": {},
     "output_type": "execute_result"
    }
   ],
>>>>>>> 2ec136179e63aa929f3915ba0a1e68695b31420c
   "source": []
  }
 ],
 "metadata": {
  "kernelspec": {
   "display_name": "Python 3",
   "language": "python",
   "name": "python3"
  },
  "language_info": {
   "codemirror_mode": {
    "name": "ipython",
    "version": 3
   },
   "file_extension": ".py",
   "mimetype": "text/x-python",
   "name": "python",
   "nbconvert_exporter": "python",
   "pygments_lexer": "ipython3",
   "version": "3.11.7"
  }
 },
 "nbformat": 4,
 "nbformat_minor": 2
}
