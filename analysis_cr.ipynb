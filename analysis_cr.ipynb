{
 "cells": [
  {
   "cell_type": "code",
   "execution_count": 2,
   "metadata": {},
   "outputs": [],
   "source": [
    "# Load packages\n",
    "import numpy as np\n",
    "import os\n",
    "import pandas as pd\n",
    "import seaborn as sns\n",
    "import matplotlib.pyplot as plt"
   ]
  },
  {
   "cell_type": "code",
   "execution_count": 3,
   "metadata": {},
   "outputs": [],
   "source": [
    "# set the path to be 'C:\\Users\\angel\\Documents\\Economics\\Research\\Banking Project\\data\\raw\\Call Reports\\FRY9\\_extracted':\n",
    "path = 'C:\\\\Users\\\\angel\\\\Documents\\\\Economics\\\\Research\\\\Banking Project\\\\data\\\\intermediate\\\\call_reports'\n",
    "\n",
    "# Set path to be the directory:\n",
    "os.chdir(path)"
   ]
  },
  {
   "cell_type": "code",
   "execution_count": 4,
   "metadata": {},
   "outputs": [],
   "source": [
    "\n",
    "# read data from the csv file:\n",
    "df = pd.read_csv('call_reports.csv')"
   ]
  },
  {
   "cell_type": "code",
   "execution_count": 6,
   "metadata": {},
   "outputs": [
    {
     "data": {
      "text/html": [
       "<div>\n",
       "<style scoped>\n",
       "    .dataframe tbody tr th:only-of-type {\n",
       "        vertical-align: middle;\n",
       "    }\n",
       "\n",
       "    .dataframe tbody tr th {\n",
       "        vertical-align: top;\n",
       "    }\n",
       "\n",
       "    .dataframe thead th {\n",
       "        text-align: right;\n",
       "    }\n",
       "</style>\n",
       "<table border=\"1\" class=\"dataframe\">\n",
       "  <thead>\n",
       "    <tr style=\"text-align: right;\">\n",
       "      <th></th>\n",
       "      <th>Reporting Period End Date</th>\n",
       "      <th>IDRSSD</th>\n",
       "      <th>FDIC Certificate Number</th>\n",
       "      <th>OCC Charter Number</th>\n",
       "      <th>OTS Docket Number</th>\n",
       "      <th>Primary ABA Routing Number</th>\n",
       "      <th>Financial Institution Name</th>\n",
       "      <th>Financial Institution Address</th>\n",
       "      <th>Financial Institution City</th>\n",
       "      <th>Financial Institution State</th>\n",
       "      <th>Financial Institution Zip Code</th>\n",
       "      <th>Financial Institution Filing Type</th>\n",
       "      <th>Last Date/Time Submission Updated On</th>\n",
       "      <th>variable</th>\n",
       "      <th>value</th>\n",
       "      <th>year</th>\n",
       "      <th>var_name</th>\n",
       "      <th>Item Name</th>\n",
       "    </tr>\n",
       "  </thead>\n",
       "  <tbody>\n",
       "  </tbody>\n",
       "</table>\n",
       "</div>"
      ],
      "text/plain": [
       "Empty DataFrame\n",
       "Columns: [Reporting Period End Date, IDRSSD, FDIC Certificate Number, OCC Charter Number, OTS Docket Number, Primary ABA Routing Number, Financial Institution Name, Financial Institution Address, Financial Institution City, Financial Institution State, Financial Institution Zip Code, Financial Institution Filing Type, Last Date/Time Submission Updated On, variable, value, year, var_name, Item Name]\n",
       "Index: []"
      ]
     },
     "execution_count": 6,
     "metadata": {},
     "output_type": "execute_result"
    }
   ],
   "source": []
  },
  {
   "cell_type": "code",
   "execution_count": null,
   "metadata": {},
   "outputs": [],
   "source": []
  },
  {
   "cell_type": "code",
   "execution_count": null,
   "metadata": {},
   "outputs": [],
   "source": []
  }
 ],
 "metadata": {
  "kernelspec": {
   "display_name": "Python 3",
   "language": "python",
   "name": "python3"
  },
  "language_info": {
   "codemirror_mode": {
    "name": "ipython",
    "version": 3
   },
   "file_extension": ".py",
   "mimetype": "text/x-python",
   "name": "python",
   "nbconvert_exporter": "python",
   "pygments_lexer": "ipython3",
   "version": "3.11.9"
  }
 },
 "nbformat": 4,
 "nbformat_minor": 2
}
