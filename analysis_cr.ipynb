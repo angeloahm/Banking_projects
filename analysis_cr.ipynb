{
 "cells": [
  {
   "cell_type": "code",
   "execution_count": 1,
   "metadata": {},
   "outputs": [],
   "source": [
    "# Load packages\n",
    "import numpy as np\n",
    "import os\n",
    "import pandas as pd\n",
    "import seaborn as sns\n",
    "import matplotlib.pyplot as plt"
   ]
  },
  {
   "cell_type": "code",
   "execution_count": 2,
   "metadata": {},
   "outputs": [],
   "source": [
    "path = 'C:/Users/IRAXA11/Documents/Research/Banking Project/Call Reports/files'\n",
    "\n",
    "# Set path to be the directory:\n",
    "os.chdir(path)"
   ]
  },
  {
   "cell_type": "code",
   "execution_count": 3,
   "metadata": {},
   "outputs": [
    {
     "data": {
      "text/plain": [
       "['2001(1 of 2).csv',\n",
       " '2001(2 of 2).csv',\n",
       " '2002(1 of 2).csv',\n",
       " '2002(2 of 2).csv',\n",
       " '2003(1 of 2).csv',\n",
       " '2003(2 of 2).csv',\n",
       " '2004(1 of 2).csv',\n",
       " '2004(2 of 2).csv',\n",
       " '2005(1 of 2).csv',\n",
       " '2005(2 of 2).csv',\n",
       " '2006(1 of 2).csv',\n",
       " '2006(2 of 2).csv',\n",
       " '2007(1 of 2).csv',\n",
       " '2007(2 of 2).csv',\n",
       " '2008(1 of 2).csv',\n",
       " '2008(2 of 2).csv',\n",
       " '2009(1 of 2).csv',\n",
       " '2009(2 of 2).csv',\n",
       " '2010(1 of 2).csv',\n",
       " '2010(2 of 2).csv',\n",
       " '2011(1 of 3).csv',\n",
       " '2011(2 of 3).csv',\n",
       " '2011(3 of 3).csv',\n",
       " '2012(1 of 3).csv',\n",
       " '2012(2 of 3).csv',\n",
       " '2012(3 of 3).csv',\n",
       " '2013(1 of 3).csv',\n",
       " '2013(2 of 3).csv',\n",
       " '2013(3 of 3).csv',\n",
       " '2014(1 of 3).csv',\n",
       " '2014(2 of 3).csv',\n",
       " '2014(3 of 3).csv',\n",
       " '2015(1 of 3).csv',\n",
       " '2015(2 of 3).csv',\n",
       " '2015(3 of 3).csv',\n",
       " '2016(1 of 3).csv',\n",
       " '2016(2 of 3).csv',\n",
       " '2016(3 of 3).csv',\n",
       " '2017(1 of 2).csv',\n",
       " '2017(2 of 2).csv',\n",
       " '2018(1 of 2).csv',\n",
       " '2018(2 of 2).csv',\n",
       " '2019(1 of 2).csv',\n",
       " '2019(2 of 2).csv',\n",
       " '2020(1 of 2).csv',\n",
       " '2020(2 of 2).csv',\n",
       " '2021(1 of 2).csv',\n",
       " '2021(2 of 2).csv',\n",
       " '2022(1 of 2).csv',\n",
       " '2022(2 of 2).csv',\n",
       " '2023(1 of 2).csv',\n",
       " '2023(2 of 2).csv',\n",
       " '2024(1 of 2).csv',\n",
       " '2024(2 of 2).csv']"
      ]
     },
     "execution_count": 3,
     "metadata": {},
     "output_type": "execute_result"
    }
   ],
   "source": [
    "# show the files in the directory:\n",
    "os.listdir()"
   ]
  },
  {
   "cell_type": "code",
   "execution_count": 8,
   "metadata": {},
   "outputs": [],
   "source": [
    "# for each file in the list of files, read the files and generate one single dataframe:\n",
    "df = pd.concat([pd.read_csv(f, usecols=['Reporting Period End Date', 'IDRSSD', 'var_name']) for f in os.listdir() if f.endswith('.csv')], ignore_index = True)"
   ]
  },
  {
   "cell_type": "code",
   "execution_count": 10,
   "metadata": {},
   "outputs": [],
   "source": [
    "# list of var_names:\n",
    "list = ['RIADA517', 'RIADA518', 'RIAD4508', 'RIAD0093', 'RIADHK03', 'RIADHK04', 'RCON6636']"
   ]
  },
  {
   "cell_type": "code",
   "execution_count": 11,
   "metadata": {},
   "outputs": [],
   "source": [
    "# create a subset of df with only the var_names in the list:\n",
    "df2 = df[df['var_name'].isin(list)]"
   ]
  },
  {
   "cell_type": "code",
   "execution_count": 14,
   "metadata": {},
   "outputs": [],
   "source": [
    "df2.to_csv('C:/Users/IRAXA11/Documents/Research/Banking Project/Call Reports/files/df2.csv', index = False)"
   ]
  },
  {
   "cell_type": "code",
   "execution_count": null,
   "metadata": {},
   "outputs": [],
   "source": []
  }
 ],
 "metadata": {
  "kernelspec": {
   "display_name": "Python 3",
   "language": "python",
   "name": "python3"
  },
  "language_info": {
   "codemirror_mode": {
    "name": "ipython",
    "version": 3
   },
   "file_extension": ".py",
   "mimetype": "text/x-python",
   "name": "python",
   "nbconvert_exporter": "python",
   "pygments_lexer": "ipython3",
   "version": "3.11.7"
  }
 },
 "nbformat": 4,
 "nbformat_minor": 2
}
