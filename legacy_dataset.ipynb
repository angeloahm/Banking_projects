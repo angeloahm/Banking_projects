{
 "cells": [
  {
   "cell_type": "markdown",
   "metadata": {},
   "source": [
    "## Preamble"
   ]
  },
  {
   "cell_type": "code",
   "execution_count": 359,
   "metadata": {},
   "outputs": [],
   "source": [
    "# Load packages\n",
    "import os\n",
    "import numpy as np\n",
    "import pandas as pd\n",
    "import seaborn as sns\n",
    "import matplotlib.pyplot as plt"
   ]
  },
  {
   "cell_type": "code",
   "execution_count": 360,
   "metadata": {},
   "outputs": [],
   "source": [
    "path = 'C:/Users/angel/Documents/Economics/Research/Banking Project/data/intermediate/call_reports_wrds/'\n",
    "\n",
    "# set path as working directory:\n",
    "os.chdir(path)"
   ]
  },
  {
   "cell_type": "code",
   "execution_count": 361,
   "metadata": {},
   "outputs": [],
   "source": [
    "# Load legacy data\n",
    "rcfd_legacy = pd.read_csv(path+'/legacy/RCFD_legacy.csv')\n",
    "#rcfn_legacy = pd.read_csv(path+'/legacy/RCFN_legacy.csv')\n",
    "rcon_legacy = pd.read_csv(path+'/legacy/RCON_legacy.csv')\n",
    "riad_legacy = pd.read_csv(path+'/legacy/RIAD_legacy.csv')"
   ]
  },
  {
   "cell_type": "code",
   "execution_count": 362,
   "metadata": {},
   "outputs": [],
   "source": [
    "rcfd_legacy.rename(columns={'RSSD9999':'Date', 'RSSD9010': 'Financial Institution Name', \n",
    "                     'RSSD9001': 'IDRSSD'}, inplace=True)\n",
    "\n",
    "riad_legacy.rename(columns={'RSSD9999':'Date', 'RSSD9010': 'Financial Institution Name', \n",
    "                     'RSSD9001': 'IDRSSD'}, inplace=True)\n",
    "\n",
    "rcon_legacy.rename(columns={'RSSD9999':'Date', 'RSSD9010': 'Financial Institution Name', \n",
    "                     'RSSD9001': 'IDRSSD'}, inplace=True)"
   ]
  },
  {
   "cell_type": "code",
   "execution_count": 363,
   "metadata": {},
   "outputs": [],
   "source": [
    "rcfd_legacy['Date'] = pd.to_datetime(rcfd_legacy['Date'], format='%Y%m%d')\n",
    "riad_legacy['Date'] = pd.to_datetime(riad_legacy['Date'], format='%Y%m%d')\n",
    "rcon_legacy['Date'] = pd.to_datetime(rcon_legacy['Date'], format='%Y%m%d')"
   ]
  },
  {
   "cell_type": "code",
   "execution_count": 364,
   "metadata": {},
   "outputs": [],
   "source": [
    "# Load newer data\n",
    "rcfd = pd.read_csv(path+'/newer/RCFD.csv')\n",
    "rcfa = pd.read_csv(path+'/newer/RCFA.csv')\n",
    "rcfn = pd.read_csv(path+'/newer/RCFN.csv')\n",
    "rcon = pd.read_csv(path+'/newer/RCON.csv')\n",
    "riad = pd.read_csv(path+'/newer/RIAD.csv')"
   ]
  },
  {
   "cell_type": "code",
   "execution_count": 365,
   "metadata": {},
   "outputs": [],
   "source": [
    "# Rename column RSSD9999 to Date:\n",
    "rcfd.rename(columns={'RSSD9999':'Date', 'RSSD9017': 'Financial Institution Name', \n",
    "                     'RSSD9001': 'IDRSSD'}, inplace=True)\n",
    "\n",
    "rcfa.rename(columns={'RSSD9999':'Date', 'RSSD9017': 'Financial Institution Name', \n",
    "                     'RSSD9001': 'IDRSSD'}, inplace=True)\n",
    "\n",
    "rcfn.rename(columns={'RSSD9999':'Date', 'RSSD9017': 'Financial Institution Name', \n",
    "                     'RSSD9001': 'IDRSSD'}, inplace=True)\n",
    "\n",
    "rcon.rename(columns={'RSSD9999':'Date', 'RSSD9017': 'Financial Institution Name', \n",
    "                     'RSSD9001': 'IDRSSD'}, inplace=True)\n",
    "\n",
    "riad.rename(columns={'RSSD9999':'Date', 'RSSD9017': 'Financial Institution Name', \n",
    "                     'RSSD9001': 'IDRSSD'}, inplace=True)"
   ]
  },
  {
   "cell_type": "code",
   "execution_count": 366,
   "metadata": {},
   "outputs": [],
   "source": [
    "riad['Date'] = pd.to_datetime(riad['Date'], format='%Y-%m-%d')\n",
    "rcfd['Date'] = pd.to_datetime(rcfd['Date'], format='%Y-%m-%d')\n",
    "rcfa['Date'] = pd.to_datetime(rcfa['Date'], format='%Y-%m-%d')\n",
    "rcfn['Date'] = pd.to_datetime(rcfn['Date'], format='%Y-%m-%d')\n",
    "rcon['Date'] = pd.to_datetime(rcon['Date'], format='%Y-%m-%d')"
   ]
  },
  {
   "cell_type": "code",
   "execution_count": 367,
   "metadata": {},
   "outputs": [],
   "source": [
    "# put NaN instead of zeros in rcon and rcon_legacy:\n",
    "rcon['RCON2122'] = rcon['RCON2122'].replace(0, np.nan)\n",
    "rcon_legacy['RCON2122'] = rcon_legacy['RCON2122'].replace(0, np.nan)"
   ]
  },
  {
   "cell_type": "code",
   "execution_count": 368,
   "metadata": {},
   "outputs": [],
   "source": [
    "# merge rcon_legacy and rcfd_legacy in 'Date', 'IDRSSD', 'Financial Institution Name':\n",
    "legacy_df = pd.merge(rcfd_legacy, rcon_legacy, on=['Date', 'IDRSSD', 'Financial Institution Name'], how='outer')\n",
    "\n",
    "# merge rcon and rcfd in 'Date', 'IDRSSD', 'Financial Institution Name':\n",
    "newer_df = pd.merge(rcfd, rcon, on=['Date', 'IDRSSD', 'Financial Institution Name'], how='outer')"
   ]
  },
  {
   "cell_type": "markdown",
   "metadata": {},
   "source": [
    "## Merging Loans"
   ]
  },
  {
   "cell_type": "code",
   "execution_count": null,
   "metadata": {},
   "outputs": [],
   "source": [
    "# show me the dates in rcon_legacy where 'RCON2122' and 'RCON1400' are not NaN:\n",
    "df_rcon = pd.merge(rcon_legacy[['Date', 'IDRSSD', 'RCON2122', 'RCON1400']], \n",
    "                     rcon[['Date', 'Financial Institution Name', 'IDRSSD', 'RCON2122']],\n",
    "                        on=['Date', 'IDRSSD'], suffixes=('_legacy', '_new'), how='outer')\n",
    "# take the difference between RCON2122_new and RCON2122_legacy:\n",
    "df_rcon['Difference'] = df_rcon['RCON2122_new'] - df_rcon['RCON2122_legacy']"
   ]
  },
  {
   "cell_type": "markdown",
   "metadata": {},
   "source": [
    "Note that even for the Dates that _legacy_ and _newer_ RCON series coincide, we have a discrepancies between the those two.  "
   ]
  },
  {
   "cell_type": "code",
   "execution_count": null,
   "metadata": {},
   "outputs": [
    {
     "name": "stdout",
     "output_type": "stream",
     "text": [
      "-10013.973999999998\n"
     ]
    },
    {
     "data": {
      "text/html": [
       "<div>\n",
       "<style scoped>\n",
       "    .dataframe tbody tr th:only-of-type {\n",
       "        vertical-align: middle;\n",
       "    }\n",
       "\n",
       "    .dataframe tbody tr th {\n",
       "        vertical-align: top;\n",
       "    }\n",
       "\n",
       "    .dataframe thead th {\n",
       "        text-align: right;\n",
       "    }\n",
       "</style>\n",
       "<table border=\"1\" class=\"dataframe\">\n",
       "  <thead>\n",
       "    <tr style=\"text-align: right;\">\n",
       "      <th></th>\n",
       "      <th>Date</th>\n",
       "      <th>IDRSSD</th>\n",
       "      <th>RCON2122_legacy</th>\n",
       "      <th>RCON1400</th>\n",
       "      <th>Financial Institution Name</th>\n",
       "      <th>RCON2122_new</th>\n",
       "      <th>Difference</th>\n",
       "    </tr>\n",
       "  </thead>\n",
       "  <tbody>\n",
       "    <tr>\n",
       "      <th>865056</th>\n",
       "      <td>2001-03-31</td>\n",
       "      <td>541101</td>\n",
       "      <td>18336668.0</td>\n",
       "      <td>18368676.0</td>\n",
       "      <td>BANK OF NEW YORK, THE</td>\n",
       "      <td>18307388.0</td>\n",
       "      <td>-29280.0</td>\n",
       "    </tr>\n",
       "    <tr>\n",
       "      <th>865568</th>\n",
       "      <td>2001-03-31</td>\n",
       "      <td>612618</td>\n",
       "      <td>9853944.0</td>\n",
       "      <td>9853952.0</td>\n",
       "      <td>PROVIDENT BANK, THE</td>\n",
       "      <td>8692241.0</td>\n",
       "      <td>-1161703.0</td>\n",
       "    </tr>\n",
       "    <tr>\n",
       "      <th>874283</th>\n",
       "      <td>2001-06-30</td>\n",
       "      <td>541101</td>\n",
       "      <td>19451776.0</td>\n",
       "      <td>19480226.0</td>\n",
       "      <td>BANK OF NEW YORK, THE</td>\n",
       "      <td>19415984.0</td>\n",
       "      <td>-35792.0</td>\n",
       "    </tr>\n",
       "    <tr>\n",
       "      <th>874785</th>\n",
       "      <td>2001-06-30</td>\n",
       "      <td>612618</td>\n",
       "      <td>10630608.0</td>\n",
       "      <td>10630614.0</td>\n",
       "      <td>PROVIDENT BANK, THE</td>\n",
       "      <td>9324889.0</td>\n",
       "      <td>-1305719.0</td>\n",
       "    </tr>\n",
       "    <tr>\n",
       "      <th>883458</th>\n",
       "      <td>2001-09-30</td>\n",
       "      <td>541101</td>\n",
       "      <td>27603209.0</td>\n",
       "      <td>27637280.0</td>\n",
       "      <td>BANK OF NEW YORK, THE</td>\n",
       "      <td>27481980.0</td>\n",
       "      <td>-121229.0</td>\n",
       "    </tr>\n",
       "    <tr>\n",
       "      <th>...</th>\n",
       "      <td>...</td>\n",
       "      <td>...</td>\n",
       "      <td>...</td>\n",
       "      <td>...</td>\n",
       "      <td>...</td>\n",
       "      <td>...</td>\n",
       "      <td>...</td>\n",
       "    </tr>\n",
       "    <tr>\n",
       "      <th>1457462</th>\n",
       "      <td>2021-03-31</td>\n",
       "      <td>3428258</td>\n",
       "      <td>339992.0</td>\n",
       "      <td>NaN</td>\n",
       "      <td>DR BANK</td>\n",
       "      <td>339267.0</td>\n",
       "      <td>-725.0</td>\n",
       "    </tr>\n",
       "    <tr>\n",
       "      <th>1458852</th>\n",
       "      <td>2021-06-30</td>\n",
       "      <td>285348</td>\n",
       "      <td>158778.0</td>\n",
       "      <td>NaN</td>\n",
       "      <td>STATE BANK</td>\n",
       "      <td>160571.0</td>\n",
       "      <td>1793.0</td>\n",
       "    </tr>\n",
       "    <tr>\n",
       "      <th>1460787</th>\n",
       "      <td>2021-06-30</td>\n",
       "      <td>758851</td>\n",
       "      <td>894578.0</td>\n",
       "      <td>NaN</td>\n",
       "      <td>FIRST BANK OF THE LAKE</td>\n",
       "      <td>896692.0</td>\n",
       "      <td>2114.0</td>\n",
       "    </tr>\n",
       "    <tr>\n",
       "      <th>1461773</th>\n",
       "      <td>2021-06-30</td>\n",
       "      <td>987352</td>\n",
       "      <td>182954.0</td>\n",
       "      <td>NaN</td>\n",
       "      <td>RAMSEY NATIONAL BANK</td>\n",
       "      <td>183324.0</td>\n",
       "      <td>370.0</td>\n",
       "    </tr>\n",
       "    <tr>\n",
       "      <th>1462674</th>\n",
       "      <td>2021-06-30</td>\n",
       "      <td>3428258</td>\n",
       "      <td>361364.0</td>\n",
       "      <td>NaN</td>\n",
       "      <td>DR BANK</td>\n",
       "      <td>360639.0</td>\n",
       "      <td>-725.0</td>\n",
       "    </tr>\n",
       "  </tbody>\n",
       "</table>\n",
       "<p>812 rows × 7 columns</p>\n",
       "</div>"
      ],
      "text/plain": [
       "              Date   IDRSSD  RCON2122_legacy    RCON1400  \\\n",
       "865056  2001-03-31   541101       18336668.0  18368676.0   \n",
       "865568  2001-03-31   612618        9853944.0   9853952.0   \n",
       "874283  2001-06-30   541101       19451776.0  19480226.0   \n",
       "874785  2001-06-30   612618       10630608.0  10630614.0   \n",
       "883458  2001-09-30   541101       27603209.0  27637280.0   \n",
       "...            ...      ...              ...         ...   \n",
       "1457462 2021-03-31  3428258         339992.0         NaN   \n",
       "1458852 2021-06-30   285348         158778.0         NaN   \n",
       "1460787 2021-06-30   758851         894578.0         NaN   \n",
       "1461773 2021-06-30   987352         182954.0         NaN   \n",
       "1462674 2021-06-30  3428258         361364.0         NaN   \n",
       "\n",
       "        Financial Institution Name  RCON2122_new  Difference  \n",
       "865056       BANK OF NEW YORK, THE    18307388.0    -29280.0  \n",
       "865568         PROVIDENT BANK, THE     8692241.0  -1161703.0  \n",
       "874283       BANK OF NEW YORK, THE    19415984.0    -35792.0  \n",
       "874785         PROVIDENT BANK, THE     9324889.0  -1305719.0  \n",
       "883458       BANK OF NEW YORK, THE    27481980.0   -121229.0  \n",
       "...                            ...           ...         ...  \n",
       "1457462                    DR BANK      339267.0      -725.0  \n",
       "1458852                 STATE BANK      160571.0      1793.0  \n",
       "1460787     FIRST BANK OF THE LAKE      896692.0      2114.0  \n",
       "1461773       RAMSEY NATIONAL BANK      183324.0       370.0  \n",
       "1462674                    DR BANK      360639.0      -725.0  \n",
       "\n",
       "[812 rows x 7 columns]"
      ]
     },
     "metadata": {},
     "output_type": "display_data"
    }
   ],
   "source": [
    "non_na_df_rcon = df_rcon[(df_rcon['RCON2122_legacy'].notna()) & (df_rcon['RCON2122_new'].notna())]\n",
    "print(non_na_df_rcon['Difference'].quantile(0.0001))\n",
    "non_na_df_rcon[non_na_df_rcon['Difference'].abs() != 0]"
   ]
  },
  {
   "cell_type": "code",
   "execution_count": null,
   "metadata": {},
   "outputs": [
    {
     "data": {
      "text/html": [
       "<div>\n",
       "<style scoped>\n",
       "    .dataframe tbody tr th:only-of-type {\n",
       "        vertical-align: middle;\n",
       "    }\n",
       "\n",
       "    .dataframe tbody tr th {\n",
       "        vertical-align: top;\n",
       "    }\n",
       "\n",
       "    .dataframe thead th {\n",
       "        text-align: right;\n",
       "    }\n",
       "</style>\n",
       "<table border=\"1\" class=\"dataframe\">\n",
       "  <thead>\n",
       "    <tr style=\"text-align: right;\">\n",
       "      <th></th>\n",
       "      <th>Date</th>\n",
       "      <th>IDRSSD</th>\n",
       "      <th>Financial Institution Name</th>\n",
       "      <th>RCON2122_legacy</th>\n",
       "      <th>RCON2122_new</th>\n",
       "      <th>Difference</th>\n",
       "      <th>Flag</th>\n",
       "    </tr>\n",
       "  </thead>\n",
       "  <tbody>\n",
       "    <tr>\n",
       "      <th>865056</th>\n",
       "      <td>2001-03-31</td>\n",
       "      <td>541101</td>\n",
       "      <td>BANK OF NEW YORK, THE</td>\n",
       "      <td>18336668.0</td>\n",
       "      <td>18307388.0</td>\n",
       "      <td>-29280.0</td>\n",
       "      <td>1</td>\n",
       "    </tr>\n",
       "    <tr>\n",
       "      <th>865568</th>\n",
       "      <td>2001-03-31</td>\n",
       "      <td>612618</td>\n",
       "      <td>PROVIDENT BANK, THE</td>\n",
       "      <td>9853944.0</td>\n",
       "      <td>8692241.0</td>\n",
       "      <td>-1161703.0</td>\n",
       "      <td>1</td>\n",
       "    </tr>\n",
       "    <tr>\n",
       "      <th>874283</th>\n",
       "      <td>2001-06-30</td>\n",
       "      <td>541101</td>\n",
       "      <td>BANK OF NEW YORK, THE</td>\n",
       "      <td>19451776.0</td>\n",
       "      <td>19415984.0</td>\n",
       "      <td>-35792.0</td>\n",
       "      <td>1</td>\n",
       "    </tr>\n",
       "    <tr>\n",
       "      <th>874785</th>\n",
       "      <td>2001-06-30</td>\n",
       "      <td>612618</td>\n",
       "      <td>PROVIDENT BANK, THE</td>\n",
       "      <td>10630608.0</td>\n",
       "      <td>9324889.0</td>\n",
       "      <td>-1305719.0</td>\n",
       "      <td>1</td>\n",
       "    </tr>\n",
       "    <tr>\n",
       "      <th>883458</th>\n",
       "      <td>2001-09-30</td>\n",
       "      <td>541101</td>\n",
       "      <td>BANK OF NEW YORK, THE</td>\n",
       "      <td>27603209.0</td>\n",
       "      <td>27481980.0</td>\n",
       "      <td>-121229.0</td>\n",
       "      <td>1</td>\n",
       "    </tr>\n",
       "    <tr>\n",
       "      <th>...</th>\n",
       "      <td>...</td>\n",
       "      <td>...</td>\n",
       "      <td>...</td>\n",
       "      <td>...</td>\n",
       "      <td>...</td>\n",
       "      <td>...</td>\n",
       "      <td>...</td>\n",
       "    </tr>\n",
       "    <tr>\n",
       "      <th>1457462</th>\n",
       "      <td>2021-03-31</td>\n",
       "      <td>3428258</td>\n",
       "      <td>DR BANK</td>\n",
       "      <td>339992.0</td>\n",
       "      <td>339267.0</td>\n",
       "      <td>-725.0</td>\n",
       "      <td>1</td>\n",
       "    </tr>\n",
       "    <tr>\n",
       "      <th>1458852</th>\n",
       "      <td>2021-06-30</td>\n",
       "      <td>285348</td>\n",
       "      <td>STATE BANK</td>\n",
       "      <td>158778.0</td>\n",
       "      <td>160571.0</td>\n",
       "      <td>1793.0</td>\n",
       "      <td>1</td>\n",
       "    </tr>\n",
       "    <tr>\n",
       "      <th>1460787</th>\n",
       "      <td>2021-06-30</td>\n",
       "      <td>758851</td>\n",
       "      <td>FIRST BANK OF THE LAKE</td>\n",
       "      <td>894578.0</td>\n",
       "      <td>896692.0</td>\n",
       "      <td>2114.0</td>\n",
       "      <td>1</td>\n",
       "    </tr>\n",
       "    <tr>\n",
       "      <th>1461773</th>\n",
       "      <td>2021-06-30</td>\n",
       "      <td>987352</td>\n",
       "      <td>RAMSEY NATIONAL BANK</td>\n",
       "      <td>182954.0</td>\n",
       "      <td>183324.0</td>\n",
       "      <td>370.0</td>\n",
       "      <td>1</td>\n",
       "    </tr>\n",
       "    <tr>\n",
       "      <th>1462674</th>\n",
       "      <td>2021-06-30</td>\n",
       "      <td>3428258</td>\n",
       "      <td>DR BANK</td>\n",
       "      <td>361364.0</td>\n",
       "      <td>360639.0</td>\n",
       "      <td>-725.0</td>\n",
       "      <td>1</td>\n",
       "    </tr>\n",
       "  </tbody>\n",
       "</table>\n",
       "<p>812 rows × 7 columns</p>\n",
       "</div>"
      ],
      "text/plain": [
       "              Date   IDRSSD Financial Institution Name  RCON2122_legacy  \\\n",
       "865056  2001-03-31   541101      BANK OF NEW YORK, THE       18336668.0   \n",
       "865568  2001-03-31   612618        PROVIDENT BANK, THE        9853944.0   \n",
       "874283  2001-06-30   541101      BANK OF NEW YORK, THE       19451776.0   \n",
       "874785  2001-06-30   612618        PROVIDENT BANK, THE       10630608.0   \n",
       "883458  2001-09-30   541101      BANK OF NEW YORK, THE       27603209.0   \n",
       "...            ...      ...                        ...              ...   \n",
       "1457462 2021-03-31  3428258                    DR BANK         339992.0   \n",
       "1458852 2021-06-30   285348                 STATE BANK         158778.0   \n",
       "1460787 2021-06-30   758851     FIRST BANK OF THE LAKE         894578.0   \n",
       "1461773 2021-06-30   987352       RAMSEY NATIONAL BANK         182954.0   \n",
       "1462674 2021-06-30  3428258                    DR BANK         361364.0   \n",
       "\n",
       "         RCON2122_new  Difference  Flag  \n",
       "865056     18307388.0    -29280.0     1  \n",
       "865568      8692241.0  -1161703.0     1  \n",
       "874283     19415984.0    -35792.0     1  \n",
       "874785      9324889.0  -1305719.0     1  \n",
       "883458     27481980.0   -121229.0     1  \n",
       "...               ...         ...   ...  \n",
       "1457462      339267.0      -725.0     1  \n",
       "1458852      160571.0      1793.0     1  \n",
       "1460787      896692.0      2114.0     1  \n",
       "1461773      183324.0       370.0     1  \n",
       "1462674      360639.0      -725.0     1  \n",
       "\n",
       "[812 rows x 7 columns]"
      ]
     },
     "metadata": {},
     "output_type": "display_data"
    }
   ],
   "source": [
    "df_rcon = df_rcon[['Date', 'IDRSSD', 'Financial Institution Name', 'RCON2122_legacy', 'RCON2122_new', 'Difference']]\n",
    "\n",
    "# create a 'Flag' colum that takes the value zero if the difference is zero:\n",
    "df_rcon['Flag'] = np.where(df_rcon['Difference'] == 0, 0, 1)\n",
    "\n",
    "# let flag to be zero in places where either RCON2122_legacy or RCON2122_new is NaN:\n",
    "df_rcon['Flag'] = np.where(df_rcon['RCON2122_legacy'].isna() | df_rcon['RCON2122_new'].isna(), 0, df_rcon['Flag'])\n",
    "\n",
    "# check the banks with Flag = 1\n",
    "df_rcon[df_rcon['Flag']==1]"
   ]
  },
  {
   "cell_type": "code",
   "execution_count": null,
   "metadata": {},
   "outputs": [],
   "source": [
    "df_rcon['RCON2122'] = df_rcon['RCON2122_new'].fillna(df_rcon['RCON2122_legacy'])"
   ]
  },
  {
   "cell_type": "code",
   "execution_count": null,
   "metadata": {},
   "outputs": [
    {
     "data": {
      "text/html": [
       "<div>\n",
       "<style scoped>\n",
       "    .dataframe tbody tr th:only-of-type {\n",
       "        vertical-align: middle;\n",
       "    }\n",
       "\n",
       "    .dataframe tbody tr th {\n",
       "        vertical-align: top;\n",
       "    }\n",
       "\n",
       "    .dataframe thead th {\n",
       "        text-align: right;\n",
       "    }\n",
       "</style>\n",
       "<table border=\"1\" class=\"dataframe\">\n",
       "  <thead>\n",
       "    <tr style=\"text-align: right;\">\n",
       "      <th></th>\n",
       "      <th>Date</th>\n",
       "      <th>IDRSSD</th>\n",
       "      <th>Financial Institution Name</th>\n",
       "      <th>RCON2122_legacy</th>\n",
       "      <th>RCON2122_new</th>\n",
       "      <th>Difference</th>\n",
       "      <th>Flag</th>\n",
       "      <th>Test</th>\n",
       "      <th>RCON2122</th>\n",
       "    </tr>\n",
       "  </thead>\n",
       "  <tbody>\n",
       "    <tr>\n",
       "      <th>1044847</th>\n",
       "      <td>2006-04-27</td>\n",
       "      <td>3345168</td>\n",
       "      <td>COMMUNITY NATIONAL BANK</td>\n",
       "      <td>NaN</td>\n",
       "      <td>67325.0</td>\n",
       "      <td>NaN</td>\n",
       "      <td>0</td>\n",
       "      <td>67325.0</td>\n",
       "      <td>67325.0</td>\n",
       "    </tr>\n",
       "  </tbody>\n",
       "</table>\n",
       "</div>"
      ],
      "text/plain": [
       "              Date   IDRSSD Financial Institution Name  RCON2122_legacy  \\\n",
       "1044847 2006-04-27  3345168    COMMUNITY NATIONAL BANK              NaN   \n",
       "\n",
       "         RCON2122_new  Difference  Flag     Test  RCON2122  \n",
       "1044847       67325.0         NaN     0  67325.0   67325.0  "
      ]
     },
     "metadata": {},
     "output_type": "display_data"
    }
   ],
   "source": [
    "date_min = df_rcon.groupby('Date')['RCON2122'].sum()==df_rcon.groupby('Date')['RCON2122'].sum().min()\n",
    "df_rcon[df_rcon['Date'].isin(date_min[date_min].index)]\n",
    "\n",
    "# DO IT IN LUCAS WAY. SEE WHAT ARE THE ROWS THAT ARE NOT IN THE DATES IT SHOULD. "
   ]
  },
  {
   "cell_type": "code",
   "execution_count": null,
   "metadata": {},
   "outputs": [
    {
     "data": {
      "text/html": [
       "<div>\n",
       "<style scoped>\n",
       "    .dataframe tbody tr th:only-of-type {\n",
       "        vertical-align: middle;\n",
       "    }\n",
       "\n",
       "    .dataframe tbody tr th {\n",
       "        vertical-align: top;\n",
       "    }\n",
       "\n",
       "    .dataframe thead th {\n",
       "        text-align: right;\n",
       "    }\n",
       "</style>\n",
       "<table border=\"1\" class=\"dataframe\">\n",
       "  <thead>\n",
       "    <tr style=\"text-align: right;\">\n",
       "      <th></th>\n",
       "      <th>Date</th>\n",
       "      <th>IDRSSD</th>\n",
       "      <th>Financial Institution Name</th>\n",
       "      <th>RCON2122_legacy</th>\n",
       "      <th>RCON2122_new</th>\n",
       "      <th>Difference</th>\n",
       "      <th>Flag</th>\n",
       "      <th>Test</th>\n",
       "      <th>RCON2122</th>\n",
       "    </tr>\n",
       "  </thead>\n",
       "  <tbody>\n",
       "    <tr>\n",
       "      <th>1044688</th>\n",
       "      <td>2006-03-31</td>\n",
       "      <td>3345168</td>\n",
       "      <td>NaN</td>\n",
       "      <td>67325.0</td>\n",
       "      <td>NaN</td>\n",
       "      <td>NaN</td>\n",
       "      <td>0</td>\n",
       "      <td>67325.0</td>\n",
       "      <td>67325.0</td>\n",
       "    </tr>\n",
       "    <tr>\n",
       "      <th>1044847</th>\n",
       "      <td>2006-04-27</td>\n",
       "      <td>3345168</td>\n",
       "      <td>COMMUNITY NATIONAL BANK</td>\n",
       "      <td>NaN</td>\n",
       "      <td>67325.0</td>\n",
       "      <td>NaN</td>\n",
       "      <td>0</td>\n",
       "      <td>67325.0</td>\n",
       "      <td>67325.0</td>\n",
       "    </tr>\n",
       "    <tr>\n",
       "      <th>1052966</th>\n",
       "      <td>2006-06-30</td>\n",
       "      <td>3345168</td>\n",
       "      <td>COMMUNITY NATIONAL BANK</td>\n",
       "      <td>91098.0</td>\n",
       "      <td>91098.0</td>\n",
       "      <td>0.0</td>\n",
       "      <td>0</td>\n",
       "      <td>91098.0</td>\n",
       "      <td>91098.0</td>\n",
       "    </tr>\n",
       "    <tr>\n",
       "      <th>1061215</th>\n",
       "      <td>2006-09-30</td>\n",
       "      <td>3345168</td>\n",
       "      <td>COMMUNITY NATIONAL BANK</td>\n",
       "      <td>98252.0</td>\n",
       "      <td>98252.0</td>\n",
       "      <td>0.0</td>\n",
       "      <td>0</td>\n",
       "      <td>98252.0</td>\n",
       "      <td>98252.0</td>\n",
       "    </tr>\n",
       "    <tr>\n",
       "      <th>1069405</th>\n",
       "      <td>2006-12-31</td>\n",
       "      <td>3345168</td>\n",
       "      <td>COMMUNITY NATIONAL BANK</td>\n",
       "      <td>112854.0</td>\n",
       "      <td>112854.0</td>\n",
       "      <td>0.0</td>\n",
       "      <td>0</td>\n",
       "      <td>112854.0</td>\n",
       "      <td>112854.0</td>\n",
       "    </tr>\n",
       "  </tbody>\n",
       "</table>\n",
       "</div>"
      ],
      "text/plain": [
       "              Date   IDRSSD Financial Institution Name  RCON2122_legacy  \\\n",
       "1044688 2006-03-31  3345168                        NaN          67325.0   \n",
       "1044847 2006-04-27  3345168    COMMUNITY NATIONAL BANK              NaN   \n",
       "1052966 2006-06-30  3345168    COMMUNITY NATIONAL BANK          91098.0   \n",
       "1061215 2006-09-30  3345168    COMMUNITY NATIONAL BANK          98252.0   \n",
       "1069405 2006-12-31  3345168    COMMUNITY NATIONAL BANK         112854.0   \n",
       "\n",
       "         RCON2122_new  Difference  Flag      Test  RCON2122  \n",
       "1044688           NaN         NaN     0   67325.0   67325.0  \n",
       "1044847       67325.0         NaN     0   67325.0   67325.0  \n",
       "1052966       91098.0         0.0     0   91098.0   91098.0  \n",
       "1061215       98252.0         0.0     0   98252.0   98252.0  \n",
       "1069405      112854.0         0.0     0  112854.0  112854.0  "
      ]
     },
     "metadata": {},
     "output_type": "display_data"
    }
   ],
   "source": [
    "df_rcon[(df_rcon['IDRSSD']==3345168) & (df_rcon['Date'].dt.year==2006)]"
   ]
  },
  {
   "cell_type": "code",
   "execution_count": null,
   "metadata": {},
   "outputs": [
    {
     "data": {
      "text/html": [
       "<div>\n",
       "<style scoped>\n",
       "    .dataframe tbody tr th:only-of-type {\n",
       "        vertical-align: middle;\n",
       "    }\n",
       "\n",
       "    .dataframe tbody tr th {\n",
       "        vertical-align: top;\n",
       "    }\n",
       "\n",
       "    .dataframe thead th {\n",
       "        text-align: right;\n",
       "    }\n",
       "</style>\n",
       "<table border=\"1\" class=\"dataframe\">\n",
       "  <thead>\n",
       "    <tr style=\"text-align: right;\">\n",
       "      <th></th>\n",
       "      <th>Date</th>\n",
       "      <th>IDRSSD</th>\n",
       "      <th>Financial Institution Name</th>\n",
       "      <th>RCON2122_legacy</th>\n",
       "      <th>RCON2122_new</th>\n",
       "      <th>Difference</th>\n",
       "      <th>Flag</th>\n",
       "      <th>Test</th>\n",
       "      <th>RCON2122</th>\n",
       "    </tr>\n",
       "  </thead>\n",
       "  <tbody>\n",
       "    <tr>\n",
       "      <th>1044688</th>\n",
       "      <td>2006-03-31</td>\n",
       "      <td>3345168</td>\n",
       "      <td>NaN</td>\n",
       "      <td>67325.0</td>\n",
       "      <td>NaN</td>\n",
       "      <td>NaN</td>\n",
       "      <td>0</td>\n",
       "      <td>67325.0</td>\n",
       "      <td>67325.0</td>\n",
       "    </tr>\n",
       "    <tr>\n",
       "      <th>1052966</th>\n",
       "      <td>2006-06-30</td>\n",
       "      <td>3345168</td>\n",
       "      <td>COMMUNITY NATIONAL BANK</td>\n",
       "      <td>91098.0</td>\n",
       "      <td>91098.0</td>\n",
       "      <td>0.0</td>\n",
       "      <td>0</td>\n",
       "      <td>91098.0</td>\n",
       "      <td>91098.0</td>\n",
       "    </tr>\n",
       "    <tr>\n",
       "      <th>1061215</th>\n",
       "      <td>2006-09-30</td>\n",
       "      <td>3345168</td>\n",
       "      <td>COMMUNITY NATIONAL BANK</td>\n",
       "      <td>98252.0</td>\n",
       "      <td>98252.0</td>\n",
       "      <td>0.0</td>\n",
       "      <td>0</td>\n",
       "      <td>98252.0</td>\n",
       "      <td>98252.0</td>\n",
       "    </tr>\n",
       "    <tr>\n",
       "      <th>1069405</th>\n",
       "      <td>2006-12-31</td>\n",
       "      <td>3345168</td>\n",
       "      <td>COMMUNITY NATIONAL BANK</td>\n",
       "      <td>112854.0</td>\n",
       "      <td>112854.0</td>\n",
       "      <td>0.0</td>\n",
       "      <td>0</td>\n",
       "      <td>112854.0</td>\n",
       "      <td>112854.0</td>\n",
       "    </tr>\n",
       "  </tbody>\n",
       "</table>\n",
       "</div>"
      ],
      "text/plain": [
       "              Date   IDRSSD Financial Institution Name  RCON2122_legacy  \\\n",
       "1044688 2006-03-31  3345168                        NaN          67325.0   \n",
       "1052966 2006-06-30  3345168    COMMUNITY NATIONAL BANK          91098.0   \n",
       "1061215 2006-09-30  3345168    COMMUNITY NATIONAL BANK          98252.0   \n",
       "1069405 2006-12-31  3345168    COMMUNITY NATIONAL BANK         112854.0   \n",
       "\n",
       "         RCON2122_new  Difference  Flag      Test  RCON2122  \n",
       "1044688           NaN         NaN     0   67325.0   67325.0  \n",
       "1052966       91098.0         0.0     0   91098.0   91098.0  \n",
       "1061215       98252.0         0.0     0   98252.0   98252.0  \n",
       "1069405      112854.0         0.0     0  112854.0  112854.0  "
      ]
     },
     "metadata": {},
     "output_type": "display_data"
    }
   ],
   "source": [
    "df_rcon = df_rcon[(df_rcon['Date'] != '2006-04-27')]\n",
    "df_rcon[(df_rcon['IDRSSD']==3345168) & (df_rcon['Date'].dt.year==2006)]"
   ]
  },
  {
   "cell_type": "code",
   "execution_count": null,
   "metadata": {},
   "outputs": [],
   "source": [
    "# Step 1: Identify the total number of unique dates\n",
    "total_dates = df_rcon['Date'].nunique()\n",
    "\n",
    "# Step 2: Count the number of unique dates per bank\n",
    "bank_date_counts = df_rcon.groupby('IDRSSD')['Date'].nunique()\n",
    "\n",
    "# Step 3: Filter banks with observations for all dates\n",
    "balanced_banks = bank_date_counts[bank_date_counts == total_dates].index\n",
    "\n",
    "# Step 4: Save the list of IDRSSD\n",
    "balanced_banks_list = balanced_banks.tolist()"
   ]
  },
  {
   "cell_type": "code",
   "execution_count": null,
   "metadata": {},
   "outputs": [
    {
     "data": {
      "text/plain": [
       "3111"
      ]
     },
     "metadata": {},
     "output_type": "display_data"
    }
   ],
   "source": [
    "len(balanced_banks_list)"
   ]
  },
  {
   "cell_type": "code",
   "execution_count": null,
   "metadata": {},
   "outputs": [],
   "source": [
    "# drop observations from the last 'Date':\n",
    "df_rcon = df_rcon[df_rcon['Date'] != df_rcon['Date'].max()]\n",
    "balanced_rcon = df_rcon[df_rcon['IDRSSD'].isin(balanced_banks_list)]"
   ]
  },
  {
   "cell_type": "code",
   "execution_count": null,
   "metadata": {},
   "outputs": [
    {
     "data": {
      "image/png": "[encoded data removed]",
      "text/plain": [
       "<Figure size 640x480 with 1 Axes>"
      ]
     },
     "metadata": {},
     "output_type": "display_data"
    }
   ],
   "source": [
    "# sum 'Loans' by 'Date' and plot the time series:\n",
    "df_rcon.groupby('Date')['RCON2122'].sum().plot(linewidth=3)\n",
    "balanced_rcon.groupby('Date')['RCON2122'].sum().plot(linewidth=3)\n",
    "plt.title('Total Loans')\n",
    "plt.xlabel('Date')\n",
    "plt.ylabel('Total Loans')\n",
    "plt.legend(['All Banks', 'Balanced Panel'])\n",
    "plt.grid(True, which='both', linestyle='--', linewidth=0.5, alpha=0.5, color='lightgrey')\n",
    "plt.show()"
   ]
  },
  {
   "cell_type": "code",
   "execution_count": null,
   "metadata": {},
   "outputs": [],
   "source": [
    "# export the balanced panel to a csv file:\n",
    "balanced_rcon.to_csv(path+'/loans_balanced_panel.csv', index=False)\n",
    "df_rcon.to_csv(path+'/loans_unbalanced.csv', index=False)"
   ]
  },
  {
   "cell_type": "code",
   "execution_count": null,
   "metadata": {},
   "outputs": [],
   "source": []
  },
  {
   "cell_type": "markdown",
   "metadata": {},
   "source": [
    "## Testing Assets"
   ]
  },
  {
   "cell_type": "code",
   "execution_count": null,
   "metadata": {},
   "outputs": [],
   "source": [
    "# Compute the difference between the \n",
    "legacy_df['Difference Assets'] = legacy_df['RCFD2170'] - legacy_df['RCON2170'] \n",
    "legacy_df['Difference Assets (%)'] = legacy_df['Difference Assets']/legacy_df['RCFD2170']*100\n",
    "legacy_df[(legacy_df['IDRSSD']==480228) & (legacy_df['Date'].dt.year>2008)\n",
    "          & (legacy_df['Date'].dt.year<2023)][['Date', 'Financial Institution Name', 'RCFD2170', 'RCON2170', 'Difference Assets', 'Difference Assets (%)']]"
   ]
  },
  {
   "cell_type": "code",
   "execution_count": null,
   "metadata": {},
   "outputs": [],
   "source": [
    "# do the same for newer data:\n",
    "newer_df['Difference Assets'] = newer_df['RCFD2170'] - newer_df['RCON2170']\n",
    "newer_df['Difference Assets (%)'] = newer_df['Difference Assets']/newer_df['RCFD2170']\n",
    "newer_df[(newer_df['IDRSSD']==37) & (newer_df['Date'].dt.year>2011)\n",
    "          & (newer_df['Date'].dt.year<2024)][['Date', 'Financial Institution Name', 'RCFD2170', 'RCON2170', 'Difference Assets', 'Difference Assets (%)']]"
   ]
  },
  {
   "cell_type": "markdown",
   "metadata": {},
   "source": [
    "## Testing Loans"
   ]
  },
  {
   "cell_type": "markdown",
   "metadata": {},
   "source": [
    "### Loan amounts"
   ]
  },
  {
   "cell_type": "code",
   "execution_count": null,
   "metadata": {},
   "outputs": [],
   "source": [
    "# Compute the difference\n",
    "legacy_df['Difference Loans'] = legacy_df['RCFD1400'] - legacy_df['RCON1400'] \n",
    "legacy_df['Difference Loans (%)'] = legacy_df['Difference Loans']/legacy_df['RCFD1400']*100\n",
    "legacy_df[(legacy_df['IDRSSD']==480228) #& (legacy_df['Date'].dt.year>2000) & (legacy_df['Date'].dt.year<2011)\n",
    "          & (legacy_df['Date'].dt.year<2002)][['Date', 'Financial Institution Name', 'RCFD1400', 'RCON1400', 'Difference Loans', 'Difference Loans (%)']]"
   ]
  },
  {
   "cell_type": "code",
   "execution_count": null,
   "metadata": {},
   "outputs": [],
   "source": [
    "# Compute the difference between the \n",
    "newer_df['Difference Loans'] = newer_df['RCFD2122'] - newer_df['RCON2122'] \n",
    "newer_df['Difference Loans (%)'] = newer_df['Difference Loans']/newer_df['RCFD2122']*100\n",
    "newer_df[(newer_df['IDRSSD']==480228) & (newer_df['Date'].dt.year>2000)\n",
    "          & (newer_df['Date'].dt.year<2011)][['Date', 'Financial Institution Name', 'RCFD2122', 'RCON2122', 'Difference Loans', 'Difference Loans (%)']]"
   ]
  },
  {
   "cell_type": "markdown",
   "metadata": {},
   "source": [
    "### Income from loans"
   ]
  },
  {
   "cell_type": "code",
   "execution_count": null,
   "metadata": {},
   "outputs": [],
   "source": [
    "riad_legacy[(riad_legacy['IDRSSD']==480228) & \n",
    "            (riad_legacy['Date'].dt.year>2000)][['Date', 'Financial Institution Name', 'RIAD4010', 'RIAD4065', 'RIAD4059']]"
   ]
  },
  {
   "cell_type": "code",
   "execution_count": null,
   "metadata": {},
   "outputs": [],
   "source": [
    "riad[riad['IDRSSD']==480228][['Date', 'Financial Institution Name', 'RIAD4010', 'RIAD4065', 'RIAD4059']]"
   ]
  },
  {
   "cell_type": "markdown",
   "metadata": {},
   "source": [
    "## Testing Deposits"
   ]
  },
  {
   "cell_type": "code",
   "execution_count": null,
   "metadata": {},
   "outputs": [],
   "source": [
    "# Compute the difference\n",
    "legacy_df['Difference Deposits'] = legacy_df['RCFD2200'] - legacy_df['RCON2200'] \n",
    "legacy_df['Difference Deposits (%)'] = legacy_df['Difference Deposits']/legacy_df['RCFD1400']*100\n",
    "legacy_df[(legacy_df['IDRSSD']==480228) & (legacy_df['Date'].dt.year>2008)\n",
    "          & (legacy_df['Date'].dt.year<2016)][['Date', 'Financial Institution Name', 'RCFD2200', 'RCON2200', 'Difference Deposits', 'Difference Deposits (%)']]"
   ]
  },
  {
   "cell_type": "code",
   "execution_count": null,
   "metadata": {},
   "outputs": [],
   "source": [
    "newer_df2 = pd.merge(newer_df, rcfn, on=['Date', 'IDRSSD', 'Financial Institution Name'], how='outer')"
   ]
  },
  {
   "cell_type": "code",
   "execution_count": null,
   "metadata": {},
   "outputs": [],
   "source": [
    "# do the same for newer data:\n",
    "newer_df2['Total Deposits'] = newer_df2['RCON2200']+newer_df2['RCFN2200']\n",
    "newer_df2['Difference Deposits (%)'] = newer_df2['RCFN2200'] / newer_df2['Total Deposits']*100\n",
    "newer_df2[(newer_df2['IDRSSD']==480228) & (newer_df2['Date'].dt.year>2008)\n",
    "          & (newer_df2['Date'].dt.year<2024)][['Date', 'Financial Institution Name', 'Total Deposits', 'RCON2200', 'RCFN2200', 'Difference Deposits (%)']]"
   ]
  },
  {
   "cell_type": "markdown",
   "metadata": {},
   "source": [
    "## Testing FedFunds Purchased"
   ]
  },
  {
   "cell_type": "code",
   "execution_count": null,
   "metadata": {},
   "outputs": [],
   "source": [
    "rcfd[(rcfd['IDRSSD']==480228) & (rcfd['Date'].dt.year<2002)][['Date', 'Financial Institution Name', 'RCFD2800']]"
   ]
  },
  {
   "cell_type": "code",
   "execution_count": null,
   "metadata": {},
   "outputs": [],
   "source": [
    "rcfd[(rcfd['IDRSSD']==480228) & (rcfd['Date'].dt.year>2001)][['Date', 'Financial Institution Name', 'RCFDB993', 'RCFDB995']]"
   ]
  },
  {
   "cell_type": "code",
   "execution_count": null,
   "metadata": {},
   "outputs": [],
   "source": [
    "rcfd[(rcfd['IDRSSD']==802866) ][['Date', 'Financial Institution Name', 'RCFDB993', 'RCFDB995']]"
   ]
  },
  {
   "cell_type": "markdown",
   "metadata": {},
   "source": [
    "## Testing Loans Non-Accrual"
   ]
  },
  {
   "cell_type": "code",
   "execution_count": null,
   "metadata": {},
   "outputs": [],
   "source": [
    "rcfd[(rcfd['IDRSSD']==480228)][['Date', 'Financial Institution Name', 'RCFD1403']]"
   ]
  },
  {
   "cell_type": "code",
   "execution_count": null,
   "metadata": {},
   "outputs": [],
   "source": [
    "rcfd[(rcfd['IDRSSD']==802866)][['Date', 'Financial Institution Name', 'RCFD1403']]"
   ]
  },
  {
   "cell_type": "markdown",
   "metadata": {},
   "source": [
    "## Test Loans Past Due 90 Days"
   ]
  },
  {
   "cell_type": "code",
   "execution_count": null,
   "metadata": {},
   "outputs": [],
   "source": [
    "rcfd[(rcfd['IDRSSD']==802866)][['Date', 'Financial Institution Name', 'RCFD1407']]"
   ]
  },
  {
   "cell_type": "code",
   "execution_count": null,
   "metadata": {},
   "outputs": [],
   "source": [
    "rcfd[(rcfd['IDRSSD']==480228)][['Date', 'Financial Institution Name', 'RCFD1407']]"
   ]
  },
  {
   "cell_type": "markdown",
   "metadata": {},
   "source": [
    "## Testing Tier 1 Capital"
   ]
  },
  {
   "cell_type": "code",
   "execution_count": null,
   "metadata": {},
   "outputs": [],
   "source": [
    "rcfd[(rcfd['IDRSSD']==480228) & (rcfd['Date'].dt.year>1995) \n",
    "                              & (rcfd['Date'].dt.year<2015)][['Date', 'Financial Institution Name','RCFD8274']]"
   ]
  },
  {
   "cell_type": "code",
   "execution_count": null,
   "metadata": {},
   "outputs": [],
   "source": [
    "rcfa[(rcfa['IDRSSD']==480228) & (rcfa['Date'].dt.year>2013)][['Date', 'Financial Institution Name','RCFA8274']]"
   ]
  },
  {
   "cell_type": "code",
   "execution_count": null,
   "metadata": {},
   "outputs": [],
   "source": [
    "rcfd[(rcfd['IDRSSD']==802866) & (rcfd['Date'].dt.year>1995) \n",
    "                              & (rcfd['Date'].dt.year<2016)][['Date', 'Financial Institution Name','RCFD8274']]"
   ]
  },
  {
   "cell_type": "code",
   "execution_count": null,
   "metadata": {},
   "outputs": [],
   "source": [
    "rcfa[(rcfa['IDRSSD']==802866) & (rcfa['Date'].dt.year>2013)][['Date', 'Financial Institution Name','RCFA8274']]"
   ]
  },
  {
   "cell_type": "markdown",
   "metadata": {},
   "source": [
    "## Testing Risk-Weighted Assets"
   ]
  },
  {
   "cell_type": "code",
   "execution_count": null,
   "metadata": {},
   "outputs": [],
   "source": [
    "rcfd[(rcfd['IDRSSD']==480228) & (rcfd['Date'].dt.year>1995) \n",
    "                              & (rcfd['Date'].dt.year<2016)][['Date', 'Financial Institution Name','RCFDA223']]"
   ]
  },
  {
   "cell_type": "code",
   "execution_count": null,
   "metadata": {},
   "outputs": [],
   "source": [
    "rcfa[(rcfa['IDRSSD']==480228) & (rcfa['Date'].dt.year>2013)][['Date', 'Financial Institution Name','RCFAA223']]"
   ]
  },
  {
   "cell_type": "code",
   "execution_count": null,
   "metadata": {},
   "outputs": [],
   "source": [
    "rcfd[(rcfd['IDRSSD']==802866) & (rcfd['Date'].dt.year>1995) \n",
    "                              & (rcfd['Date'].dt.year<2016)][['Date', 'Financial Institution Name','RCFDA223']]"
   ]
  },
  {
   "cell_type": "code",
   "execution_count": null,
   "metadata": {},
   "outputs": [],
   "source": [
    "rcfa[(rcfa['IDRSSD']==802866) & (rcfa['Date'].dt.year>2013)][['Date', 'Financial Institution Name','RCFAA223']]"
   ]
  },
  {
   "cell_type": "markdown",
   "metadata": {},
   "source": [
    "## Testing Other Borrowings"
   ]
  },
  {
   "cell_type": "code",
   "execution_count": null,
   "metadata": {},
   "outputs": [],
   "source": [
    "rcfd[(rcfd['IDRSSD']==480228) & (rcfd['Date'].dt.year>1984) \n",
    "                              & (rcfd['Date'].dt.year<2002)][['Date', 'Financial Institution Name','RCFD2835', 'RCFD3190']]"
   ]
  },
  {
   "cell_type": "code",
   "execution_count": null,
   "metadata": {},
   "outputs": [],
   "source": [
    "rcfd[(rcfd['IDRSSD']==480228) & (rcfd['Date'].dt.year>2002)][['Date', 'Financial Institution Name','RCFD2835', 'RCFD3190']]"
   ]
  },
  {
   "cell_type": "markdown",
   "metadata": {},
   "source": [
    "## Testing Cash"
   ]
  },
  {
   "cell_type": "code",
   "execution_count": null,
   "metadata": {},
   "outputs": [],
   "source": [
    "rcfd[(rcfd['IDRSSD']==480228)][['Date', 'Financial Institution Name','RCFD0010']]"
   ]
  },
  {
   "cell_type": "code",
   "execution_count": null,
   "metadata": {},
   "outputs": [],
   "source": [
    "rcfd[(rcfd['IDRSSD']==802866)][['Date', 'Financial Institution Name','RCFD0010']]"
   ]
  },
  {
   "cell_type": "markdown",
   "metadata": {},
   "source": [
    "## Testing Federal Funds Sold"
   ]
  },
  {
   "cell_type": "code",
   "execution_count": null,
   "metadata": {},
   "outputs": [],
   "source": [
    "rcfd[(rcfd['IDRSSD']==480228) & (rcfd['Date'].dt.year>1983) \n",
    "                              & (rcfd['Date'].dt.year<2003)][['Date', 'Financial Institution Name','RCFD1350']]"
   ]
  },
  {
   "cell_type": "code",
   "execution_count": null,
   "metadata": {},
   "outputs": [],
   "source": [
    "rcfd[(rcfd['IDRSSD']==480228) & (rcfd['Date'].dt.year>2001)][['Date', 'Financial Institution Name','RCFDB987', 'RCFDB989']]"
   ]
  },
  {
   "cell_type": "markdown",
   "metadata": {},
   "source": [
    "## Dean's Variables"
   ]
  },
  {
   "cell_type": "code",
   "execution_count": null,
   "metadata": {},
   "outputs": [],
   "source": [
    "# concatenate the two dataframes:\n",
    "df = pd.merge(riad, rcfd, on=['Date', 'IDRSSD', 'Financial Institution Name'], how='outer')\n",
    "df = pd.merge(df, rcfa, on=['Date', 'IDRSSD', 'Financial Institution Name'], how='outer')"
   ]
  },
  {
   "cell_type": "code",
   "execution_count": null,
   "metadata": {},
   "outputs": [],
   "source": [
    "# create a 'Year' column:\n",
    "df['Year'] = df['Date'].dt.year\n",
    "\n",
    "# create a 'Quarter' column:\n",
    "df['Quarter'] = df['Date'].dt.quarter"
   ]
  },
  {
   "cell_type": "code",
   "execution_count": null,
   "metadata": {},
   "outputs": [],
   "source": [
    "df.rename(columns={ # RCFD variables (Balance Sheet):\n",
    "                'RCFD2170':'Total Assets', 'RCFD1400': 'Loans', 'RCFD2200': 'Deposits', \n",
    "                'RCFD1403': 'Loans Non-Accrual', 'RCFD1407':'Loans Past Due 90 Days',\n",
    "                'RCFD0010': 'Cash', \n",
    "                # RIAD variables (Income Statement):\n",
    "                'RIAD4170':'Interest Exp. Deposits', \n",
    "                'RIAD4180': 'Interest Exp. FedFunds', 'RIAD4635': 'Charge Off Loans', \n",
    "                'RIAD4605': 'Recovery Loans', 'RIAD4130': 'Total Expenses', \n",
    "                'RIAD4217': 'Expenses on premises and fixed assets', \n",
    "                'RIAD4135': 'Labor expenses', 'RIAD4079': 'Total Non-interest Income'}, inplace=True)"
   ]
  },
  {
   "cell_type": "code",
   "execution_count": null,
   "metadata": {},
   "outputs": [],
   "source": [
    "df['Interest Income Loans'] = df['RIAD4010'].fillna(0)+df['RIAD4065'].fillna(0)\n",
    "df['Dividends'] = df['RIAD4470'].fillna(0)+df['RIAD4460'].fillna(0)"
   ]
  },
  {
   "cell_type": "code",
   "execution_count": null,
   "metadata": {},
   "outputs": [],
   "source": [
    "df['Federal Funds Purchased'] = np.where(df['Date'].dt.year < 2002, df['RCFD2800'], df['RCFDB993']+df['RCFDB995'])\n",
    "df['Tier 1 Capital'] = np.where(df['Date'].dt.year < 2014, df['RCFD8274'], df['RCFA8274'])\n",
    "df['Risk-Weighted Assets'] = np.where(df['Date'].dt.year < 2014, df['RCFDA223'], df['RCFAA223'])\n",
    "df['Other Borrowings'] = np.where(df['Date'].dt.year < 2001, df['RCFD2835'], df['RCFD3190'])\n",
    "df['FedFunds Sold'] = np.where(df['Date'].dt.year < 2002, df['RCFD1350'], df['RCFDB987']+df['RCFDB989'])\n",
    "df['US Treasury Securities'] = np.where(df['Date'].dt.year < 1994, df['RCFD0400'], df['RCFD0211']+df['RCFD1287'])"
   ]
  },
  {
   "cell_type": "code",
   "execution_count": null,
   "metadata": {},
   "outputs": [],
   "source": [
    "# For 'US Agency Obligations' we need a np.where with 3 time windows (1984-1993, 1994-2008, 2009-2010, 2011-2021):\n",
    "df['US Agency Obligations'] = np.where(\n",
    "                            df['Date'].dt.year < 1994, df['RCFD0600'],\n",
    "                            np.where(\n",
    "                            df['Date'].dt.year < 2009, \n",
    "                            df['RCFD1289'].fillna(0)+df['RCFD1294'].fillna(0)+df['RCFD1293'].fillna(0)+df['RCFD1298'].fillna(0)+\n",
    "                            df['RCFD1698'].fillna(0)+df['RCFD1702'].fillna(0)+df['RCFD1703'].fillna(0)+df['RCFD1707'].fillna(0)+\n",
    "                            df['RCFD1714'].fillna(0)+df['RCFD1717'].fillna(0)+df['RCFD1718'].fillna(0)+df['RCFD1732'].fillna(0),\n",
    "                            np.where(\n",
    "                            df['Date'].dt.year < 2011, \n",
    "                            df['RCFD1289'].fillna(0)+df['RCFD1294'].fillna(0)+df['RCFD1293'].fillna(0)+df['RCFD1298'].fillna(0)+\n",
    "                            df['RCFDG300'].fillna(0)+df['RCFDG303'].fillna(0)+df['RCFDG304'].fillna(0)+df['RCFDG307'].fillna(0)+\n",
    "                            df['RCFDG312'].fillna(0)+df['RCFDG315'].fillna(0)+df['RCFDG316'].fillna(0)+df['RCFDG319'].fillna(0)+\n",
    "                            df['RCFDG324'].fillna(0)+df['RCFDG327'].fillna(0),\n",
    "                            df['RCFD1289'].fillna(0)+df['RCFD1294'].fillna(0)+df['RCFD1293'].fillna(0)+df['RCFD1298'].fillna(0)+\n",
    "                            df['RCFDG300'].fillna(0)+df['RCFDG303'].fillna(0)+df['RCFDG304'].fillna(0)+df['RCFDG307'].fillna(0)+\n",
    "                            df['RCFDG312'].fillna(0)+df['RCFDG315'].fillna(0)+df['RCFDG316'].fillna(0)+df['RCFDG319'].fillna(0) \n",
    "# Missing here RCFDK142 and RCFDK145.\n",
    "                            )\n",
    "                            )\n",
    ")"
   ]
  },
  {
   "cell_type": "code",
   "execution_count": null,
   "metadata": {},
   "outputs": [],
   "source": [
    "df['Interest Income Safe Securities'] = np.where(df['Date'].dt.year<2001, df['RIAD4027'], df['RIADB488'])\n",
    "df['Equity Issuance'] = np.where(df['Date'].dt.year<2001, df['RIAD4346'].fillna(0)+df['RIADB510'].fillna(0), \n",
    "                                 df['RIADB509'].fillna(0)+df['RIADB510'].fillna(0))"
   ]
  },
  {
   "cell_type": "code",
   "execution_count": null,
   "metadata": {},
   "outputs": [],
   "source": [
    "# Derived variables:\n",
    "df['Loans (RW Assets) to Assets'] = df['Risk-Weighted Assets']/df['Total Assets']\n",
    "df['Cash and Securities to Assets'] = 1 - df['Loans (RW Assets) to Assets']\n",
    "df['Capital Ratio (risk-weighted)'] = df['Tier 1 Capital']/df['Risk-Weighted Assets']\n",
    "df['Equity to Assets'] = df['Tier 1 Capital']/df['Total Assets']\n",
    "df['Deposits to Assets'] = 1 - df['Equity to Assets']\n",
    "df['Interest Return on Loans'] = df['Interest Income Loans']/df['Loans']\n",
    "df['Interest Cost Deposits'] = df['Interest Exp. Deposits']/df['Deposits']\n",
    "df['Loan Interest Margin'] = df['Interest Income Loans']-df['Interest Exp. Deposits']\n",
    "df['Cost Fed Funds'] = df['Interest Exp. FedFunds']/df['Federal Funds Purchased']\n",
    "df['Charge Off Rate Loans']  = (df['Charge Off Loans']-df['Recovery Loans'])/df['Loans']\n",
    "df['Delinquency Rate Loans'] = (df['Loans Non-Accrual']+df['Loans Past Due 90 Days'])/df['Loans']\n",
    "df['Safe Securities'] = df['US Treasury Securities']+df['US Agency Obligations']\n",
    "df['Cost of Funds'] = (df['Interest Exp. Deposits']+df['Interest Exp. FedFunds'])/(df['Deposits']+df['Federal Funds Purchased'])\n",
    "df['Interest Return on Safe Assets'] = df['Interest Income Safe Securities'] / df['Safe Securities']\n",
    "df['Return Safe Securities'] = df['Interest Return on Safe Assets'] - df['Cost of Funds']\n",
    "df['Return on Loans'] = df['Interest Return on Loans'] - df['Charge Off Rate Loans']"
   ]
  },
  {
   "cell_type": "code",
   "execution_count": null,
   "metadata": {},
   "outputs": [],
   "source": [
    "# keep only the variables we created/renamed:\n",
    "df = df[['Date', 'Year', 'Quarter', 'Financial Institution Name', 'IDRSSD', 'Total Assets', 'Loans', 'Deposits', \n",
    "         'Loans Non-Accrual', 'Loans Past Due 90 Days', 'Cash', 'Interest Income Loans', 'Dividends', \n",
    "         'Interest Exp. Deposits', 'Interest Exp. FedFunds', 'Charge Off Loans', 'Recovery Loans', \n",
    "         'Total Expenses', 'Expenses on premises and fixed assets', 'Labor expenses', 'Total Non-interest Income', \n",
    "         'Federal Funds Purchased', 'Tier 1 Capital', 'Risk-Weighted Assets', 'Other Borrowings', 'FedFunds Sold', \n",
    "         'US Treasury Securities', 'US Agency Obligations', 'Interest Income Safe Securities', 'Equity Issuance', \n",
    "         'Loans (RW Assets) to Assets', 'Cash and Securities to Assets', 'Capital Ratio (risk-weighted)', \n",
    "         'Equity to Assets', 'Deposits to Assets', 'Interest Return on Loans', 'Interest Cost Deposits', \n",
    "         'Loan Interest Margin', 'Cost Fed Funds', 'Charge Off Rate Loans', 'Delinquency Rate Loans', \n",
    "         'Safe Securities', 'Cost of Funds', 'Interest Return on Safe Assets', 'Return Safe Securities', \n",
    "         'Return on Loans']]"
   ]
  },
  {
   "cell_type": "markdown",
   "metadata": {},
   "source": [
    "Recall that plenty of the variables computed here are ratios. So if some banks have a zero for the denominator, those ratios would explode. "
   ]
  },
  {
   "cell_type": "markdown",
   "metadata": {},
   "source": [
    "## M&A Merges"
   ]
  },
  {
   "cell_type": "code",
   "execution_count": null,
   "metadata": {},
   "outputs": [],
   "source": [
    "df2 = df.copy()"
   ]
  },
  {
   "cell_type": "code",
   "execution_count": null,
   "metadata": {},
   "outputs": [],
   "source": [
    "transformations = pd.read_csv('C:/Users/angel/Documents/Economics/Research/Banking Project/data/clean/CSV_TRANSFORMATIONS.csv')\n",
    "\n",
    "transformations['DT_TRANS'] = transformations['DT_TRANS'].astype(str)\n",
    "\n",
    "transformations['Year'] = transformations['DT_TRANS'].str[:4]\n",
    "transformations['Month'] = transformations['DT_TRANS'].str[4:6]\n",
    "transformations['Day'] = transformations['DT_TRANS'].str[6:8]\n",
    "transformations['Transaction Date'] = pd.to_datetime(transformations['Year'] + '-' + transformations['Month'] + '-' + transformations['Day'])\n",
    "\n",
    "# drop the Month, Day, and Year columns:\n",
    "transformations.drop(['Year', 'Month', 'Day'], axis=1, inplace=True)\n",
    "\n",
    "# Rename #ID_RSSD_PREDECESSOR to IDRSSD Predecessor:\n",
    "transformations.rename(columns={'#ID_RSSD_PREDECESSOR':'IDRSSD Predecessor',\n",
    "                                'ID_RSSD_SUCCESSOR': 'IDRSSD Successor', \n",
    "                                'TRNSFM_CD': 'Transformation Code'}, inplace=True)\n",
    "\n",
    "# make those columns integers:\n",
    "transformations['IDRSSD Predecessor'] = transformations['IDRSSD Predecessor'].astype(int)\n",
    "transformations['IDRSSD Successor'] = transformations['IDRSSD Successor'].astype(int)\n",
    "\n",
    "transformations = transformations[['Transaction Date', 'IDRSSD Predecessor', 'IDRSSD Successor', 'Transformation Code']]\n"
   ]
  },
  {
   "cell_type": "code",
   "execution_count": null,
   "metadata": {},
   "outputs": [],
   "source": [
    "df_predecessor = pd.merge(df2, transformations, left_on='IDRSSD', right_on='IDRSSD Predecessor', how='left')\n",
    "df_successor = pd.merge(df2, transformations, left_on='IDRSSD', right_on='IDRSSD Successor', how='left')"
   ]
  }
 ],
 "metadata": {
  "kernelspec": {
   "display_name": "Python 3",
   "language": "python",
   "name": "python3"
  },
  "language_info": {
   "codemirror_mode": {
    "name": "ipython",
    "version": 3
   },
   "file_extension": ".py",
   "mimetype": "text/x-python",
   "name": "python",
   "nbconvert_exporter": "python",
   "pygments_lexer": "ipython3",
   "version": "3.11.9"
  }
 },
 "nbformat": 4,
 "nbformat_minor": 2
}
