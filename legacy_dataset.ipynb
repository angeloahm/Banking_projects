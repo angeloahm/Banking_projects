{
 "cells": [
  {
   "cell_type": "code",
   "execution_count": 11,
   "metadata": {},
   "outputs": [],
   "source": [
    "# Load packages\n",
    "import os\n",
    "import numpy as np\n",
    "import pandas as pd\n",
    "import seaborn as sns\n",
    "import matplotlib.pyplot as plt"
   ]
  },
  {
   "cell_type": "code",
   "execution_count": 12,
   "metadata": {},
   "outputs": [],
   "source": [
    "path = 'C:/Users/angel/Documents/Economics/Research/Banking Project/data/intermediate/call_reports_legacy'\n",
    "\n",
    "# set path as working directory:\n",
    "os.chdir(path)"
   ]
  },
  {
   "cell_type": "code",
   "execution_count": 13,
   "metadata": {},
   "outputs": [],
   "source": [
    "# Load data\n",
    "riad = pd.read_csv('RIAD_legacy.csv')\n",
    "rcfd = pd.read_csv('RCFD_legacy.csv')"
   ]
  },
  {
   "cell_type": "code",
   "execution_count": 14,
   "metadata": {},
   "outputs": [],
   "source": [
    "# Rename column RSSD9999 to Date:\n",
    "riad.rename(columns={'RSSD9999':'Date', 'RSSD9010': 'Financial Institution Name', \n",
    "                     'RSSD9001': 'IDRSSD'}, inplace=True)\n",
    "\n",
    "rcfd.rename(columns={'RSSD9999':'Date', 'RSSD9010': 'Financial Institution Name', \n",
    "                     'RSSD9001': 'IDRSSD'}, inplace=True)"
   ]
  },
  {
   "cell_type": "code",
   "execution_count": 15,
   "metadata": {},
   "outputs": [],
   "source": [
    "riad['Date'] = pd.to_datetime(riad['Date'], format='%Y%m%d')\n",
    "rcfd['Date'] = pd.to_datetime(riad['Date'], format='%Y%m%d')"
   ]
  },
  {
   "cell_type": "code",
   "execution_count": 17,
   "metadata": {},
   "outputs": [],
   "source": [
    "# concatenate the two dataframes:\n",
    "df = pd.merge(riad, rcfd, on=['Date', 'IDRSSD', 'Financial Institution Name'], how='outer')"
   ]
  },
  {
   "cell_type": "code",
   "execution_count": 18,
   "metadata": {},
   "outputs": [],
   "source": [
    "df.rename(columns={ # RCFD variables (Balance Sheet):\n",
    "                'RCFD2170':'Total Assets', 'RCFD1400': 'Loans', 'RCFD2200': 'Deposits', \n",
    "                'RCFD1403': 'Loans Non-Accrual', 'RCFD1407':'Loans Past Due 90 Days',\n",
    "                'RCFD0010': 'Cash', \n",
    "                # RIAD variables (Income Statement):\n",
    "                'RIAD4170':'Interest Exp. Deposits', \n",
    "                'RIAD4180': 'Interest Exp. FedFunds', 'RIAD4635': 'Charge Off Loans', \n",
    "                'RIAD4605': 'Recovery Loans', 'RIAD4130': 'Total Expenses', \n",
    "                'RIAD4217': 'Expenses on premises and fixed assets', \n",
    "                'RIAD4135': 'Labor expenses', 'RIAD4079': 'Total Non-interest Income'}, inplace=True)"
   ]
  },
  {
   "cell_type": "code",
   "execution_count": 19,
   "metadata": {},
   "outputs": [],
   "source": [
    "df['Interest Income Loans'] = df['RIAD4010']+df['RIAD4065']\n",
    "df['Dividends'] = df['RIAD4470']+df['RIAD4460']"
   ]
  },
  {
   "cell_type": "code",
   "execution_count": 20,
   "metadata": {},
   "outputs": [],
   "source": [
    "df['Federal Funds Purchased'] = np.where(df['Date'].dt.year < 2002, df['RCFD2800'], df['RCFDB993']+df['RCFDB995'])\n",
    "df['Other Borrowings'] = np.where(df['Date'].dt.year < 2001, df['RCFD2835'], df['RCFD3190'])\n",
    "df['FedFunds Sold'] = np.where(df['Date'].dt.year < 2002, df['RCFD1350'], df['RCFDB987']+df['RCFDB989'])\n",
    "df['US Treasury Securities'] = np.where(df['Date'].dt.year < 1994, df['RCFD0400'], df['RCFD0211']+df['RCFD1287'])"
   ]
  },
  {
   "cell_type": "code",
   "execution_count": null,
   "metadata": {},
   "outputs": [],
   "source": []
  }
 ],
 "metadata": {
  "kernelspec": {
   "display_name": "Python 3",
   "language": "python",
   "name": "python3"
  },
  "language_info": {
   "codemirror_mode": {
    "name": "ipython",
    "version": 3
   },
   "file_extension": ".py",
   "mimetype": "text/x-python",
   "name": "python",
   "nbconvert_exporter": "python",
   "pygments_lexer": "ipython3",
   "version": "3.11.9"
  }
 },
 "nbformat": 4,
 "nbformat_minor": 2
}
