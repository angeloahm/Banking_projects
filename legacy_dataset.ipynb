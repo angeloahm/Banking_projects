{
 "cells": [
  {
   "cell_type": "code",
   "execution_count": 22,
   "metadata": {},
   "outputs": [],
   "source": [
    "# Load packages\n",
    "import os\n",
    "import numpy as np\n",
    "import pandas as pd\n",
    "import seaborn as sns\n",
    "import matplotlib.pyplot as plt"
   ]
  },
  {
   "cell_type": "code",
   "execution_count": 23,
   "metadata": {},
   "outputs": [],
   "source": [
    "path = 'C:/Users/angel/Documents/Economics/Research/Banking Project/data/intermediate/call_reports_legacy'\n",
    "\n",
    "# set path as working directory:\n",
    "os.chdir(path)"
   ]
  },
  {
   "cell_type": "code",
   "execution_count": 24,
   "metadata": {},
   "outputs": [],
   "source": [
    "# Load data\n",
    "riad = pd.read_csv('RIAD_legacy.csv')\n",
    "rcfd = pd.read_csv('RCFD_legacy.csv')"
   ]
  },
  {
   "cell_type": "code",
   "execution_count": 25,
   "metadata": {},
   "outputs": [],
   "source": [
    "# Rename column RSSD9999 to Date:\n",
    "riad.rename(columns={'RSSD9999':'Date', 'RSSD9010': 'Financial Institution Name', \n",
    "                     'RSSD9001': 'IDRSSD'}, inplace=True)\n",
    "\n",
    "rcfd.rename(columns={'RSSD9999':'Date', 'RSSD9010': 'Financial Institution Name', \n",
    "                     'RSSD9001': 'IDRSSD'}, inplace=True)"
   ]
  },
  {
   "cell_type": "code",
   "execution_count": 26,
   "metadata": {},
   "outputs": [],
   "source": [
    "riad['Date'] = pd.to_datetime(riad['Date'], format='%Y%m%d')\n",
    "rcfd['Date'] = pd.to_datetime(riad['Date'], format='%Y%m%d')"
   ]
  },
  {
   "cell_type": "code",
   "execution_count": 27,
   "metadata": {},
   "outputs": [],
   "source": [
    "# concatenate the two dataframes:\n",
    "df = pd.merge(riad, rcfd, on=['Date', 'IDRSSD', 'Financial Institution Name'], how='outer')"
   ]
  },
  {
   "cell_type": "code",
   "execution_count": 36,
   "metadata": {},
   "outputs": [],
   "source": [
    "# create a 'Year' column:\n",
    "df['Year'] = df['Date'].dt.year\n",
    "\n",
    "# create a 'Quarter' column:\n",
    "df['Quarter'] = df['Date'].dt.quarter"
   ]
  },
  {
   "cell_type": "code",
   "execution_count": 28,
   "metadata": {},
   "outputs": [],
   "source": [
    "df.rename(columns={ # RCFD variables (Balance Sheet):\n",
    "                'RCFD2170':'Total Assets', 'RCFD1400': 'Loans', 'RCFD2200': 'Deposits', \n",
    "                'RCFD1403': 'Loans Non-Accrual', 'RCFD1407':'Loans Past Due 90 Days',\n",
    "                'RCFD0010': 'Cash', \n",
    "                # RIAD variables (Income Statement):\n",
    "                'RIAD4170':'Interest Exp. Deposits', \n",
    "                'RIAD4180': 'Interest Exp. FedFunds', 'RIAD4635': 'Charge Off Loans', \n",
    "                'RIAD4605': 'Recovery Loans', 'RIAD4130': 'Total Expenses', \n",
    "                'RIAD4217': 'Expenses on premises and fixed assets', \n",
    "                'RIAD4135': 'Labor expenses', 'RIAD4079': 'Total Non-interest Income'}, inplace=True)"
   ]
  },
  {
   "cell_type": "code",
   "execution_count": 29,
   "metadata": {},
   "outputs": [],
   "source": [
    "df['Interest Income Loans'] = df['RIAD4010']+df['RIAD4065']\n",
    "df['Dividends'] = df['RIAD4470']+df['RIAD4460']"
   ]
  },
  {
   "cell_type": "code",
   "execution_count": 30,
   "metadata": {},
   "outputs": [],
   "source": [
    "df['Federal Funds Purchased'] = np.where(df['Date'].dt.year < 2002, df['RCFD2800'], df['RCFDB993']+df['RCFDB995'])\n",
    "df['Other Borrowings'] = np.where(df['Date'].dt.year < 2001, df['RCFD2835'], df['RCFD3190'])\n",
    "df['FedFunds Sold'] = np.where(df['Date'].dt.year < 2002, df['RCFD1350'], df['RCFDB987']+df['RCFDB989'])\n",
    "df['US Treasury Securities'] = np.where(df['Date'].dt.year < 1994, df['RCFD0400'], df['RCFD0211']+df['RCFD1287'])\n",
    "# missing US agency obligations"
   ]
  },
  {
   "cell_type": "code",
   "execution_count": 31,
   "metadata": {},
   "outputs": [],
   "source": [
    "df['Interest Income Safe Securities'] = np.where(df['Date'].dt.year<2001, df['RIAD4027'], df['RIADB488'])\n",
    "df['Equity Issuance'] = np.where(df['Date'].dt.year<2001, df['RIAD4346']+df['RIADB510'], \n",
    "                                 df['RIADB509']+df['RIADB510'])"
   ]
  },
  {
   "cell_type": "code",
   "execution_count": 32,
   "metadata": {},
   "outputs": [],
   "source": [
    "# For 'US Agency Obligations' we need a np.where with 3 time windows (1984-1993, 1994-2008, 2009-2010, 2011-2021):\n",
    "df['US Agency Obligations'] = np.where(\n",
    "                            df['Date'].dt.year < 1994, df['RCFD0600'],\n",
    "                            np.where(\n",
    "                            df['Date'].dt.year < 2009, \n",
    "                            df['RCFD1289']+df['RCFD1294']+df['RCFD1293']+df['RCFD1298']+df['RCFD1698']+df['RCFD1702']+\n",
    "                            df['RCFD1703']+df['RCFD1707']+df['RCFD1714']+df['RCFD1717']+df['RCFD1718']+df['RCFD1732'],\n",
    "                            np.where(\n",
    "                            df['Date'].dt.year < 2011, \n",
    "                            df['RCFD1289']+df['RCFD1294']+df['RCFD1293']+df['RCFD1298']+df['RCFDG300']+df['RCFDG303']+\n",
    "                            df['RCFDG304']+df['RCFDG307']+df['RCFDG312']+df['RCFDG315']+df['RCFDG316']+df['RCFDG319']+\n",
    "                            df['RCFDG324']+df['RCFDG327'],\n",
    "                            df['RCFD1289']+df['RCFD1294']+df['RCFD1293']+df['RCFD1298']+df['RCFDG300']+df['RCFDG303']+\n",
    "                            df['RCFDG304']+df['RCFDG307']+df['RCFDG312']+df['RCFDG315']+df['RCFDG316']+df['RCFDG319'] \n",
    "# Missing here RCFDK142 and RCFDK145.\n",
    "                            )\n",
    "                            )\n",
    ")"
   ]
  },
  {
   "cell_type": "code",
   "execution_count": 34,
   "metadata": {},
   "outputs": [],
   "source": [
    "# Derived variables (the ones that don't require any RCFA variable):\n",
    "df['Interest Return on Loans'] = df['Interest Income Loans']/df['Loans']\n",
    "df['Interest Cost Deposits'] = df['Interest Exp. Deposits']/df['Deposits']\n",
    "df['Loan Interest Margin'] = df['Interest Income Loans']-df['Interest Exp. Deposits']\n",
    "df['Cost Fed Funds'] = df['Interest Exp. FedFunds']/df['Federal Funds Purchased']\n",
    "df['Charge Off Rate Loans']  = (df['Charge Off Loans']-df['Recovery Loans'])/df['Loans']\n",
    "df['Delinquency Rate Loans'] = (df['Loans Non-Accrual']+df['Loans Past Due 90 Days'])/df['Loans']\n",
    "df['Safe Securities'] = df['US Treasury Securities']+df['US Agency Obligations']\n",
    "df['Cost of Funds'] = (df['Interest Exp. Deposits']+df['Interest Exp. FedFunds'])/(df['Deposits']+df['Federal Funds Purchased'])\n",
    "df['Interest Return on Safe Assets'] = df['Interest Income Safe Securities'] / df['Safe Securities']\n",
    "df['Return Safe Securities'] = df['Interest Return on Safe Assets'] - df['Cost of Funds']\n",
    "df['Return on Loans'] = df['Interest Return on Loans'] - df['Charge Off Rate Loans']"
   ]
  }
 ],
 "metadata": {
  "kernelspec": {
   "display_name": "Python 3",
   "language": "python",
   "name": "python3"
  },
  "language_info": {
   "codemirror_mode": {
    "name": "ipython",
    "version": 3
   },
   "file_extension": ".py",
   "mimetype": "text/x-python",
   "name": "python",
   "nbconvert_exporter": "python",
   "pygments_lexer": "ipython3",
   "version": "3.11.9"
  }
 },
 "nbformat": 4,
 "nbformat_minor": 2
}
