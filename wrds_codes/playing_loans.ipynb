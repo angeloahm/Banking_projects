{
 "cells": [
  {
   "cell_type": "code",
   "execution_count": 91,
   "metadata": {},
   "outputs": [],
   "source": [
    "# Load packages\n",
    "import os\n",
    "import numpy as np\n",
    "import pandas as pd\n",
    "import seaborn as sns\n",
    "import statsmodels.api as sm\n",
    "import matplotlib.pyplot as plt"
   ]
  },
  {
   "cell_type": "code",
   "execution_count": 92,
   "metadata": {},
   "outputs": [],
   "source": [
    "path = 'C:/Users/angel/Documents/Economics/Research/Banking Project/data/intermediate/call_reports_wrds'\n",
    "\n",
    "# set path as working directory:\n",
    "os.chdir(path)"
   ]
  },
  {
   "cell_type": "code",
   "execution_count": 154,
   "metadata": {},
   "outputs": [],
   "source": [
    "# load fredgraph data:\n",
    "aggregates = pd.read_csv('fredgraph.csv')\n",
    "\n",
    "# rename some variables\n",
    "aggregates.rename(columns = {'DATE':'Date', \n",
    "                             'NGDPSAXDCUSQ': 'Nominal GDP', \n",
    "                             'GDPDEF': 'Deflator'}, inplace = True)\n",
    "\n",
    "# drop the first row:\n",
    "aggregates = aggregates.iloc[1:,:]\n",
    "\n",
    "# for all entries with '.' substitute with NaN:\n",
    "aggregates = aggregates.replace('.', np.nan)\n",
    "\n",
    "# make 'Deflator' and 'Nominal GDP' floats:\n",
    "aggregates['Deflator'] = aggregates['Deflator'].astype(float)\n",
    "aggregates['Nominal GDP'] = aggregates['Nominal GDP'].astype(float)\n",
    "\n",
    "# make 'Date' a datetime object:\n",
    "aggregates['Date'] = pd.to_datetime(aggregates['Date'])\n",
    "\n",
    "# create 'Real GDP' variable:\n",
    "aggregates['Real GDP'] = aggregates['Nominal GDP'] / aggregates['Deflator']\n",
    "\n",
    "# adjust the FF rate: \n",
    "aggregates['FEDFUNDS'] = aggregates['FEDFUNDS'] / 100\n",
    "aggregates['Date'] = aggregates['Date'] - pd.DateOffset(days = 1)\n",
    "\n",
    "# compute the growth rate of Nominal GDP and the Deflator:\n",
    "aggregates['Growth Rate Nominal GDP'] = aggregates['Nominal GDP'].pct_change(fill_method=None)\n",
    "aggregates['Growth Rate Deflator'] = aggregates['Deflator'].pct_change(fill_method=None)\n",
    "\n",
    "# compute the growth rate of Real GDP by subtracting the growth rate of the Deflator from the growth rate of Nominal GDP:\n",
    "aggregates['Growth Rate Real GDP'] = aggregates['Growth Rate Nominal GDP'] - aggregates['Growth Rate Deflator']"
   ]
  },
  {
   "cell_type": "code",
   "execution_count": null,
   "metadata": {},
   "outputs": [],
   "source": [
    "# load call reports data:\n",
    "loans = pd.read_csv('loans_unbalanced.csv', low_memory=False)\n",
    "int_income = pd.read_csv('interest_income_unbalanced.csv', low_memory=False)\n",
    "assets = pd.read_csv('assets_unbalanced.csv', low_memory=False)\n",
    "\n",
    "# merge the datasets\n",
    "df = pd.merge(loans[['Date', 'IDRSSD', 'RCON2122', 'Flag']], int_income, \n",
    "              on=['IDRSSD', 'Date'], how='outer', suffixes=('_RCON', '_RIAD'))\n",
    "\n",
    "# adjust the dates\n",
    "df['Date'] = pd.to_datetime(df['Date'])\n",
    "\n",
    "# create a 'Flag' that is zero if both are zero, and 1 if either is 1:\n",
    "df['Flag'] = np.where(df['Flag_RCON'] + df['Flag_RIAD'] > 0, 1, 0)\n",
    "\n",
    "# drop the two flag columns:\n",
    "df = df.drop(columns=['Flag_RCON', 'Flag_RIAD'])\n",
    "\n",
    "# create an 'Agg. Loans' summing all the loans in a given Date:\n",
    "df['Agg. Loans'] = df.groupby('Date')['RCON2122'].transform('sum')"
   ]
  },
  {
   "cell_type": "code",
   "execution_count": null,
   "metadata": {},
   "outputs": [],
   "source": [
    "# merge df with aggregates:\n",
    "df = pd.merge(df[['Date', 'IDRSSD', 'Agg. Loans', 'RCON2122', \n",
    "                  'Int. Income Loans']], aggregates[['Date', 'FEDFUNDS', 'Real GDP', 'Deflator']], on='Date', how='left')\n",
    "\n",
    "# create 'Agg. Real Loans':\n",
    "df['Agg. Real Loans'] = df['Agg. Loans'] / df['Deflator']"
   ]
  },
  {
   "cell_type": "code",
   "execution_count": null,
   "metadata": {},
   "outputs": [],
   "source": [
    "# create a 'Time' variable grouping 'Dates':\n",
    "df['Time'] = df.groupby('Date').ngroup()\n",
    "\n",
    "# run regressions to detrend variables of interest \n",
    "df['De-trended Real Loans'] = sm.OLS(np.log(df['Agg. Real Loans']), sm.add_constant(df['Time'])).fit().resid\n",
    "df['De-trended Real GDP'] = sm.OLS(np.log(df['Real GDP']), sm.add_constant(df['Time'])).fit().resid"
   ]
  },
  {
   "cell_type": "code",
   "execution_count": null,
   "metadata": {},
   "outputs": [],
   "source": [
    "# plot the de-trended loans using seaborn:\n",
    "sns.lineplot(x='Date', y='De-trended Real Loans', data=df, linewidth=2, label='Loans')\n",
    "sns.lineplot(x='Date', y='De-trended Real GDP', data=df, linewidth=2, label='GDP')\n",
    "sns.lineplot(x='Date', y='FEDFUNDS', data=df, linewidth=2, label='FF Rate', color='black', linestyle='--')\n",
    "# add a line at zero:\n",
    "plt.axhline(y=0, color='r', linestyle='--', linewidth=2)\n",
    "plt.title('De-trended Loans')\n",
    "plt.xlabel('Date')\n",
    "plt.ylabel('Deviations from the trend, %')\n",
    "plt.legend()\n",
    "plt.tight_layout()\n",
    "# add the grids:\n",
    "plt.grid(True, which='both', linestyle='--', lw=0.5, alpha=0.5, color='lightgrey')\n",
    "plt.show()"
   ]
  },
  {
   "cell_type": "markdown",
   "metadata": {},
   "source": [
    "### Computing Betas"
   ]
  },
  {
   "cell_type": "code",
   "execution_count": 195,
   "metadata": {},
   "outputs": [],
   "source": [
    "df = pd.merge(int_income, assets[['Date', 'IDRSSD', 'RCON2170', 'Flag']], on=['IDRSSD', 'Date'], \n",
    "              how='outer', suffixes=('_Inc', '_Assets'))\n",
    "\n",
    "df.rename(columns={'RCON2170':'Total Assets'}, inplace=True)\n",
    "df['Date'] = pd.to_datetime(df['Date'])\n",
    "\n",
    "df['Int. Income Assets'] = 4*df['Int. Income Loans'] / df['Total Assets']"
   ]
  },
  {
   "cell_type": "code",
   "execution_count": 196,
   "metadata": {},
   "outputs": [],
   "source": [
    "# compute the differente of Int. Income Assets per ID accross time:\n",
    "df['Int. Income Assets Diff'] = df.groupby('IDRSSD')['Int. Income Assets'].diff()"
   ]
  },
  {
   "cell_type": "code",
   "execution_count": 197,
   "metadata": {},
   "outputs": [
    {
     "name": "stdout",
     "output_type": "stream",
     "text": [
      "Sample of banks: 9295\n"
     ]
    }
   ],
   "source": [
    "# select the banks that show up at least in 60 dates in the sample:\n",
    "df = df[(df['Date'].dt.year < 2018) & (df['Total Assets']>0)]\n",
    "banks = df['IDRSSD'].value_counts()\n",
    "banks = banks[banks >= 60].index\n",
    "df = df[(df['IDRSSD'].isin(banks))]\n",
    "print('Sample of banks:', df['IDRSSD'].nunique())"
   ]
  },
  {
   "cell_type": "code",
   "execution_count": 198,
   "metadata": {},
   "outputs": [],
   "source": [
    "df = pd.merge(df[['Date', 'IDRSSD', 'Int. Income Assets Diff']].dropna(), aggregates[['Date', 'FEDFUNDS']], \n",
    "         on='Date', how='left')"
   ]
  },
  {
   "cell_type": "code",
   "execution_count": 199,
   "metadata": {},
   "outputs": [],
   "source": [
    "# Step 1: Sort by bank and date to ensure correct ordering\n",
    "df = df.sort_values(['IDRSSD', 'Date'])\n",
    "df['Delta FEDFUNDS'] = df['FEDFUNDS'].diff()\n",
    "\n",
    "# Step 3: Create lagged values of 'Delta FEDFUNDS' for up to 4 lags\n",
    "for lag in range(1, 4):\n",
    "    df[f'Delta FEDFUNDS_lag{lag}'] = df['Delta FEDFUNDS'].shift(lag)\n",
    "\n",
    "# Drop rows with NaN values created by differencing and lagging\n",
    "df = df.dropna().reset_index(drop=True)\n",
    "\n",
    "# Step 4: Run the regression for each bank and store the coefficients\n",
    "results = []\n",
    "\n",
    "for bank_id, bank_data in df.groupby('IDRSSD'):\n",
    "    \n",
    "    # Set up the regression model\n",
    "    X = bank_data[['Delta FEDFUNDS', 'Delta FEDFUNDS_lag1', 'Delta FEDFUNDS_lag2', 'Delta FEDFUNDS_lag3']]\n",
    "    X = sm.add_constant(X)  # Add intercept (constant term)\n",
    "    y = bank_data['Int. Income Assets Diff']\n",
    "    \n",
    "    # Fit the model\n",
    "    model = sm.OLS(y, X).fit()\n",
    "    \n",
    "    # Store the coefficients with the bank ID\n",
    "    coeffs = model.params\n",
    "    coeffs['IDRSSD'] = bank_id\n",
    "    results.append(coeffs)"
   ]
  },
  {
   "cell_type": "code",
   "execution_count": 200,
   "metadata": {},
   "outputs": [
    {
     "name": "stderr",
     "output_type": "stream",
     "text": [
      "C:\\Users\\angel\\AppData\\Local\\Packages\\PythonSoftwareFoundation.Python.3.11_qbz5n2kfra8p0\\LocalCache\\local-packages\\Python311\\site-packages\\numpy\\core\\_methods.py:49: RuntimeWarning: invalid value encountered in reduce\n",
      "  return umr_sum(a, axis, dtype, out, keepdims, initial, where)\n"
     ]
    }
   ],
   "source": [
    "# Convert the results to a DataFrame\n",
    "results_df = pd.DataFrame(results)\n",
    "\n",
    "# Sum all the coefficients for the lags of 'Delta FEDFUNDS', put it in a column named 'Deposit Beta':\n",
    "results_df['Interest Income Beta'] = results_df[['Delta FEDFUNDS', 'Delta FEDFUNDS_lag1', 'Delta FEDFUNDS_lag2', 'Delta FEDFUNDS_lag3']].sum(axis=1)\n",
    "\n",
    "# merge results_df[['IDRSSD', 'Deposit Beta']] with df on 'IDRSSD':\n",
    "df = df.merge(results_df[['IDRSSD', 'Interest Income Beta']], on='IDRSSD')"
   ]
  },
  {
   "cell_type": "code",
   "execution_count": 204,
   "metadata": {},
   "outputs": [
    {
     "data": {
      "text/plain": [
       "count    866482.000000\n",
       "mean          0.158023\n",
       "std           0.109566\n",
       "min          -0.035578\n",
       "25%           0.085900\n",
       "50%           0.138125\n",
       "75%           0.204686\n",
       "max           0.543505\n",
       "Name: Interest Income Beta, dtype: float64"
      ]
     },
     "execution_count": 204,
     "metadata": {},
     "output_type": "execute_result"
    }
   ],
   "source": [
    "df[(df['Interest Income Beta']<df['Interest Income Beta'].quantile(0.95)) &\n",
    "   (df['Interest Income Beta']>df['Interest Income Beta'].quantile(0.05))]['Interest Income Beta'].describe()"
   ]
  },
  {
   "cell_type": "code",
   "execution_count": null,
   "metadata": {},
   "outputs": [],
   "source": []
  }
 ],
 "metadata": {
  "kernelspec": {
   "display_name": "Python 3",
   "language": "python",
   "name": "python3"
  },
  "language_info": {
   "codemirror_mode": {
    "name": "ipython",
    "version": 3
   },
   "file_extension": ".py",
   "mimetype": "text/x-python",
   "name": "python",
   "nbconvert_exporter": "python",
   "pygments_lexer": "ipython3",
   "version": "3.11.9"
  }
 },
 "nbformat": 4,
 "nbformat_minor": 2
}
