{
 "cells": [
  {
   "cell_type": "code",
   "execution_count": 9,
   "metadata": {},
   "outputs": [],
   "source": [
    "# Load packages\n",
    "import numpy as np\n",
    "import os\n",
    "import pandas as pd\n",
    "import matplotlib.pyplot as plt"
   ]
  },
  {
   "cell_type": "code",
   "execution_count": 13,
   "metadata": {},
   "outputs": [],
   "source": [
    "path = 'C:/Users/angel/Documents/Economics/Research/Banking Project/data/intermediate/sod'\n",
    "\n",
    "# Set path to be the directory:\n",
    "os.chdir(path)"
   ]
  },
  {
   "cell_type": "code",
   "execution_count": 91,
   "metadata": {},
   "outputs": [
    {
     "name": "stderr",
     "output_type": "stream",
     "text": [
      "C:\\Users\\angel\\AppData\\Local\\Temp\\ipykernel_6216\\541341183.py:2: DtypeWarning: Columns (13,28,50,59,60,62) have mixed types. Specify dtype option on import or set low_memory=False.\n",
      "  sod = pd.read_csv('sod_data.csv', header=0, sep=',')\n"
     ]
    }
   ],
   "source": [
    "# Load the data:\n",
    "sod = pd.read_csv('sod_data.csv', header=0, sep=',')\n"
   ]
  },
  {
   "cell_type": "code",
   "execution_count": 92,
   "metadata": {},
   "outputs": [
    {
     "data": {
      "text/html": [
       "<div>\n",
       "<style scoped>\n",
       "    .dataframe tbody tr th:only-of-type {\n",
       "        vertical-align: middle;\n",
       "    }\n",
       "\n",
       "    .dataframe tbody tr th {\n",
       "        vertical-align: top;\n",
       "    }\n",
       "\n",
       "    .dataframe thead th {\n",
       "        text-align: right;\n",
       "    }\n",
       "</style>\n",
       "<table border=\"1\" class=\"dataframe\">\n",
       "  <thead>\n",
       "    <tr style=\"text-align: right;\">\n",
       "      <th></th>\n",
       "      <th>DEPSUMBR</th>\n",
       "      <th>NECNAMB</th>\n",
       "      <th>ASSET</th>\n",
       "      <th>DEPDOM</th>\n",
       "      <th>DEPSUM</th>\n",
       "      <th>ESCROW</th>\n",
       "    </tr>\n",
       "  </thead>\n",
       "  <tbody>\n",
       "    <tr>\n",
       "      <th>0</th>\n",
       "      <td>7563</td>\n",
       "      <td>NaN</td>\n",
       "      <td>3014436</td>\n",
       "      <td>2054512</td>\n",
       "      <td>0</td>\n",
       "      <td>NaN</td>\n",
       "    </tr>\n",
       "    <tr>\n",
       "      <th>1</th>\n",
       "      <td>2377</td>\n",
       "      <td>NaN</td>\n",
       "      <td>3014436</td>\n",
       "      <td>2054512</td>\n",
       "      <td>0</td>\n",
       "      <td>NaN</td>\n",
       "    </tr>\n",
       "    <tr>\n",
       "      <th>2</th>\n",
       "      <td>33490</td>\n",
       "      <td>Bangor, ME</td>\n",
       "      <td>3014436</td>\n",
       "      <td>2054512</td>\n",
       "      <td>0</td>\n",
       "      <td>NaN</td>\n",
       "    </tr>\n",
       "    <tr>\n",
       "      <th>3</th>\n",
       "      <td>20391</td>\n",
       "      <td>Augusta, ME</td>\n",
       "      <td>3014436</td>\n",
       "      <td>2054512</td>\n",
       "      <td>0</td>\n",
       "      <td>NaN</td>\n",
       "    </tr>\n",
       "    <tr>\n",
       "      <th>4</th>\n",
       "      <td>38465</td>\n",
       "      <td>Portland-South Portland-Biddeford, ME</td>\n",
       "      <td>3014436</td>\n",
       "      <td>2054512</td>\n",
       "      <td>0</td>\n",
       "      <td>NaN</td>\n",
       "    </tr>\n",
       "  </tbody>\n",
       "</table>\n",
       "</div>"
      ],
      "text/plain": [
       "  DEPSUMBR                                NECNAMB    ASSET   DEPDOM DEPSUM  \\\n",
       "0     7563                                    NaN  3014436  2054512      0   \n",
       "1     2377                                    NaN  3014436  2054512      0   \n",
       "2    33490                             Bangor, ME  3014436  2054512      0   \n",
       "3    20391                            Augusta, ME  3014436  2054512      0   \n",
       "4    38465  Portland-South Portland-Biddeford, ME  3014436  2054512      0   \n",
       "\n",
       "  ESCROW  \n",
       "0    NaN  \n",
       "1    NaN  \n",
       "2    NaN  \n",
       "3    NaN  \n",
       "4    NaN  "
      ]
     },
     "execution_count": 92,
     "metadata": {},
     "output_type": "execute_result"
    }
   ],
   "source": [
    "# show columns 13,28,50,59,60,62:\n",
    "cols = [13,28,50,59,60,62]\n",
    "sod.iloc[:,cols].head()"
   ]
  },
  {
   "cell_type": "code",
   "execution_count": 93,
   "metadata": {},
   "outputs": [
    {
     "data": {
      "text/plain": [
       "DEPSUMBR    object\n",
       "NECNAMB     object\n",
       "ASSET       object\n",
       "DEPDOM      object\n",
       "DEPSUM      object\n",
       "ESCROW      object\n",
       "dtype: object"
      ]
     },
     "execution_count": 93,
     "metadata": {},
     "output_type": "execute_result"
    }
   ],
   "source": [
    "# Specify dtypes for col 13, 28, 50, 59, 60, 62:\n",
    "sod.iloc[:,cols].dtypes"
   ]
  },
  {
   "cell_type": "code",
   "execution_count": 94,
   "metadata": {},
   "outputs": [],
   "source": [
    "# Remove commas, handle errors, and convert to numeric:\n",
    "sod['DEPSUMBR'] = pd.to_numeric(sod['DEPSUMBR'].str.replace(',', ''))"
   ]
  },
  {
   "cell_type": "code",
   "execution_count": 104,
   "metadata": {},
   "outputs": [
    {
     "name": "stdout",
     "output_type": "stream",
     "text": [
      "Deposits in 2022: 18141021926.0\n"
     ]
    }
   ],
   "source": [
    "# Value in USD\n",
    "print('Deposits in 2022:', sod[sod['YEAR']==2022]['DEPSUMBR'].sum())"
   ]
  },
  {
   "cell_type": "code",
   "execution_count": 123,
   "metadata": {},
   "outputs": [
    {
     "data": {
      "text/plain": [
       "1398238    ALL OTHER > $1 BILLION\n",
       "1500243    ALL OTHER > $1 BILLION\n",
       "1598128    ALL OTHER > $1 BILLION\n",
       "1696340    ALL OTHER > $1 BILLION\n",
       "1792735    ALL OTHER > $1 BILLION\n",
       "1887848    ALL OTHER > $1 BILLION\n",
       "1981403    ALL OTHER > $1 BILLION\n",
       "2073389    ALL OTHER > $1 BILLION\n",
       "2163455    ALL OTHER > $1 BILLION\n",
       "2251864    ALL OTHER > $1 BILLION\n",
       "2338397    ALL OTHER > $1 BILLION\n",
       "2423571    ALL OTHER > $1 BILLION\n",
       "2505586    ALL OTHER > $1 BILLION\n",
       "2585023    ALL OTHER > $1 BILLION\n",
       "2663126    ALL OTHER > $1 BILLION\n",
       "Name: SPECDESC, dtype: object"
      ]
     },
     "execution_count": 123,
     "metadata": {},
     "output_type": "execute_result"
    }
   ],
   "source": [
    "sod[sod['NAMEFULL'] == 'Morgan Stanley Bank, National Association']['SPECDESC']"
   ]
  }
 ],
 "metadata": {
  "kernelspec": {
   "display_name": "Python 3",
   "language": "python",
   "name": "python3"
  },
  "language_info": {
   "codemirror_mode": {
    "name": "ipython",
    "version": 3
   },
   "file_extension": ".py",
   "mimetype": "text/x-python",
   "name": "python",
   "nbconvert_exporter": "python",
   "pygments_lexer": "ipython3",
   "version": "3.11.9"
  }
 },
 "nbformat": 4,
 "nbformat_minor": 2
}
