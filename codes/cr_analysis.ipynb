{
 "cells": [
  {
   "cell_type": "markdown",
   "metadata": {},
   "source": [
    "# Call Reports Analysis"
   ]
  },
  {
   "cell_type": "markdown",
   "metadata": {},
   "source": [
    "##### Housekeeping and loading data"
   ]
  },
  {
   "cell_type": "code",
   "execution_count": 17,
   "metadata": {},
   "outputs": [],
   "source": [
    "# Load packages\n",
    "import os\n",
    "import statsmodels.api as sm\n",
    "import statsmodels.formula.api as smf\n",
    "from linearmodels import PanelOLS\n",
    "import numpy as np\n",
    "import pandas as pd\n",
    "import seaborn as sns\n",
    "import matplotlib.pyplot as plt"
   ]
  },
  {
   "cell_type": "code",
   "execution_count": 18,
   "metadata": {},
   "outputs": [],
   "source": [
    "def binned_scatter(x, y, q, marker='o'):\n",
    "    # Create quantile bins using qcut\n",
    "    x_binned, bin_edges = pd.qcut(x, q=q, retbins=True, duplicates='drop')\n",
    "    bin_centers = []\n",
    "    binned_means = []\n",
    "    binned_median = []\n",
    "    binned_min = []\n",
    "    binned_max = []\n",
    "    \n",
    "    # For each unique bin, compute center, mean, min and max of y\n",
    "    for interval in x_binned.unique():\n",
    "        x_in_bin = x[x_binned == interval]\n",
    "        y_in_bin = y[x_binned == interval]\n",
    "        bin_center = x_in_bin.mean()\n",
    "        mean_val = y_in_bin.mean()\n",
    "        median_val = y_in_bin.median()\n",
    "        min_val = y_in_bin.quantile(0.75)\n",
    "        max_val = y_in_bin.quantile(0.25)\n",
    "        bin_centers.append(bin_center)\n",
    "        binned_means.append(mean_val)\n",
    "        binned_median.append(median_val)\n",
    "        binned_min.append(min_val)\n",
    "        binned_max.append(max_val)\n",
    "    \n",
    "    # Sort the results based on bin centers\n",
    "    sorted_indices = np.argsort(bin_centers)\n",
    "    bin_centers = np.array(bin_centers)[sorted_indices]\n",
    "    binned_means = np.array(binned_means)[sorted_indices]\n",
    "    binned_median = np.array(binned_median)[sorted_indices]\n",
    "    binned_min = np.array(binned_min)[sorted_indices]\n",
    "    binned_max = np.array(binned_max)[sorted_indices]\n",
    "    \n",
    "    # Plot the scatter for the mean with full opacity\n",
    "    #plt.scatter(bin_centers, binned_max, label='75%', marker='o',\n",
    "    #            alpha=0.1, s=50, color='grey')\n",
    "    plt.scatter(bin_centers, binned_means, label='mean', marker=marker,\n",
    "                alpha=1, s=50)\n",
    "    #plt.scatter(bin_centers, binned_median, label='median', marker='o',\n",
    "    #            alpha=0.1, s=50, color='green')\n",
    "    #plt.scatter(bin_centers, binned_min, label='25%', marker='o',\n",
    "    #            alpha=0.1, s=50, color='grey')\n",
    "    \n",
    "    plt.xlabel(x.name)\n",
    "    plt.ylabel(y.name)\n",
    "    plt.grid(True, linestyle='--', alpha=0.5, linewidth=0.5, color='lightgrey')"
   ]
  },
  {
   "cell_type": "code",
   "execution_count": 19,
   "metadata": {},
   "outputs": [],
   "source": [
    "def get_shared_bins(x, y, q):\n",
    "    \"\"\"Compute shared quantile bins for both x and y\"\"\"\n",
    "    combined = pd.concat([x, y])\n",
    "    _, bin_edges = pd.qcut(combined, q=q, retbins=True, duplicates='drop')\n",
    "    return bin_edges\n",
    "\n",
    "# For each plot, reuse these components\n",
    "def add_45_degree_line():\n",
    "    ax = plt.gca()\n",
    "    lims = [min(ax.get_xlim()[0], ax.get_ylim()[0]), \n",
    "            max(ax.get_xlim()[1], ax.get_ylim()[1])]\n",
    "    plt.plot(lims, lims, 'k--', alpha=0.7, lw=1, label='45-degree line')\n",
    "    plt.xlim(lims)\n",
    "    plt.ylim(lims)"
   ]
  },
  {
   "cell_type": "code",
   "execution_count": 20,
   "metadata": {},
   "outputs": [],
   "source": [
    "path = 'C:/Users/angel/Documents/Economics/Research/Banking Project/data/clean'\n",
    "path_output = 'C:/Users/angel/Documents/Economics/Research/Banking Project/data/output'\n",
    "\n",
    "# set colorblind theme for plots:\n",
    "sns.set_theme(context='notebook', style=\"ticks\", palette='colorblind')\n",
    "sns.set_color_codes(palette='colorblind')\n",
    "\n",
    "# Set path to be the directory:\n",
    "os.chdir(path)"
   ]
  },
  {
   "cell_type": "code",
   "execution_count": 21,
   "metadata": {},
   "outputs": [
    {
     "data": {
      "text/plain": [
       "['RCFD1754_x',\n",
       " 'RCFD1773_x',\n",
       " 'RCON1754_x',\n",
       " 'Unnamed: 79_x',\n",
       " 'Unnamed: 241_x',\n",
       " 'Unnamed: 88_x',\n",
       " 'RCFD1754_y',\n",
       " 'RCFD1773_y',\n",
       " 'RCON1754_y',\n",
       " 'Unnamed: 79_y',\n",
       " 'Unnamed: 241_y',\n",
       " 'Unnamed: 88_y']"
      ]
     },
     "execution_count": 21,
     "metadata": {},
     "output_type": "execute_result"
    }
   ],
   "source": [
    "# read just the first row in the 'call_reports.csv' file:\n",
    "sample = pd.read_csv('call_reports.csv', nrows=1)\n",
    "\n",
    "# list the columns that have '_x' and '_y' in them:\n",
    "cols_x = [col for col in sample.columns if '_x' in col]\n",
    "cols_y = [col for col in sample.columns if '_y' in col]\n",
    "\n",
    "problem_cols = cols_x + cols_y\n",
    "problem_cols"
   ]
  },
  {
   "cell_type": "code",
   "execution_count": 22,
   "metadata": {},
   "outputs": [],
   "source": [
    "# define maturity variables:\n",
    "loans_mat_vars = [\n",
    "                'RCONA564', 'RCONA565', 'RCONA566', 'RCONA567', 'RCONA568', 'RCONA569',     # used\n",
    "                #'RCFDA564', 'RCFDA565', 'RCFDA566', 'RCFDA567', 'RCFDA568', 'RCFDA569',     # to be tested\n",
    "                # ------------------------------------------------------------------------------------------------\n",
    "                'RCFDA570', 'RCFDA571', 'RCFDA572', 'RCFDA573', 'RCFDA574', 'RCFDA575',     # used \n",
    "                #'RCONA570', 'RCONA571', 'RCONA572', 'RCONA573', 'RCONA574', 'RCONA575',     # to be tested  \n",
    "                ]\n",
    "\n",
    "securities_mat_vars = [\n",
    "             # --------------------------------------  Treasuries  --------------------------------------\n",
    "                'RCFDA549', 'RCFDA550', 'RCFDA551', 'RCFDA552', 'RCFDA553', 'RCFDA554',     # used\n",
    "                'RCONA549', 'RCONA550', 'RCONA551', 'RCONA552', 'RCONA553', 'RCONA554',     # to be tested\n",
    "            # --------------------------------------  MBS  --------------------------------------\n",
    "                'RCFDA555', 'RCFDA556', 'RCFDA557', 'RCFDA558', 'RCFDA559', 'RCFDA560',     # used\n",
    "                'RCONA555', 'RCONA556', 'RCONA557', 'RCONA558', 'RCONA559', 'RCONA560',     # to be tested\n",
    "                ]\n",
    "\n",
    "\n",
    "# define the list of variables that will be used\n",
    "vars = [\n",
    "             # ------------------------------------------------------------------------------------------------ \n",
    "             'Date', 'IDRSSD', 'Financial Institution Name',            # Identifier Variables\n",
    "             # ------------------------------------------------------------------------------------------------\n",
    "            'RCON2170', 'RCFD2170',                                    # Total Assets\n",
    "             # ------------------------------------------------------------------------------------------------\n",
    "             'RCON2122', 'RCFD2122',                                    # Total Loans\n",
    "             # ------------------------------------------------------------------------------------------------\n",
    "             'RCON2200',                                                # Total Deposits\n",
    "             # ------------------------------------------------------------------------------------------------\n",
    "             'RCON1754', 'RCFD1754',                                    # HTM Securities Ammortized Cost\n",
    "             'RCFD1754_x', 'RCFD1754_y', 'RCON1754_x', 'RCON1754_y',\n",
    "             # ------------------------------------------------------------------------------------------------\n",
    "             'RCON1772',                                                # AFS Securities Ammortized Cost\n",
    "             # ------------------------------------------------------------------------------------------------\n",
    "             'RCFD1773_x', 'RCFD1773_y', 'RCON1773',                    # AFS Securities Fair Value\n",
    "             # ------------------------------------------------------------------------------------------------\n",
    "             'RCON0010', 'RCFD0010',                                    # Cash and balances due from depository institutions                                                \n",
    "             'RCON0071', 'RCON0081',                                    \n",
    "             'RCFD0071', 'RCFD0081',                                    \n",
    "             # ------------------------------------------------------------------------------------------------\n",
    "             'RIAD4073', 'RIAD4200', 'RIAD4185', 'RIAD4180', 'RIAD4172',# Income Variables\n",
    "             ] \n",
    "\n",
    "# create a list putting together 'vars', 'loans_mat_vars', and 'securities_mat_vars':\n",
    "all_vars = vars + loans_mat_vars + securities_mat_vars"
   ]
  },
  {
   "cell_type": "code",
   "execution_count": 23,
   "metadata": {},
   "outputs": [],
   "source": [
    "# Read file that contains only the variables of interest, specify that the column 'Date' is a date:\n",
    "main = pd.read_csv('call_reports.csv', parse_dates = ['Date'], usecols=all_vars)\n",
    "main['Year'] = main['Date'].dt.year"
   ]
  },
  {
   "cell_type": "code",
   "execution_count": 24,
   "metadata": {},
   "outputs": [
    {
     "data": {
      "text/html": [
       "<div>\n",
       "<style scoped>\n",
       "    .dataframe tbody tr th:only-of-type {\n",
       "        vertical-align: middle;\n",
       "    }\n",
       "\n",
       "    .dataframe tbody tr th {\n",
       "        vertical-align: top;\n",
       "    }\n",
       "\n",
       "    .dataframe thead th {\n",
       "        text-align: right;\n",
       "    }\n",
       "</style>\n",
       "<table border=\"1\" class=\"dataframe\">\n",
       "  <thead>\n",
       "    <tr style=\"text-align: right;\">\n",
       "      <th></th>\n",
       "      <th>IDRSSD</th>\n",
       "      <th>RCONA567</th>\n",
       "    </tr>\n",
       "  </thead>\n",
       "  <tbody>\n",
       "    <tr>\n",
       "      <th>0</th>\n",
       "      <td>242.0</td>\n",
       "      <td>991</td>\n",
       "    </tr>\n",
       "    <tr>\n",
       "      <th>1</th>\n",
       "      <td>279.0</td>\n",
       "      <td>1266</td>\n",
       "    </tr>\n",
       "    <tr>\n",
       "      <th>2</th>\n",
       "      <td>354.0</td>\n",
       "      <td>0</td>\n",
       "    </tr>\n",
       "    <tr>\n",
       "      <th>3</th>\n",
       "      <td>439.0</td>\n",
       "      <td>4919</td>\n",
       "    </tr>\n",
       "    <tr>\n",
       "      <th>4</th>\n",
       "      <td>457.0</td>\n",
       "      <td>222</td>\n",
       "    </tr>\n",
       "    <tr>\n",
       "      <th>5</th>\n",
       "      <td>505.0</td>\n",
       "      <td>702</td>\n",
       "    </tr>\n",
       "    <tr>\n",
       "      <th>6</th>\n",
       "      <td>1146.0</td>\n",
       "      <td>3275</td>\n",
       "    </tr>\n",
       "    <tr>\n",
       "      <th>7</th>\n",
       "      <td>1155.0</td>\n",
       "      <td>5777</td>\n",
       "    </tr>\n",
       "    <tr>\n",
       "      <th>8</th>\n",
       "      <td>1351.0</td>\n",
       "      <td>263</td>\n",
       "    </tr>\n",
       "    <tr>\n",
       "      <th>9</th>\n",
       "      <td>1454.0</td>\n",
       "      <td>3979</td>\n",
       "    </tr>\n",
       "  </tbody>\n",
       "</table>\n",
       "</div>"
      ],
      "text/plain": [
       "   IDRSSD  RCONA567\n",
       "0   242.0       991\n",
       "1   279.0      1266\n",
       "2   354.0         0\n",
       "3   439.0      4919\n",
       "4   457.0       222\n",
       "5   505.0       702\n",
       "6  1146.0      3275\n",
       "7  1155.0      5777\n",
       "8  1351.0       263\n",
       "9  1454.0      3979"
      ]
     },
     "execution_count": 24,
     "metadata": {},
     "output_type": "execute_result"
    }
   ],
   "source": [
    "main[['IDRSSD', 'RCONA567']].head(10)"
   ]
  },
  {
   "cell_type": "markdown",
   "metadata": {},
   "source": [
    "##### Checking important variables"
   ]
  },
  {
   "cell_type": "code",
   "execution_count": 25,
   "metadata": {},
   "outputs": [
    {
     "name": "stdout",
     "output_type": "stream",
     "text": [
      " ---------------------------------------------- AMMORTIZED COST SECURITIES ----------------------------------------------\n",
      "Min Date in which RCFD1754_x or RCFD1754_y are not null: 2001-03-31 00:00:00\n",
      "Max Date in which RCFD1754_x or RCFD1754_y are not null: 2018-12-31 00:00:00\n",
      "Min Date in which RCFD1754 is not null: 2019-03-31 00:00:00\n",
      "Max Date in which RCFD1754 is not null: 2024-09-30 00:00:00\n",
      "------------------------------------------------------------------------------------------------\n",
      "Min Date in which RCON1754_x or RCON1754_y are not null: 2001-03-31 00:00:00\n",
      "Max Date in which RCON1754_x or RCON1754_y are not null: 2018-12-31 00:00:00\n",
      "Min Date in which RCON1754 is not null: 2019-03-31 00:00:00\n",
      "Max Date in which RCON1754 is not null: 2024-09-30 00:00:00\n",
      "------------------------------------------------------------------------------------------------\n",
      "The number of rows in which RCON1754_x and RCON1754_y are both reported and different is: 0\n",
      "The number of rows in which RCFD1754_x and RCFD1754_y are both reported and different is: 0\n"
     ]
    }
   ],
   "source": [
    "print(' ---------------------------------------------- AMMORTIZED COST SECURITIES ----------------------------------------------')\n",
    "\n",
    "# print the latest 'Date' for which either 'RCON1754_x' or 'RCON1754_y' is reported:\n",
    "print('Min Date in which RCFD1754_x or RCFD1754_y are not null:', \n",
    "      main[main['RCFD1754_x'].notnull() | main['RCFD1754_y'].notnull()]['Date'].min())\n",
    "print('Max Date in which RCFD1754_x or RCFD1754_y are not null:',\n",
    "      main[main['RCFD1754_x'].notnull() | main['RCFD1754_y'].notnull()]['Date'].max())\n",
    "\n",
    "print('Min Date in which RCFD1754 is not null:', main[main['RCFD1754'].notnull()]['Date'].min())\n",
    "print('Max Date in which RCFD1754 is not null:', main[main['RCFD1754'].notnull()]['Date'].max())\n",
    "\n",
    "print('------------------------------------------------------------------------------------------------')\n",
    "\n",
    "# print the latest 'Date' for which either 'RCON1754_x' or 'RCON1754_y' is reported:\n",
    "print('Min Date in which RCON1754_x or RCON1754_y are not null:',\n",
    "      main[main['RCON1754_x'].notnull() | main['RCON1754_y'].notnull()]['Date'].min())\n",
    "print('Max Date in which RCON1754_x or RCON1754_y are not null:',\n",
    "      main[main['RCON1754_x'].notnull() | main['RCON1754_y'].notnull()]['Date'].max())\n",
    "\n",
    "print('Min Date in which RCON1754 is not null:',main[main['RCON1754'].notnull()]['Date'].min())\n",
    "print('Max Date in which RCON1754 is not null:', main[main['RCON1754'].notnull()]['Date'].max())\n",
    "\n",
    "print('------------------------------------------------------------------------------------------------')\n",
    "\n",
    "print('The number of rows in which RCON1754_x and RCON1754_y are both reported and different is:',\n",
    "    len(main[main['RCON1754_x'].notnull() & main['RCON1754_y'].notnull() & (main['RCON1754_x']-main['RCON1754_y'] != 0)]))\n",
    "\n",
    "print('The number of rows in which RCFD1754_x and RCFD1754_y are both reported and different is:',\n",
    "    len(main[main['RCFD1754_x'].notnull() & main['RCFD1754_y'].notnull() & (main['RCFD1754_x']-main['RCFD1754_y'] != 0)]))"
   ]
  },
  {
   "cell_type": "code",
   "execution_count": 26,
   "metadata": {},
   "outputs": [
    {
     "name": "stdout",
     "output_type": "stream",
     "text": [
      " ---------------------------------------------- FAIR VALUE SECURITIES ----------------------------------------------\n",
      "Min Date in which RCFD1773_x and RCFD1773_y are not null: 2001-03-31 00:00:00\n",
      "Max Date in which RCFD1773_x and RCFD1773_y are not null: 2024-09-30 00:00:00\n",
      "For how many non-null obs. the difference between RCFD1773_x and RCFD1773_y is not zero: 0\n",
      "We can treat _x and _y as the same variable, since the difference is zero for all non-null obs.\n",
      "------------------------------------------------------------------------------------------------\n",
      "For how many non-null obs. RCFD1773_x and RCON1773 are both reported and different: 1466\n",
      "For how many non-null obs. RCFD1773_x and RCON1773 are both reported and the same: 3437\n",
      "For how many non-null obs. RCFD1773_x is reported and RCON1773 is not: 4686\n",
      "For how many non-null obs. RCFD1773_x is not reported and RCON1773 is: 630313\n",
      "------------------------------------------------------------------------------------------------\n"
     ]
    }
   ],
   "source": [
    "print(' ---------------------------------------------- FAIR VALUE SECURITIES ----------------------------------------------')\n",
    "\n",
    "# print the latest 'Date' for which either 'RCON1754_x' or 'RCON1754_y' is reported:\n",
    "print('Min Date in which RCFD1773_x and RCFD1773_y are not null:', \n",
    "      main[main['RCFD1773_x'].notnull() & main['RCFD1773_y'].notnull()]['Date'].min())\n",
    "print('Max Date in which RCFD1773_x and RCFD1773_y are not null:',\n",
    "      main[main['RCFD1773_x'].notnull() & main['RCFD1773_y'].notnull()]['Date'].max())\n",
    "\n",
    "print('For how many non-null obs. the difference between RCFD1773_x and RCFD1773_y is not zero:',\n",
    "      len(main[main['RCFD1773_x'].notnull() & \n",
    "     main['RCFD1773_y'].notnull() & \n",
    "     (main['RCFD1773_x']-main['RCFD1773_y'] != 0)]))\n",
    "print('We can treat _x and _y as the same variable, since the difference is zero for all non-null obs.')\n",
    "print('------------------------------------------------------------------------------------------------')\n",
    "# print the amount of obs for which RCFD1773_x and RCON1773 are both reported and different:\n",
    "print('For how many non-null obs. RCFD1773_x and RCON1773 are both reported and different:',\n",
    "      len(main[main['RCFD1773_x'].notnull() & \n",
    "     main['RCON1773'].notnull() & \n",
    "     (main['RCFD1773_x']-main['RCON1773'] != 0)]))\n",
    "# print the amount of obs for which RCFD1773_x and RCON1773 are both reported and are the same:\n",
    "print('For how many non-null obs. RCFD1773_x and RCON1773 are both reported and the same:',\n",
    "      len(main[main['RCFD1773_x'].notnull() & \n",
    "     main['RCON1773'].notnull() & \n",
    "     (main['RCFD1773_x']-main['RCON1773'] == 0)]))\n",
    "\n",
    "# print the amount of obs for which RCFD1773_x is reported and RCON1773 is not:\n",
    "print('For how many non-null obs. RCFD1773_x is reported and RCON1773 is not:',\n",
    "      len(main[main['RCFD1773_x'].notnull() & main['RCON1773'].isnull()]))\n",
    "\n",
    "# print the amount of obs for which RCFD1773_x is not reported and RCON1773 is:\n",
    "print('For how many non-null obs. RCFD1773_x is not reported and RCON1773 is:',\n",
    "      len(main[main['RCFD1773_x'].isnull() & main['RCON1773'].notnull()]))\n",
    "\n",
    "\n",
    "print('------------------------------------------------------------------------------------------------')"
   ]
  },
  {
   "cell_type": "code",
   "execution_count": 27,
   "metadata": {},
   "outputs": [
    {
     "name": "stdout",
     "output_type": "stream",
     "text": [
      " ---------------------------------------------- Cash ----------------------------------------------\n",
      "For how many non-null obs. RCON0071 is reported and RCON0081 is not: 0\n",
      "For how many non-null obs. RCON0071 and RCON0081 are both reported: 630313\n",
      "For how many non-null obs. RCON0010, RCON0071, and RCON0081 are all reported: 472858\n",
      "For how many non-null obs. RCON0010 is reported and RCON0071 or RCON0081 are not: 9506\n",
      "For how many non-null obs. RCON0010 is not reported and RCON0071 and RCON0081 are: 157455\n",
      "For how many non-null obs. none of RCON0010, RCON0071, and RCON0081 are reported: 83\n",
      "------------------------------------------------------------------------------------------------\n"
     ]
    }
   ],
   "source": [
    "\n",
    "print(' ---------------------------------------------- Cash ----------------------------------------------')\n",
    "\n",
    "# print the obs in which 'RCON0071' is reported and 'RCON0081' is not:\n",
    "print('For how many non-null obs. RCON0071 is reported and RCON0081 is not:',\n",
    "      len(main[main['RCON0071'].notnull() & main['RCON0081'].isnull()]))\n",
    "\n",
    "# print the obs in which 'RCON0071' and 'RCON0081' are both reported:\n",
    "print('For how many non-null obs. RCON0071 and RCON0081 are both reported:',\n",
    "      len(main[main['RCON0071'].notnull() & main['RCON0081'].notnull()]))\n",
    "\n",
    "# print the obs in which 'RCON0010', 'RCON0071', and 'RCON0081' are all reported:\n",
    "print('For how many non-null obs. RCON0010, RCON0071, and RCON0081 are all reported:',\n",
    "      len(main[main['RCON0010'].notnull() & main['RCON0071'].notnull() & main['RCON0081'].notnull()]))\n",
    "\n",
    "# print the obs in which 'RCON0010' is reported and 'RCON0071' or 'RCON0081' are not:\n",
    "print('For how many non-null obs. RCON0010 is reported and RCON0071 or RCON0081 are not:',\n",
    "      len(main[main['RCON0010'].notnull() & (main['RCON0071'].isnull() | main['RCON0081'].isnull())]))\n",
    "\n",
    "# print the obs in which 'RCON0010' is not reported and 'RCON0071' and 'RCON0081' are:\n",
    "print('For how many non-null obs. RCON0010 is not reported and RCON0071 and RCON0081 are:',\n",
    "      len(main[main['RCON0010'].isnull() & main['RCON0071'].notnull() & main['RCON0081'].notnull()]))\n",
    "\n",
    "# print the obs in which none is reported:\n",
    "print('For how many non-null obs. none of RCON0010, RCON0071, and RCON0081 are reported:',\n",
    "      len(main[main['RCON0010'].isnull() & main['RCON0071'].isnull() & main['RCON0081'].isnull()]))\n",
    "\n",
    "print('------------------------------------------------------------------------------------------------')\n"
   ]
  },
  {
   "cell_type": "code",
   "execution_count": 28,
   "metadata": {},
   "outputs": [
    {
     "name": "stdout",
     "output_type": "stream",
     "text": [
      " --------------------------- Maturity for Securities ----------------------------------------\n",
      " --------------------------------------------------------------------------------------------\n",
      "For x = 549\n",
      "Entries in which both are null: 0\n",
      "Entries in which only RCFDA549 is NOT null: 9589\n",
      "Entries in which only RCONA549 is NOT null: 630313\n",
      "Entries in which none is null: 0\n",
      " --------------------------------------------------------------------------------------------\n",
      "For x = 550\n",
      "Entries in which both are null: 0\n",
      "Entries in which only RCFDA550 is NOT null: 9589\n",
      "Entries in which only RCONA550 is NOT null: 630313\n",
      "Entries in which none is null: 0\n",
      " --------------------------------------------------------------------------------------------\n",
      "For x = 551\n",
      "Entries in which both are null: 2\n",
      "Entries in which only RCFDA551 is NOT null: 9589\n",
      "Entries in which only RCONA551 is NOT null: 630311\n",
      "Entries in which none is null: 0\n",
      " --------------------------------------------------------------------------------------------\n",
      "For x = 552\n",
      "Entries in which both are null: 0\n",
      "Entries in which only RCFDA552 is NOT null: 9589\n",
      "Entries in which only RCONA552 is NOT null: 630313\n",
      "Entries in which none is null: 0\n",
      " --------------------------------------------------------------------------------------------\n",
      "For x = 553\n",
      "Entries in which both are null: 0\n",
      "Entries in which only RCFDA553 is NOT null: 9589\n",
      "Entries in which only RCONA553 is NOT null: 630313\n",
      "Entries in which none is null: 0\n",
      " --------------------------------------------------------------------------------------------\n",
      "For x = 554\n",
      "Entries in which both are null: 0\n",
      "Entries in which only RCFDA554 is NOT null: 9589\n",
      "Entries in which only RCONA554 is NOT null: 630313\n",
      "Entries in which none is null: 0\n",
      " --------------------------------------------------------------------------------------------\n",
      "For x = 555\n",
      "Entries in which both are null: 0\n",
      "Entries in which only RCFDA555 is NOT null: 9589\n",
      "Entries in which only RCONA555 is NOT null: 630313\n",
      "Entries in which none is null: 0\n",
      " --------------------------------------------------------------------------------------------\n",
      "For x = 556\n",
      "Entries in which both are null: 0\n",
      "Entries in which only RCFDA556 is NOT null: 9589\n",
      "Entries in which only RCONA556 is NOT null: 630313\n",
      "Entries in which none is null: 0\n",
      " --------------------------------------------------------------------------------------------\n",
      "For x = 557\n",
      "Entries in which both are null: 0\n",
      "Entries in which only RCFDA557 is NOT null: 9589\n",
      "Entries in which only RCONA557 is NOT null: 630313\n",
      "Entries in which none is null: 0\n",
      " --------------------------------------------------------------------------------------------\n",
      "For x = 558\n",
      "Entries in which both are null: 0\n",
      "Entries in which only RCFDA558 is NOT null: 9589\n",
      "Entries in which only RCONA558 is NOT null: 630313\n",
      "Entries in which none is null: 0\n",
      " --------------------------------------------------------------------------------------------\n",
      "For x = 559\n",
      "Entries in which both are null: 0\n",
      "Entries in which only RCFDA559 is NOT null: 9589\n",
      "Entries in which only RCONA559 is NOT null: 630313\n",
      "Entries in which none is null: 0\n",
      " --------------------------------------------------------------------------------------------\n",
      "For x = 560\n",
      "Entries in which both are null: 0\n",
      "Entries in which only RCFDA560 is NOT null: 9589\n",
      "Entries in which only RCONA560 is NOT null: 630313\n",
      "Entries in which none is null: 0\n"
     ]
    }
   ],
   "source": [
    "print(' --------------------------- Maturity for Securities ----------------------------------------')\n",
    "# print the last 3 digits from 'securities_mat_vars':\n",
    "last_digits = sorted(list(set([var[-3:] for var in securities_mat_vars])))\n",
    "\n",
    "for x in last_digits:\n",
    "    print(' --------------------------------------------------------------------------------------------')\n",
    "    print('For x =', x)\n",
    "    print(f'Entries in which both are null:', len(main[(main[f'RCONA{x}'].isnull()) & (main[f'RCFDA{x}'].isnull())]))\n",
    "    print(f'Entries in which only RCFDA{x} is NOT null:', len(main[(main[f'RCONA{x}'].isnull()) & (main[f'RCFDA{x}'].notnull())]))\n",
    "    print(f'Entries in which only RCONA{x} is NOT null:', len(main[(main[f'RCONA{x}'].notnull()) & (main[f'RCFDA{x}'].isnull())]))\n",
    "    print(f'Entries in which none is null:', len(main[(main[f'RCONA{x}'].notnull()) & (main[f'RCFDA{x}'].notnull())]))"
   ]
  },
  {
   "cell_type": "code",
   "execution_count": 29,
   "metadata": {},
   "outputs": [
    {
     "name": "stdout",
     "output_type": "stream",
     "text": [
      " --------------------------- Maturity for Loans ----------------------------------------\n",
      "-------------------------------------- Less than 3m --------------------------------------\n",
      "Entries in which both are null: 0\n",
      "Entries in which only RCFDA570 is NOT null: 0\n",
      "Entries in which only RCONA564 is NOT null: 630313\n",
      "Entries in which none is null: 9589\n",
      "-------------------------------------- Between 3-12m --------------------------------------\n",
      "Entries in which both are null: 0\n",
      "Entries in which only RCFDA571 is NOT null: 0\n",
      "Entries in which only RCONA565 is NOT null: 630313\n",
      "Entries in which none is null: 9589\n",
      "-------------------------------------- Between 12-36m --------------------------------------\n",
      "Entries in which both are null: 0\n",
      "Entries in which only RCFDA572 is NOT null: 0\n",
      "Entries in which only RCONA566 is NOT null: 630313\n",
      "Entries in which none is null: 9589\n",
      "-------------------------------------- Between 36-60m --------------------------------------\n",
      "Entries in which both are null: 0\n",
      "Entries in which only RCFDA573 is NOT null: 0\n",
      "Entries in which only RCONA567 is NOT null: 630313\n",
      "Entries in which none is null: 9589\n",
      "-------------------------------------- Between 60-180m --------------------------------------\n",
      "Entries in which both are null: 0\n",
      "Entries in which only RCFDA574 is NOT null: 0\n",
      "Entries in which only RCONA568 is NOT null: 630313\n",
      "Entries in which none is null: 9589\n",
      "-------------------------------------- More than 180m --------------------------------------\n",
      "Entries in which both are null: 0\n",
      "Entries in which only RCFDA575 is NOT null: 0\n",
      "Entries in which only RCONA569 is NOT null: 630313\n",
      "Entries in which none is null: 9589\n"
     ]
    }
   ],
   "source": [
    "print(' --------------------------- Maturity for Loans ----------------------------------------')\n",
    "print('-------------------------------------- Less than 3m --------------------------------------')\n",
    "print(f'Entries in which both are null:', len(main[(main['RCONA564'].isnull()) & (main['RCFDA570'].isnull())]))\n",
    "print(f'Entries in which only RCFDA570 is NOT null:', len(main[(main['RCONA564'].isnull()) & (main['RCFDA570'].notnull())]))\n",
    "print(f'Entries in which only RCONA564 is NOT null:', len(main[(main['RCONA564'].notnull()) & (main['RCFDA570'].isnull())]))\n",
    "print(f'Entries in which none is null:', len(main[(main['RCONA564'].notnull()) & (main['RCFDA570'].notnull())]))\n",
    "print('-------------------------------------- Between 3-12m --------------------------------------')\n",
    "print(f'Entries in which both are null:', len(main[(main['RCONA565'].isnull()) & (main['RCFDA571'].isnull())]))\n",
    "print(f'Entries in which only RCFDA571 is NOT null:', len(main[(main['RCONA565'].isnull()) & (main['RCFDA571'].notnull())]))\n",
    "print(f'Entries in which only RCONA565 is NOT null:', len(main[(main['RCONA565'].notnull()) & (main['RCFDA571'].isnull())]))\n",
    "print(f'Entries in which none is null:', len(main[(main['RCONA565'].notnull()) & (main['RCFDA571'].notnull())]))\n",
    "print('-------------------------------------- Between 12-36m --------------------------------------')\n",
    "print(f'Entries in which both are null:', len(main[(main['RCONA566'].isnull()) & (main['RCFDA572'].isnull())]))\n",
    "print(f'Entries in which only RCFDA572 is NOT null:', len(main[(main['RCONA566'].isnull()) & (main['RCFDA572'].notnull())]))\n",
    "print(f'Entries in which only RCONA566 is NOT null:', len(main[(main['RCONA566'].notnull()) & (main['RCFDA572'].isnull())]))\n",
    "print(f'Entries in which none is null:', len(main[(main['RCONA566'].notnull()) & (main['RCFDA572'].notnull())]))\n",
    "print('-------------------------------------- Between 36-60m --------------------------------------')\n",
    "print(f'Entries in which both are null:', len(main[(main['RCONA567'].isnull()) & (main['RCFDA573'].isnull())]))\n",
    "print(f'Entries in which only RCFDA573 is NOT null:', len(main[(main['RCONA567'].isnull()) & (main['RCFDA573'].notnull())]))\n",
    "print(f'Entries in which only RCONA567 is NOT null:', len(main[(main['RCONA567'].notnull()) & (main['RCFDA573'].isnull())]))\n",
    "print(f'Entries in which none is null:', len(main[(main['RCONA567'].notnull()) & (main['RCFDA573'].notnull())]))\n",
    "print('-------------------------------------- Between 60-180m --------------------------------------')\n",
    "print(f'Entries in which both are null:', len(main[(main['RCONA568'].isnull()) & (main['RCFDA574'].isnull())]))\n",
    "print(f'Entries in which only RCFDA574 is NOT null:', len(main[(main['RCONA568'].isnull()) & (main['RCFDA574'].notnull())]))\n",
    "print(f'Entries in which only RCONA568 is NOT null:', len(main[(main['RCONA568'].notnull()) & (main['RCFDA574'].isnull())]))\n",
    "print(f'Entries in which none is null:', len(main[(main['RCONA568'].notnull()) & (main['RCFDA574'].notnull())]))\n",
    "print('-------------------------------------- More than 180m --------------------------------------')\n",
    "print(f'Entries in which both are null:', len(main[(main['RCONA569'].isnull()) & (main['RCFDA575'].isnull())]))\n",
    "print(f'Entries in which only RCFDA575 is NOT null:', len(main[(main['RCONA569'].isnull()) & (main['RCFDA575'].notnull())]))\n",
    "print(f'Entries in which only RCONA569 is NOT null:', len(main[(main['RCONA569'].notnull()) & (main['RCFDA575'].isnull())]))\n",
    "print(f'Entries in which none is null:', len(main[(main['RCONA569'].notnull()) & (main['RCFDA575'].notnull())]))"
   ]
  },
  {
   "cell_type": "markdown",
   "metadata": {},
   "source": [
    "##### Basic Definitions"
   ]
  },
  {
   "cell_type": "markdown",
   "metadata": {},
   "source": [
    "###### Balance sheet definitions"
   ]
  },
  {
   "cell_type": "code",
   "execution_count": 30,
   "metadata": {},
   "outputs": [],
   "source": [
    "main['RCON1754_right'] = main['RCON1754_x'].combine_first(main['RCON1754'])\n",
    "main['RCFD1754_right'] = main['RCFD1754_x'].combine_first(main['RCFD1754'])\n",
    "\n",
    "# Create the new column '1754_right' and initialize with NaN\n",
    "main['1754_right'] = np.nan\n",
    "\n",
    "# Case 1: Both columns are not null\n",
    "mask_both_notnull = main['RCFD1754_right'].notna() & main['RCON1754_right'].notna()\n",
    "main.loc[mask_both_notnull, '1754_right'] = main.loc[mask_both_notnull, ['RCFD1754_right', 'RCON1754_right']].min(axis=1)\n",
    "\n",
    "# Case 2: Only one column is not null\n",
    "mask_col1_notnull = main['RCFD1754_right'].notna() & main['RCON1754_right'].isna()\n",
    "main.loc[mask_col1_notnull, '1754_right'] = main.loc[mask_col1_notnull, 'RCFD1754_right']\n",
    "\n",
    "mask_col2_notnull = main['RCON1754_right'].notna() & main['RCFD1754_right'].isna()\n",
    "main.loc[mask_col2_notnull, '1754_right'] = main.loc[mask_col2_notnull, 'RCON1754_right']\n",
    "\n",
    "# Case 3: Both columns are null (already handled by initialization to NaN)\n"
   ]
  },
  {
   "cell_type": "code",
   "execution_count": 31,
   "metadata": {},
   "outputs": [
    {
     "name": "stdout",
     "output_type": "stream",
     "text": [
      "count    6.352160e+05\n",
      "mean     9.870183e+04\n",
      "std      4.310712e+06\n",
      "min      0.000000e+00\n",
      "25%      0.000000e+00\n",
      "50%      0.000000e+00\n",
      "75%      2.419000e+03\n",
      "max      6.830540e+08\n",
      "Name: RCON1754_right, dtype: float64\n",
      "count    9.589000e+03\n",
      "mean     5.765784e+06\n",
      "std      3.534790e+07\n",
      "min      0.000000e+00\n",
      "25%      0.000000e+00\n",
      "50%      1.258600e+04\n",
      "75%      3.546600e+05\n",
      "max      6.830540e+08\n",
      "Name: RCFD1754_right, dtype: float64\n",
      "count    6.399020e+05\n",
      "mean     1.072001e+05\n",
      "std      4.359587e+06\n",
      "min      0.000000e+00\n",
      "25%      0.000000e+00\n",
      "50%      0.000000e+00\n",
      "75%      2.494000e+03\n",
      "max      6.830540e+08\n",
      "Name: 1754_right, dtype: float64\n"
     ]
    }
   ],
   "source": [
    "print(main['RCON1754_right'].describe())\n",
    "print(main['RCFD1754_right'].describe())\n",
    "print(main['1754_right'].describe())"
   ]
  },
  {
   "cell_type": "code",
   "execution_count": 10,
   "metadata": {},
   "outputs": [
    {
     "data": {
      "text/html": [
       "<div>\n",
       "<style scoped>\n",
       "    .dataframe tbody tr th:only-of-type {\n",
       "        vertical-align: middle;\n",
       "    }\n",
       "\n",
       "    .dataframe tbody tr th {\n",
       "        vertical-align: top;\n",
       "    }\n",
       "\n",
       "    .dataframe thead th {\n",
       "        text-align: right;\n",
       "    }\n",
       "</style>\n",
       "<table border=\"1\" class=\"dataframe\">\n",
       "  <thead>\n",
       "    <tr style=\"text-align: right;\">\n",
       "      <th></th>\n",
       "      <th>Date</th>\n",
       "      <th>RCON1754_right</th>\n",
       "      <th>RCFD1754_right</th>\n",
       "      <th>1754_right</th>\n",
       "    </tr>\n",
       "  </thead>\n",
       "  <tbody>\n",
       "    <tr>\n",
       "      <th>73687</th>\n",
       "      <td>2010-03-31</td>\n",
       "      <td>17935977.0</td>\n",
       "      <td>19830720.0</td>\n",
       "      <td>17935977.0</td>\n",
       "    </tr>\n",
       "    <tr>\n",
       "      <th>74601</th>\n",
       "      <td>2010-03-31</td>\n",
       "      <td>852099.0</td>\n",
       "      <td>885365.0</td>\n",
       "      <td>852099.0</td>\n",
       "    </tr>\n",
       "    <tr>\n",
       "      <th>74611</th>\n",
       "      <td>2010-03-31</td>\n",
       "      <td>1247462.0</td>\n",
       "      <td>1247561.0</td>\n",
       "      <td>1247462.0</td>\n",
       "    </tr>\n",
       "    <tr>\n",
       "      <th>74706</th>\n",
       "      <td>2010-03-31</td>\n",
       "      <td>11095.0</td>\n",
       "      <td>13014.0</td>\n",
       "      <td>11095.0</td>\n",
       "    </tr>\n",
       "    <tr>\n",
       "      <th>74773</th>\n",
       "      <td>2010-03-31</td>\n",
       "      <td>0.0</td>\n",
       "      <td>28413.0</td>\n",
       "      <td>0.0</td>\n",
       "    </tr>\n",
       "    <tr>\n",
       "      <th>...</th>\n",
       "      <td>...</td>\n",
       "      <td>...</td>\n",
       "      <td>...</td>\n",
       "      <td>...</td>\n",
       "    </tr>\n",
       "    <tr>\n",
       "      <th>637906</th>\n",
       "      <td>2023-12-31</td>\n",
       "      <td>8485388.0</td>\n",
       "      <td>8485389.0</td>\n",
       "      <td>8485388.0</td>\n",
       "    </tr>\n",
       "    <tr>\n",
       "      <th>637919</th>\n",
       "      <td>2023-12-31</td>\n",
       "      <td>47931.0</td>\n",
       "      <td>47946.0</td>\n",
       "      <td>47931.0</td>\n",
       "    </tr>\n",
       "    <tr>\n",
       "      <th>638179</th>\n",
       "      <td>2023-12-31</td>\n",
       "      <td>4984830.0</td>\n",
       "      <td>4994835.0</td>\n",
       "      <td>4984830.0</td>\n",
       "    </tr>\n",
       "    <tr>\n",
       "      <th>638399</th>\n",
       "      <td>2023-12-31</td>\n",
       "      <td>358532000.0</td>\n",
       "      <td>369942000.0</td>\n",
       "      <td>358532000.0</td>\n",
       "    </tr>\n",
       "    <tr>\n",
       "      <th>639801</th>\n",
       "      <td>2023-12-31</td>\n",
       "      <td>336653.0</td>\n",
       "      <td>336654.0</td>\n",
       "      <td>336653.0</td>\n",
       "    </tr>\n",
       "  </tbody>\n",
       "</table>\n",
       "<p>760 rows × 4 columns</p>\n",
       "</div>"
      ],
      "text/plain": [
       "             Date  RCON1754_right  RCFD1754_right   1754_right\n",
       "73687  2010-03-31      17935977.0      19830720.0   17935977.0\n",
       "74601  2010-03-31        852099.0        885365.0     852099.0\n",
       "74611  2010-03-31       1247462.0       1247561.0    1247462.0\n",
       "74706  2010-03-31         11095.0         13014.0      11095.0\n",
       "74773  2010-03-31             0.0         28413.0          0.0\n",
       "...           ...             ...             ...          ...\n",
       "637906 2023-12-31       8485388.0       8485389.0    8485388.0\n",
       "637919 2023-12-31         47931.0         47946.0      47931.0\n",
       "638179 2023-12-31       4984830.0       4994835.0    4984830.0\n",
       "638399 2023-12-31     358532000.0     369942000.0  358532000.0\n",
       "639801 2023-12-31        336653.0        336654.0     336653.0\n",
       "\n",
       "[760 rows x 4 columns]"
      ]
     },
     "execution_count": 10,
     "metadata": {},
     "output_type": "execute_result"
    }
   ],
   "source": [
    "main[main['RCON1754_right'].notnull() & \n",
    "     main['RCFD1754_right'].notnull() & \n",
    "     (main['RCON1754_right']-main['RCFD1754_right'] != 0)][['Date', 'RCON1754_right', 'RCFD1754_right', '1754_right']]"
   ]
  },
  {
   "cell_type": "code",
   "execution_count": 11,
   "metadata": {},
   "outputs": [
    {
     "name": "stdout",
     "output_type": "stream",
     "text": [
      "count    6.192770e+05\n",
      "mean     2.205622e+05\n",
      "std      4.532424e+06\n",
      "min      1.000000e+00\n",
      "25%      1.113100e+04\n",
      "50%      2.878200e+04\n",
      "75%      7.518300e+04\n",
      "max      6.830540e+08\n",
      "Name: Securities AC, dtype: float64\n"
     ]
    }
   ],
   "source": [
    "# create 'Securities AC' summing RCON1754 and RCON1772. If both are NaN, fill with NaN. If only one is available, use that one. If both \n",
    "# are available sum them:\n",
    "main['Securities AC'] = main[['1754_right', 'RCON1772']].apply(\n",
    "    lambda row: np.nan if pd.isna(row['1754_right']) and pd.isna(row['RCON1772']) else (row.fillna(0).sum()),\n",
    "    axis=1\n",
    ")\n",
    "main['Securities AC'] = main['Securities AC'].mask(main['Securities AC'] <= 0, np.nan)\n",
    "print(main['Securities AC'].describe())"
   ]
  },
  {
   "cell_type": "code",
   "execution_count": 12,
   "metadata": {},
   "outputs": [
    {
     "name": "stdout",
     "output_type": "stream",
     "text": [
      "count    5.860780e+05\n",
      "mean     3.501374e+05\n",
      "std      5.407126e+06\n",
      "min      1.000000e+00\n",
      "25%      1.042600e+04\n",
      "50%      2.752400e+04\n",
      "75%      7.273300e+04\n",
      "max      4.479270e+08\n",
      "Name: 1773_right, dtype: float64\n"
     ]
    }
   ],
   "source": [
    "main['1773_right'] = main['RCON1773'].combine_first(main['RCFD1773_x'])\n",
    "# mask the <= 0 values with NaN:\n",
    "main['1773_right'] = main['1773_right'].mask(main['1773_right'] <= 0, np.nan)\n",
    "print(main['1773_right'].describe())"
   ]
  },
  {
   "cell_type": "code",
   "execution_count": 13,
   "metadata": {},
   "outputs": [
    {
     "name": "stdout",
     "output_type": "stream",
     "text": [
      "count    6.192770e+05\n",
      "mean     2.205622e+05\n",
      "std      4.532424e+06\n",
      "min      1.000000e+00\n",
      "25%      1.113100e+04\n",
      "50%      2.878200e+04\n",
      "75%      7.518300e+04\n",
      "max      6.830540e+08\n",
      "Name: Total Securities, dtype: float64\n"
     ]
    }
   ],
   "source": [
    "# Define 'Total Securities' using the sum of '1754_right' and '1773_right' (amortized cost + fair value):\n",
    "am_cost = True\n",
    "if am_cost:\n",
    "    main['Total Securities'] = main['Securities AC']\n",
    "else:\n",
    "    main['Total Securities'] = main[['1754_right', '1773_right']].apply(\n",
    "    lambda row: np.nan if pd.isna(row['1754_right']) and pd.isna(row['1773_right']) else (row.fillna(0).sum()),\n",
    "    axis=1\n",
    "    )\n",
    "\n",
    "\n",
    "main['Total Securities'] = main['Total Securities'].mask(main['Total Securities'] <= 0, np.nan)\n",
    "print(main['Total Securities'].describe())"
   ]
  },
  {
   "cell_type": "code",
   "execution_count": 14,
   "metadata": {},
   "outputs": [
    {
     "name": "stdout",
     "output_type": "stream",
     "text": [
      "count    6.399020e+05\n",
      "mean     1.115855e+06\n",
      "std      1.638202e+07\n",
      "min      0.000000e+00\n",
      "25%      3.991900e+04\n",
      "50%      9.623600e+04\n",
      "75%      2.468268e+05\n",
      "max      1.219816e+09\n",
      "Name: RCON2122, dtype: float64\n",
      "count    9.589000e+03\n",
      "mean     5.150065e+07\n",
      "std      1.402738e+08\n",
      "min      0.000000e+00\n",
      "25%      7.367520e+05\n",
      "50%      7.377421e+06\n",
      "75%      3.715684e+07\n",
      "max      1.353071e+09\n",
      "Name: RCFD2122, dtype: float64\n",
      "count    6.399020e+05\n",
      "mean     1.115855e+06\n",
      "std      1.638202e+07\n",
      "min      0.000000e+00\n",
      "25%      3.991900e+04\n",
      "50%      9.623600e+04\n",
      "75%      2.468268e+05\n",
      "max      1.219816e+09\n",
      "Name: Total Loans, dtype: float64\n",
      "count    6.294910e+05\n",
      "mean     1.134310e+06\n",
      "std      1.651630e+07\n",
      "min      1.000000e+00\n",
      "25%      4.195200e+04\n",
      "50%      9.887900e+04\n",
      "75%      2.515910e+05\n",
      "max      1.219816e+09\n",
      "Name: Total Loans, dtype: float64\n"
     ]
    },
    {
     "name": "stderr",
     "output_type": "stream",
     "text": [
      "C:\\Users\\angel\\AppData\\Local\\Temp\\ipykernel_12052\\2193418771.py:1: FutureWarning: The behavior of array concatenation with empty entries is deprecated. In a future version, this will no longer exclude empty items when determining the result dtype. To retain the old behavior, exclude the empty entries before the concat operation.\n",
      "  main['Total Loans'] = main['RCON2122'].combine_first(main['RCFD2122'])\n"
     ]
    }
   ],
   "source": [
    "main['Total Loans'] = main['RCON2122'].combine_first(main['RCFD2122'])\n",
    "\n",
    "print(main['RCON2122'].describe())\n",
    "print(main['RCFD2122'].describe())\n",
    "print(main['Total Loans'].describe())\n",
    "\n",
    "main['Total Loans'] = main['Total Loans'].mask(main['Total Loans'] == 0, np.nan)\n",
    "print(main['Total Loans'].describe())"
   ]
  },
  {
   "cell_type": "code",
   "execution_count": 15,
   "metadata": {},
   "outputs": [
    {
     "name": "stdout",
     "output_type": "stream",
     "text": [
      "count    6.390710e+05\n",
      "mean     1.715995e+05\n",
      "std      4.239690e+06\n",
      "min      1.000000e+00\n",
      "25%      3.374000e+03\n",
      "50%      8.435000e+03\n",
      "75%      2.253550e+04\n",
      "max      5.436850e+08\n",
      "Name: Cash, dtype: float64\n"
     ]
    }
   ],
   "source": [
    "# create 'Cash' summing RCON0020 and RCON0080:\n",
    "main['Cash'] = (main['RCON0071']+main['RCON0081']).combine_first(main['RCON0010'])\n",
    "main['Cash'] = main['Cash'].mask(main['Cash'] <= 0, np.nan)\n",
    "print(main['Cash'].describe())"
   ]
  },
  {
   "cell_type": "code",
   "execution_count": 16,
   "metadata": {},
   "outputs": [
    {
     "name": "stdout",
     "output_type": "stream",
     "text": [
      "count    6.351330e+05\n",
      "mean     9.755156e+05\n",
      "std      1.244043e+07\n",
      "min      0.000000e+00\n",
      "25%      6.975000e+04\n",
      "50%      1.522690e+05\n",
      "75%      3.686870e+05\n",
      "max      1.445545e+09\n",
      "Name: RCON2170, dtype: float64\n",
      "count    9.589000e+03\n",
      "mean     1.036920e+08\n",
      "std      3.150145e+08\n",
      "min      4.264000e+03\n",
      "25%      1.455077e+06\n",
      "50%      1.235404e+07\n",
      "75%      6.758438e+07\n",
      "max      3.584105e+09\n",
      "Name: RCFD2170, dtype: float64\n",
      "count    6.119180e+05\n",
      "mean     1.367806e+06\n",
      "std      2.285247e+07\n",
      "min      9.100000e+01\n",
      "25%      6.769100e+04\n",
      "50%      1.475665e+05\n",
      "75%      3.584928e+05\n",
      "max      2.003543e+09\n",
      "Name: Total Assets, dtype: float64\n"
     ]
    }
   ],
   "source": [
    "# create 'Total Assets' variable. If the bank fills the FFIEC41 (only RCON series available). Large banks may also have the \n",
    "# RCFD series available. If both are NaN, fill with NaN. If both are available, use the RCON series. If only RCFD is available,\n",
    "# use RCFD. \n",
    "#main['Total Assets'] = main['RCON2170'].combine_first(main['RCFD2170'])\n",
    "main['Total Assets'] = main['Cash'] + main['Total Loans'] + main['Total Securities']\n",
    "\n",
    "print(main['RCON2170'].describe())\n",
    "print(main['RCFD2170'].describe())\n",
    "print(main['Total Assets'].describe())\n",
    "\n",
    "main['Total Assets'] = main['Total Assets'].mask(main['Total Assets'] == 0, np.nan)"
   ]
  },
  {
   "cell_type": "code",
   "execution_count": 17,
   "metadata": {},
   "outputs": [],
   "source": [
    "main.loc[:, 'Securities Share'] = main['Total Securities'] / main['Total Assets']"
   ]
  },
  {
   "cell_type": "code",
   "execution_count": 18,
   "metadata": {},
   "outputs": [
    {
     "data": {
      "text/plain": [
       "count    6.119180e+05\n",
       "mean     2.392125e-01\n",
       "std      1.612421e-01\n",
       "min      8.427939e-09\n",
       "25%      1.163444e-01\n",
       "50%      2.111913e-01\n",
       "75%      3.335550e-01\n",
       "max      9.994866e-01\n",
       "Name: Securities Share, dtype: float64"
      ]
     },
     "execution_count": 18,
     "metadata": {},
     "output_type": "execute_result"
    }
   ],
   "source": [
    "main['Securities Share'].describe()"
   ]
  },
  {
   "cell_type": "code",
   "execution_count": 19,
   "metadata": {},
   "outputs": [
    {
     "data": {
      "text/html": [
       "<div>\n",
       "<style scoped>\n",
       "    .dataframe tbody tr th:only-of-type {\n",
       "        vertical-align: middle;\n",
       "    }\n",
       "\n",
       "    .dataframe tbody tr th {\n",
       "        vertical-align: top;\n",
       "    }\n",
       "\n",
       "    .dataframe thead th {\n",
       "        text-align: right;\n",
       "    }\n",
       "</style>\n",
       "<table border=\"1\" class=\"dataframe\">\n",
       "  <thead>\n",
       "    <tr style=\"text-align: right;\">\n",
       "      <th></th>\n",
       "      <th>Date</th>\n",
       "      <th>IDRSSD</th>\n",
       "      <th>Financial Institution Name</th>\n",
       "      <th>Total Securities</th>\n",
       "      <th>Total Assets</th>\n",
       "      <th>Securities Share</th>\n",
       "    </tr>\n",
       "  </thead>\n",
       "  <tbody>\n",
       "  </tbody>\n",
       "</table>\n",
       "</div>"
      ],
      "text/plain": [
       "Empty DataFrame\n",
       "Columns: [Date, IDRSSD, Financial Institution Name, Total Securities, Total Assets, Securities Share]\n",
       "Index: []"
      ]
     },
     "execution_count": 19,
     "metadata": {},
     "output_type": "execute_result"
    }
   ],
   "source": [
    "main[main['Securities Share']>1][['Date', 'IDRSSD', 'Financial Institution Name', 'Total Securities', 'Total Assets', 'Securities Share']]"
   ]
  },
  {
   "cell_type": "code",
   "execution_count": 20,
   "metadata": {},
   "outputs": [
    {
     "name": "stdout",
     "output_type": "stream",
     "text": [
      "count    6.333120e+05\n",
      "mean     1.459541e+06\n",
      "std      2.552438e+07\n",
      "min      1.000000e+00\n",
      "25%      5.953400e+04\n",
      "50%      1.298275e+05\n",
      "75%      3.129310e+05\n",
      "max      2.201118e+09\n",
      "Name: Total Deposits, dtype: float64\n"
     ]
    }
   ],
   "source": [
    "# create 'Total Deposits'\n",
    "main.rename(columns = {'RCON2200':'Total Deposits'}, inplace = True)\n",
    "main['Total Deposits'] = main['Total Deposits'].mask(main['Total Deposits'] == 0, np.nan)\n",
    "print(main['Total Deposits'].describe())"
   ]
  },
  {
   "cell_type": "code",
   "execution_count": 21,
   "metadata": {},
   "outputs": [
    {
     "name": "stdout",
     "output_type": "stream",
     "text": [
      "count    611918.000000\n",
      "mean          0.080955\n",
      "std           0.082787\n",
      "min           0.000002\n",
      "25%           0.030648\n",
      "50%           0.052273\n",
      "75%           0.099965\n",
      "max           0.999839\n",
      "Name: Cash Share, dtype: float64\n"
     ]
    }
   ],
   "source": [
    "# create 'Cash Share' variable:\n",
    "main.loc[:, 'Cash Share'] = main['Cash'] / main['Total Assets']\n",
    "print(main['Cash Share'].describe())"
   ]
  },
  {
   "cell_type": "code",
   "execution_count": 22,
   "metadata": {},
   "outputs": [
    {
     "name": "stdout",
     "output_type": "stream",
     "text": [
      "count    6.119180e+05\n",
      "mean     6.798327e-01\n",
      "std      1.691844e-01\n",
      "min      7.147355e-07\n",
      "25%      5.791379e-01\n",
      "50%      7.074715e-01\n",
      "75%      8.071409e-01\n",
      "max      9.992229e-01\n",
      "Name: Loans Share, dtype: float64\n"
     ]
    }
   ],
   "source": [
    "main.loc[:, 'Loans Share'] = main['Total Loans'] / main['Total Assets']\n",
    "#mask loans share > 1 with NaN:\n",
    "main['Loans Share'] = main['Loans Share'].mask(main['Loans Share'] > 1, np.nan)\n",
    "print(main['Loans Share'].describe())"
   ]
  },
  {
   "cell_type": "code",
   "execution_count": 23,
   "metadata": {},
   "outputs": [
    {
     "name": "stdout",
     "output_type": "stream",
     "text": [
      "count    6.399020e+05\n",
      "mean     3.902802e+04\n",
      "std      1.015064e+06\n",
      "min      0.000000e+00\n",
      "25%      0.000000e+00\n",
      "50%      4.460000e+02\n",
      "75%      2.191000e+03\n",
      "max      1.059389e+08\n",
      "Name: Treasuries (3M-), dtype: float64\n",
      "count    6.399020e+05\n",
      "mean     3.424015e+03\n",
      "std      7.873984e+04\n",
      "min      0.000000e+00\n",
      "25%      0.000000e+00\n",
      "50%      0.000000e+00\n",
      "75%      6.400000e+01\n",
      "max      1.018429e+07\n",
      "Name: MBS (3M-), dtype: float64\n",
      "count    6.399020e+05\n",
      "mean     4.245204e+04\n",
      "std      1.030878e+06\n",
      "min      0.000000e+00\n",
      "25%      0.000000e+00\n",
      "50%      6.040000e+02\n",
      "75%      2.903000e+03\n",
      "max      1.063704e+08\n",
      "Name: Securities (3M-), dtype: float64\n",
      "count    6.399020e+05\n",
      "mean     1.954458e+04\n",
      "std      4.643297e+05\n",
      "min      0.000000e+00\n",
      "25%      2.580000e+02\n",
      "50%      1.141000e+03\n",
      "75%      3.724000e+03\n",
      "max      6.511200e+07\n",
      "Name: Loans (3M-), dtype: float64\n"
     ]
    },
    {
     "name": "stderr",
     "output_type": "stream",
     "text": [
      "C:\\Users\\angel\\AppData\\Local\\Temp\\ipykernel_12052\\4252648859.py:32: FutureWarning: The behavior of array concatenation with empty entries is deprecated. In a future version, this will no longer exclude empty items when determining the result dtype. To retain the old behavior, exclude the empty entries before the concat operation.\n",
      "  main['Loans (3M-)'] = main['RCONA564'].combine_first(main['RCFDA570'])\n",
      "C:\\Users\\angel\\AppData\\Local\\Temp\\ipykernel_12052\\4252648859.py:33: FutureWarning: The behavior of array concatenation with empty entries is deprecated. In a future version, this will no longer exclude empty items when determining the result dtype. To retain the old behavior, exclude the empty entries before the concat operation.\n",
      "  main['Loans (3M-1Y)'] = main['RCONA565'].combine_first(main['RCFDA571'])\n",
      "C:\\Users\\angel\\AppData\\Local\\Temp\\ipykernel_12052\\4252648859.py:34: FutureWarning: The behavior of array concatenation with empty entries is deprecated. In a future version, this will no longer exclude empty items when determining the result dtype. To retain the old behavior, exclude the empty entries before the concat operation.\n",
      "  main['Loans (1Y-3Y)'] = main['RCONA566'].combine_first(main['RCFDA572'])\n",
      "C:\\Users\\angel\\AppData\\Local\\Temp\\ipykernel_12052\\4252648859.py:35: FutureWarning: The behavior of array concatenation with empty entries is deprecated. In a future version, this will no longer exclude empty items when determining the result dtype. To retain the old behavior, exclude the empty entries before the concat operation.\n",
      "  main['Loans (3Y-5Y)'] = main['RCONA567'].combine_first(main['RCFDA573'])\n",
      "C:\\Users\\angel\\AppData\\Local\\Temp\\ipykernel_12052\\4252648859.py:36: FutureWarning: The behavior of array concatenation with empty entries is deprecated. In a future version, this will no longer exclude empty items when determining the result dtype. To retain the old behavior, exclude the empty entries before the concat operation.\n",
      "  main['Loans (5Y-15Y)'] = main['RCONA568'].combine_first(main['RCFDA574'])\n",
      "C:\\Users\\angel\\AppData\\Local\\Temp\\ipykernel_12052\\4252648859.py:37: FutureWarning: The behavior of array concatenation with empty entries is deprecated. In a future version, this will no longer exclude empty items when determining the result dtype. To retain the old behavior, exclude the empty entries before the concat operation.\n",
      "  main['Loans (15Y+)'] = main['RCONA569'].combine_first(main['RCFDA575'])\n"
     ]
    }
   ],
   "source": [
    "# Maturity of Treasuries:\n",
    "main['Treasuries (3M-)'] = main['RCONA549'].combine_first(main['RCFDA549'])\n",
    "main['Treasuries (3M-1Y)'] = main['RCONA550'].combine_first(main['RCFDA550'])\n",
    "main['Treasuries (1Y-3Y)'] = main['RCONA551'].combine_first(main['RCFDA551'])\n",
    "main['Treasuries (3Y-5Y)'] = main['RCONA552'].combine_first(main['RCFDA552'])\n",
    "main['Treasuries (5Y-15Y)'] = main['RCONA553'].combine_first(main['RCFDA553'])\n",
    "main['Treasuries (15Y+)'] = main['RCONA554'].combine_first(main['RCFDA554'])\n",
    "\n",
    "print(main['Treasuries (3M-)'].describe())\n",
    "\n",
    "# Maturity of MBS:\n",
    "main['MBS (3M-)'] = main['RCONA555'].combine_first(main['RCFDA555'])\n",
    "main['MBS (3M-1Y)'] = main['RCONA556'].combine_first(main['RCFDA556'])\n",
    "main['MBS (1Y-3Y)'] = main['RCONA557'].combine_first(main['RCFDA557'])\n",
    "main['MBS (3Y-5Y)'] = main['RCONA558'].combine_first(main['RCFDA558'])\n",
    "main['MBS (5Y-15Y)'] = main['RCONA559'].combine_first(main['RCFDA559'])\n",
    "main['MBS (15Y+)'] = main['RCONA560'].combine_first(main['RCFDA560'])\n",
    "\n",
    "print(main['MBS (3M-)'].describe())\n",
    "\n",
    "# Maturity of overall Securities:\n",
    "main['Securities (3M-)'] = main['Treasuries (3M-)'] + main['MBS (3M-)']\n",
    "main['Securities (3M-1Y)'] = main['Treasuries (3M-1Y)'] + main['MBS (3M-1Y)']\n",
    "main['Securities (1Y-3Y)'] = main['Treasuries (1Y-3Y)'] + main['MBS (1Y-3Y)']\n",
    "main['Securities (3Y-5Y)'] = main['Treasuries (3Y-5Y)'] + main['MBS (3Y-5Y)']\n",
    "main['Securities (5Y-15Y)'] = main['Treasuries (5Y-15Y)'] + main['MBS (5Y-15Y)']\n",
    "main['Securities (15Y+)'] = main['Treasuries (15Y+)'] + main['MBS (15Y+)']\n",
    "\n",
    "print(main['Securities (3M-)'].describe())\n",
    "\n",
    "# Maturity of overall Loans:\n",
    "main['Loans (3M-)'] = main['RCONA564'].combine_first(main['RCFDA570'])\n",
    "main['Loans (3M-1Y)'] = main['RCONA565'].combine_first(main['RCFDA571'])\n",
    "main['Loans (1Y-3Y)'] = main['RCONA566'].combine_first(main['RCFDA572'])    \n",
    "main['Loans (3Y-5Y)'] = main['RCONA567'].combine_first(main['RCFDA573'])\n",
    "main['Loans (5Y-15Y)'] = main['RCONA568'].combine_first(main['RCFDA574'])\n",
    "main['Loans (15Y+)'] = main['RCONA569'].combine_first(main['RCFDA575'])\n",
    "\n",
    "print(main['Loans (3M-)'].describe())\n"
   ]
  },
  {
   "cell_type": "code",
   "execution_count": 24,
   "metadata": {},
   "outputs": [
    {
     "name": "stdout",
     "output_type": "stream",
     "text": [
      "count    606419.000000\n",
      "mean          5.627869\n",
      "std           3.144099\n",
      "min           0.125000\n",
      "25%           3.017650\n",
      "50%           5.386732\n",
      "75%           7.999813\n",
      "max          15.000000\n",
      "Name: Treasury Maturity, dtype: float64\n",
      "count    488136.000000\n",
      "mean          8.962682\n",
      "std           3.996430\n",
      "min           0.125000\n",
      "25%           6.545315\n",
      "50%           9.983679\n",
      "75%          11.793900\n",
      "max          15.000000\n",
      "Name: MBS Maturity, dtype: float64\n",
      "count    619861.000000\n",
      "mean          6.501768\n",
      "std           3.320158\n",
      "min           0.125000\n",
      "25%           3.798722\n",
      "50%           6.512730\n",
      "75%           9.039213\n",
      "max          15.000000\n",
      "Name: Security Maturity, dtype: float64\n",
      "count    619545.000000\n",
      "mean          5.386390\n",
      "std           3.360806\n",
      "min           0.125000\n",
      "25%           2.718495\n",
      "50%           4.462871\n",
      "75%           7.704278\n",
      "max          15.000000\n",
      "Name: Loan Maturity, dtype: float64\n"
     ]
    }
   ],
   "source": [
    "# create the 'Treasury Maturity' variable:\n",
    "\n",
    "main['Treasury Maturity'] = ((\n",
    "                            main['Treasuries (3M-)']*1.5 + \n",
    "                            main['Treasuries (3M-1Y)']*7.5 + \n",
    "                            main['Treasuries (1Y-3Y)']*24 + \n",
    "                            main['Treasuries (3Y-5Y)']*48 + \n",
    "                            main['Treasuries (5Y-15Y)']*120 + \n",
    "                            main['Treasuries (15Y+)']*180\n",
    "                            ) / (\n",
    "                                main['Treasuries (3M-)']        + \n",
    "                                main['Treasuries (3M-1Y)']      + \n",
    "                                main['Treasuries (1Y-3Y)']      + \n",
    "                                main['Treasuries (3Y-5Y)']      + \n",
    "                                main['Treasuries (5Y-15Y)']     + \n",
    "                                main['Treasuries (15Y+)']\n",
    "                            )) / 12\n",
    "\n",
    "print(main['Treasury Maturity'].describe())\n",
    "\n",
    "# create the 'MBS Maturity' variable:\n",
    "main['MBS Maturity'] = ((\n",
    "                            main['MBS (3M-)']*1.5 + \n",
    "                            main['MBS (3M-1Y)']*7.5 + \n",
    "                            main['MBS (1Y-3Y)']*24 + \n",
    "                            main['MBS (3Y-5Y)']*48 + \n",
    "                            main['MBS (5Y-15Y)']*120 + \n",
    "                            main['MBS (15Y+)']*180\n",
    "                            ) / (\n",
    "                                main['MBS (3M-)']        + \n",
    "                                main['MBS (3M-1Y)']      + \n",
    "                                main['MBS (1Y-3Y)']      + \n",
    "                                main['MBS (3Y-5Y)']      + \n",
    "                                main['MBS (5Y-15Y)']     + \n",
    "                                main['MBS (15Y+)']\n",
    "                            )) / 12\n",
    "print(main['MBS Maturity'].describe())\n",
    "\n",
    "# create the 'Security Maturity' variable:\n",
    "main['Security Maturity'] = ((\n",
    "                            main['Securities (3M-)']*1.5 + \n",
    "                            main['Securities (3M-1Y)']*7.5 + \n",
    "                            main['Securities (1Y-3Y)']*24 + \n",
    "                            main['Securities (3Y-5Y)']*48 + \n",
    "                            main['Securities (5Y-15Y)']*120 + \n",
    "                            main['Securities (15Y+)']*180\n",
    "                            ) / (\n",
    "                                main['Securities (3M-)']        + \n",
    "                                main['Securities (3M-1Y)']      + \n",
    "                                main['Securities (1Y-3Y)']      + \n",
    "                                main['Securities (3Y-5Y)']      + \n",
    "                                main['Securities (5Y-15Y)']     + \n",
    "                                main['Securities (15Y+)']\n",
    "                            )) / 12\n",
    "\n",
    "print(main['Security Maturity'].describe())\n",
    "\n",
    "# create the 'Loan Maturity' variable:\n",
    "main['Loan Maturity'] = ((\n",
    "                            main['Loans (3M-)']*1.5 + \n",
    "                            main['Loans (3M-1Y)']*7.5 + \n",
    "                            main['Loans (1Y-3Y)']*24 + \n",
    "                            main['Loans (3Y-5Y)']*48 + \n",
    "                            main['Loans (5Y-15Y)']*120 + \n",
    "                            main['Loans (15Y+)']*180\n",
    "                            ) / (\n",
    "                                main['Loans (3M-)']        + \n",
    "                                main['Loans (3M-1Y)']      + \n",
    "                                main['Loans (1Y-3Y)']      + \n",
    "                                main['Loans (3Y-5Y)']      + \n",
    "                                main['Loans (5Y-15Y)']     + \n",
    "                                main['Loans (15Y+)']\n",
    "                            )) / 12\n",
    "\n",
    "print(main['Loan Maturity'].describe())"
   ]
  },
  {
   "cell_type": "code",
   "execution_count": 25,
   "metadata": {},
   "outputs": [
    {
     "name": "stdout",
     "output_type": "stream",
     "text": [
      "count    602047.000000\n",
      "mean          5.250813\n",
      "std           2.670113\n",
      "min           0.040020\n",
      "25%           3.145175\n",
      "50%           4.798157\n",
      "75%           7.039935\n",
      "max          14.954250\n",
      "Name: Asset Maturity, dtype: float64\n"
     ]
    }
   ],
   "source": [
    "# compute the 'Asset Maturity' variable. This is the weighted average of the maturity of securities and loans:\n",
    "main['Asset Maturity'] = (main['Security Maturity']*main['Total Securities'] + main['Loan Maturity']*main['Total Loans']) / (main['Total Assets'])\n",
    "print(main['Asset Maturity'].describe())"
   ]
  },
  {
   "cell_type": "code",
   "execution_count": 26,
   "metadata": {},
   "outputs": [
    {
     "name": "stdout",
     "output_type": "stream",
     "text": [
      "count    602061.000000\n",
      "mean          5.705573\n",
      "std           2.856878\n",
      "min           0.125000\n",
      "25%           3.442290\n",
      "50%           5.229671\n",
      "75%           7.647393\n",
      "max          15.000000\n",
      "Name: Long Assets Maturity, dtype: float64\n"
     ]
    }
   ],
   "source": [
    "main['Long Assets Maturity'] = (main['Security Maturity']*main['Total Securities'] + main['Loan Maturity']*main['Total Loans']) \\\n",
    "                                / (main['Total Securities'] + main['Total Loans'])\n",
    "print(main['Long Assets Maturity'].describe())"
   ]
  },
  {
   "cell_type": "markdown",
   "metadata": {},
   "source": [
    "###### Income Definitions"
   ]
  },
  {
   "cell_type": "code",
   "execution_count": 27,
   "metadata": {},
   "outputs": [],
   "source": [
    "# compute the variable above avoiding the SettingWithCopyWarning:\n",
    "main.loc[:, 'Deposit Expenditure'] = (main['RIAD4073'].fillna(0) - main['RIAD4200'].fillna(0) - main['RIAD4185'].fillna(0) - \n",
    "                                      main['RIAD4180'].fillna(0) - main['RIAD4172'].fillna(0))"
   ]
  },
  {
   "cell_type": "code",
   "execution_count": 28,
   "metadata": {},
   "outputs": [
    {
     "data": {
      "text/plain": [
       "count    6.299100e+05\n",
       "mean     3.434562e+03\n",
       "std      6.287334e+04\n",
       "min      1.000000e+00\n",
       "25%      1.460000e+02\n",
       "50%      3.650000e+02\n",
       "75%      9.450000e+02\n",
       "max      9.521000e+06\n",
       "Name: Actual Deposit Exp, dtype: float64"
      ]
     },
     "execution_count": 28,
     "metadata": {},
     "output_type": "execute_result"
    }
   ],
   "source": [
    "main.loc[:, 'Actual Deposit Exp'] = main.groupby(['IDRSSD', 'Year'])['Deposit Expenditure'].diff().fillna(main['Deposit Expenditure'])\n",
    "main.loc[:, 'Actual Deposit Exp'] = main['Actual Deposit Exp'].mask(main['Actual Deposit Exp'] <= 0, np.nan)\n",
    "main['Actual Deposit Exp'].describe()"
   ]
  },
  {
   "cell_type": "code",
   "execution_count": 29,
   "metadata": {},
   "outputs": [
    {
     "name": "stdout",
     "output_type": "stream",
     "text": [
      "count    6.298000e+05\n",
      "mean     3.845853e-03\n",
      "std      4.381545e-02\n",
      "min      1.480123e-07\n",
      "25%      1.346747e-03\n",
      "50%      3.006740e-03\n",
      "75%      5.482508e-03\n",
      "max      3.327273e+01\n",
      "Name: Deposit Rate, dtype: float64\n"
     ]
    }
   ],
   "source": [
    "# Compute deposit rates:\n",
    "main.loc[:,'Deposit Rate'] = main['Actual Deposit Exp'] / main['Total Deposits']\n",
    "print(main['Deposit Rate'].describe())"
   ]
  },
  {
   "cell_type": "code",
   "execution_count": 30,
   "metadata": {},
   "outputs": [
    {
     "data": {
      "text/plain": [
       "count    6.298000e+05\n",
       "mean    -2.961535e-20\n",
       "std      4.374611e-02\n",
       "min     -1.032945e-02\n",
       "25%     -8.214249e-04\n",
       "50%     -1.705193e-04\n",
       "75%      5.943373e-04\n",
       "max      3.326658e+01\n",
       "Name: R_hat, dtype: float64"
      ]
     },
     "execution_count": 30,
     "metadata": {},
     "output_type": "execute_result"
    }
   ],
   "source": [
    "# Create an extra column in df3 with the avg. deposit rate per Date:\n",
    "main.loc[:,'Avg. Deposit Rate'] = main.groupby('Date')['Deposit Rate'].transform('mean')\n",
    "main.loc[:,'Std. Deposit Rate'] = main.groupby('Date')['Deposit Rate'].transform('std')\n",
    "main.loc[:,'R_hat'] = (main['Deposit Rate'] - main['Avg. Deposit Rate']) #/ main['Std. Deposit Rate']\n",
    "main['R_hat'].describe()"
   ]
  },
  {
   "cell_type": "code",
   "execution_count": 31,
   "metadata": {},
   "outputs": [],
   "source": [
    "balanced_panel = 0\n",
    "\n",
    "if balanced_panel == 1:\n",
    "\n",
    "    # Step 1: Count the total number of unique dates in the dataset\n",
    "    total_dates = main['Date'].nunique()\n",
    "    print('Number of dates:', total_dates)\n",
    "\n",
    "    # Step 2: Count the number of unique dates each bank shows up\n",
    "    bank_date_counts = main.groupby('IDRSSD')['Date'].nunique()\n",
    "    print('Banks that show up in all dates:', sum(bank_date_counts==total_dates))\n",
    "\n",
    "    # Step 3: Identify banks that are present in all dates with positive 'Total Deposit':\n",
    "    banks = bank_date_counts[bank_date_counts == total_dates].index\n",
    "    main = main[main['IDRSSD'].isin(banks)]\n"
   ]
  },
  {
   "cell_type": "markdown",
   "metadata": {},
   "source": [
    "## The Regional Banking Crisis (2023)"
   ]
  },
  {
   "cell_type": "code",
   "execution_count": 60,
   "metadata": {},
   "outputs": [],
   "source": [
    "df = main[['Date', 'IDRSSD', 'Financial Institution Name', \n",
    "           'Loan Maturity', 'Treasury Maturity', 'Security Maturity', 'Asset Maturity', \n",
    "           'Total Assets', 'Total Securities', 'Total Loans', 'Total Deposits', 'Cash', \n",
    "           'Securities Share', 'Loans Share', 'Cash Share'\n",
    "           ]]"
   ]
  },
  {
   "cell_type": "code",
   "execution_count": 61,
   "metadata": {},
   "outputs": [],
   "source": [
    "df = df[(df['Date']=='2019-03-31') | (df['Date']=='2021-12-31')]\n",
    "df = df.sort_values(by=['IDRSSD', 'Date']).reset_index(drop=True)"
   ]
  },
  {
   "cell_type": "code",
   "execution_count": 62,
   "metadata": {},
   "outputs": [],
   "source": [
    "# Get the total number of unique dates in the DataFrame\n",
    "total_dates = df['Date'].nunique()\n",
    "\n",
    "# Identify banks that appear in all dates\n",
    "banks_all_dates = df.groupby('IDRSSD')['Date'].nunique() == total_dates\n",
    "banks_to_keep = banks_all_dates[banks_all_dates].index\n",
    "\n",
    "# Filter the DataFrame to keep only these banks\n",
    "df = df[df['IDRSSD'].isin(banks_to_keep)].reset_index(drop=True)"
   ]
  },
  {
   "cell_type": "code",
   "execution_count": 73,
   "metadata": {},
   "outputs": [
    {
     "data": {
      "text/plain": [
       "2"
      ]
     },
     "execution_count": 73,
     "metadata": {},
     "output_type": "execute_result"
    }
   ],
   "source": [
    "total_dates"
   ]
  },
  {
   "cell_type": "code",
   "execution_count": 63,
   "metadata": {},
   "outputs": [],
   "source": [
    "failed_banks = [802866, 4114567, 3437483]"
   ]
  },
  {
   "cell_type": "code",
   "execution_count": 64,
   "metadata": {},
   "outputs": [],
   "source": [
    "df['Asset Growth'] = df.groupby('IDRSSD')['Total Assets'].pct_change(fill_method=None)\n",
    "df['Deposit Growth'] = df.groupby('IDRSSD')['Total Deposits'].pct_change(fill_method=None)\n",
    "df['Securities Growth'] = df.groupby('IDRSSD')['Total Securities'].pct_change(fill_method=None)\n",
    "df['Loans Growth'] = df.groupby('IDRSSD')['Total Loans'].pct_change(fill_method=None)\n",
    "df['Delta Securities Share'] = df.groupby('IDRSSD')['Securities Share'].diff()\n",
    "df['Delta Loans Share'] = df.groupby('IDRSSD')['Loans Share'].diff()\n",
    "df['Delta Security Maturity'] = df.groupby('IDRSSD')['Security Maturity'].diff()"
   ]
  },
  {
   "cell_type": "code",
   "execution_count": 65,
   "metadata": {},
   "outputs": [
    {
     "data": {
      "text/html": [
       "<div>\n",
       "<style scoped>\n",
       "    .dataframe tbody tr th:only-of-type {\n",
       "        vertical-align: middle;\n",
       "    }\n",
       "\n",
       "    .dataframe tbody tr th {\n",
       "        vertical-align: top;\n",
       "    }\n",
       "\n",
       "    .dataframe thead th {\n",
       "        text-align: right;\n",
       "    }\n",
       "</style>\n",
       "<table border=\"1\" class=\"dataframe\">\n",
       "  <thead>\n",
       "    <tr style=\"text-align: right;\">\n",
       "      <th></th>\n",
       "      <th>Date</th>\n",
       "      <th>Financial Institution Name</th>\n",
       "      <th>Total Assets</th>\n",
       "      <th>Total Deposits</th>\n",
       "      <th>Total Securities</th>\n",
       "      <th>Asset Growth</th>\n",
       "      <th>Deposit Growth</th>\n",
       "      <th>Securities Growth</th>\n",
       "      <th>Loans Growth</th>\n",
       "      <th>Delta Securities Share</th>\n",
       "      <th>Delta Security Maturity</th>\n",
       "    </tr>\n",
       "  </thead>\n",
       "  <tbody>\n",
       "    <tr>\n",
       "      <th>6180</th>\n",
       "      <td>2019-03-31</td>\n",
       "      <td>SILICON VALLEY BANK</td>\n",
       "      <td>47469121.0</td>\n",
       "      <td>47920727.0</td>\n",
       "      <td>15055255.0</td>\n",
       "      <td>NaN</td>\n",
       "      <td>NaN</td>\n",
       "      <td>NaN</td>\n",
       "      <td>NaN</td>\n",
       "      <td>NaN</td>\n",
       "      <td>NaN</td>\n",
       "    </tr>\n",
       "    <tr>\n",
       "      <th>6181</th>\n",
       "      <td>2021-12-31</td>\n",
       "      <td>SILICON VALLEY BANK</td>\n",
       "      <td>166209000.0</td>\n",
       "      <td>175378000.0</td>\n",
       "      <td>98201000.0</td>\n",
       "      <td>2.501413</td>\n",
       "      <td>2.659752</td>\n",
       "      <td>5.522706</td>\n",
       "      <td>1.251355</td>\n",
       "      <td>0.273669</td>\n",
       "      <td>2.634284</td>\n",
       "    </tr>\n",
       "    <tr>\n",
       "      <th>9338</th>\n",
       "      <td>2019-03-31</td>\n",
       "      <td>SIGNATURE BANK</td>\n",
       "      <td>790966.0</td>\n",
       "      <td>703071.0</td>\n",
       "      <td>98257.0</td>\n",
       "      <td>NaN</td>\n",
       "      <td>NaN</td>\n",
       "      <td>NaN</td>\n",
       "      <td>NaN</td>\n",
       "      <td>NaN</td>\n",
       "      <td>NaN</td>\n",
       "    </tr>\n",
       "    <tr>\n",
       "      <th>9339</th>\n",
       "      <td>2021-12-31</td>\n",
       "      <td>SIGNATURE BANK</td>\n",
       "      <td>1671880.0</td>\n",
       "      <td>1513138.0</td>\n",
       "      <td>340092.0</td>\n",
       "      <td>1.113719</td>\n",
       "      <td>1.152184</td>\n",
       "      <td>2.461250</td>\n",
       "      <td>0.470411</td>\n",
       "      <td>0.079195</td>\n",
       "      <td>6.046910</td>\n",
       "    </tr>\n",
       "    <tr>\n",
       "      <th>9662</th>\n",
       "      <td>2019-03-31</td>\n",
       "      <td>FIRST REPUBLIC BANK</td>\n",
       "      <td>97058104.0</td>\n",
       "      <td>81612117.0</td>\n",
       "      <td>16089733.0</td>\n",
       "      <td>NaN</td>\n",
       "      <td>NaN</td>\n",
       "      <td>NaN</td>\n",
       "      <td>NaN</td>\n",
       "      <td>NaN</td>\n",
       "      <td>NaN</td>\n",
       "    </tr>\n",
       "    <tr>\n",
       "      <th>9663</th>\n",
       "      <td>2021-12-31</td>\n",
       "      <td>FIRST REPUBLIC BANK</td>\n",
       "      <td>170205389.0</td>\n",
       "      <td>156321243.0</td>\n",
       "      <td>22301305.0</td>\n",
       "      <td>0.753644</td>\n",
       "      <td>0.915417</td>\n",
       "      <td>0.386058</td>\n",
       "      <td>0.746451</td>\n",
       "      <td>-0.034748</td>\n",
       "      <td>1.046075</td>\n",
       "    </tr>\n",
       "  </tbody>\n",
       "</table>\n",
       "</div>"
      ],
      "text/plain": [
       "           Date Financial Institution Name  Total Assets  Total Deposits  \\\n",
       "6180 2019-03-31        SILICON VALLEY BANK    47469121.0      47920727.0   \n",
       "6181 2021-12-31        SILICON VALLEY BANK   166209000.0     175378000.0   \n",
       "9338 2019-03-31             SIGNATURE BANK      790966.0        703071.0   \n",
       "9339 2021-12-31             SIGNATURE BANK     1671880.0       1513138.0   \n",
       "9662 2019-03-31        FIRST REPUBLIC BANK    97058104.0      81612117.0   \n",
       "9663 2021-12-31        FIRST REPUBLIC BANK   170205389.0     156321243.0   \n",
       "\n",
       "      Total Securities  Asset Growth  Deposit Growth  Securities Growth  \\\n",
       "6180        15055255.0           NaN             NaN                NaN   \n",
       "6181        98201000.0      2.501413        2.659752           5.522706   \n",
       "9338           98257.0           NaN             NaN                NaN   \n",
       "9339          340092.0      1.113719        1.152184           2.461250   \n",
       "9662        16089733.0           NaN             NaN                NaN   \n",
       "9663        22301305.0      0.753644        0.915417           0.386058   \n",
       "\n",
       "      Loans Growth  Delta Securities Share  Delta Security Maturity  \n",
       "6180           NaN                     NaN                      NaN  \n",
       "6181      1.251355                0.273669                 2.634284  \n",
       "9338           NaN                     NaN                      NaN  \n",
       "9339      0.470411                0.079195                 6.046910  \n",
       "9662           NaN                     NaN                      NaN  \n",
       "9663      0.746451               -0.034748                 1.046075  "
      ]
     },
     "execution_count": 65,
     "metadata": {},
     "output_type": "execute_result"
    }
   ],
   "source": [
    "df[df['IDRSSD'].isin(failed_banks)][['Date', 'Financial Institution Name',\n",
    "                                     'Total Assets', 'Total Deposits', 'Total Securities', \n",
    "                                     'Asset Growth', 'Deposit Growth', 'Securities Growth', 'Loans Growth',\n",
    "                                     'Delta Securities Share', 'Delta Security Maturity']]"
   ]
  },
  {
   "cell_type": "code",
   "execution_count": 66,
   "metadata": {},
   "outputs": [],
   "source": [
    "df = df[(df['Asset Growth'] > df['Asset Growth'].quantile(0.005)) & (df['Asset Growth'] < df['Asset Growth'].quantile(0.995))]"
   ]
  },
  {
   "cell_type": "code",
   "execution_count": 67,
   "metadata": {},
   "outputs": [
    {
     "data": {
      "text/plain": [
       "5.558405945908423"
      ]
     },
     "execution_count": 67,
     "metadata": {},
     "output_type": "execute_result"
    }
   ],
   "source": [
    "df['Securities Growth'].quantile(0.97)"
   ]
  },
  {
   "cell_type": "code",
   "execution_count": 68,
   "metadata": {},
   "outputs": [],
   "source": [
    "df = df[(df['Securities Growth'] > df['Securities Growth'].quantile(0.03)) & \n",
    "        (df['Securities Growth'] < df['Securities Growth'].quantile(0.97))]"
   ]
  },
  {
   "cell_type": "code",
   "execution_count": 82,
   "metadata": {},
   "outputs": [
    {
     "data": {
      "image/png": "[encoded data removed]",
      "text/plain": [
       "<Figure size 800x800 with 1 Axes>"
      ]
     },
     "metadata": {},
     "output_type": "display_data"
    },
    {
     "data": {
      "image/png": "[encoded data removed]",
      "text/plain": [
       "<Figure size 800x800 with 1 Axes>"
      ]
     },
     "metadata": {},
     "output_type": "display_data"
    },
    {
     "data": {
      "image/png": "[encoded data removed]",
      "text/plain": [
       "<Figure size 800x800 with 1 Axes>"
      ]
     },
     "metadata": {},
     "output_type": "display_data"
    }
   ],
   "source": [
    "plt.figure(figsize=(8, 8))\n",
    "#binned_scatter(df['Deposit Growth'], df['Securities Growth'], marker='.', q=1000)\n",
    "plt.scatter(df['Deposit Growth'], df['Securities Growth'], marker='.')\n",
    "plt.scatter(df[df['IDRSSD'].isin(failed_banks)]['Deposit Growth'], \n",
    "            df[df['IDRSSD'].isin(failed_banks)]['Securities Growth'],\n",
    "            marker='s'\n",
    "            )\n",
    "plt.xticks(fontsize=14)\n",
    "plt.yticks(fontsize=14)\n",
    "\n",
    "# Get current axis and set y-axis ticks equal to x-axis ticks\n",
    "ax = plt.gca()\n",
    "ticks = ax.get_yticks()\n",
    "ax.set_xticks(ticks)\n",
    "\n",
    "plt.xlabel('Deposit Growth', fontsize=14)\n",
    "plt.ylabel('Securities Growth', fontsize=14)\n",
    "plt.title('Deposits and Securities Growth', fontsize=16)\n",
    "plt.grid(color='lightgrey', ls=':', alpha=0.5, lw=1)\n",
    "# Add 45-degree line:\n",
    "lims = [min(ax.get_xlim()[0], ax.get_ylim()[0]), max(ax.get_xlim()[1], ax.get_ylim()[1])]\n",
    "plt.plot(lims, lims, linestyle='--', color='black', alpha=0.5)\n",
    "plt.show()\n",
    "\n",
    "plt.figure(figsize=(8, 8))\n",
    "#binned_scatter(df['Deposit Growth'], df['Asset Growth'], marker='.', q=1000)\n",
    "plt.scatter(df['Deposit Growth'], df['Asset Growth'], marker='.')\n",
    "plt.scatter(df[df['IDRSSD'].isin(failed_banks)]['Deposit Growth'], \n",
    "            df[df['IDRSSD'].isin(failed_banks)]['Asset Growth'],\n",
    "            marker='s'\n",
    "            )\n",
    "plt.xticks(fontsize=14)\n",
    "plt.yticks(fontsize=14)\n",
    "# Set y-axis ticks equal to x-axis ticks:\n",
    "plt.gca().set_yticks(ticks)\n",
    "plt.gca().set_xticks(ticks)\n",
    "plt.xlabel('Deposit Growth', fontsize=14)\n",
    "plt.ylabel('Asset Growth', fontsize=14)\n",
    "plt.title('Deposits and Asset Growth', fontsize=16)\n",
    "plt.grid(color='lightgrey', ls=':', alpha=0.5, lw=1)\n",
    "# Add 45-degree line:\n",
    "ax = plt.gca()\n",
    "lims = [min(ax.get_xlim()[0], ax.get_ylim()[0]), max(ax.get_xlim()[1], ax.get_ylim()[1])]\n",
    "plt.plot(lims, lims, linestyle='--', color='black', alpha=0.5)\n",
    "plt.show()\n",
    "\n",
    "plt.figure(figsize=(8, 8))\n",
    "#binned_scatter(df['Deposit Growth'], df['Loans Growth'], marker='.', q=1000)\n",
    "plt.scatter(df['Deposit Growth'], df['Loans Growth'], marker='.')\n",
    "plt.scatter(df[df['IDRSSD'].isin(failed_banks)]['Deposit Growth'], \n",
    "            df[df['IDRSSD'].isin(failed_banks)]['Loans Growth'],\n",
    "            marker='s'\n",
    "            )\n",
    "# Set y-axis ticks equal to x-axis ticks:\n",
    "plt.gca().set_yticks(ticks)\n",
    "plt.gca().set_xticks(ticks)\n",
    "plt.xticks(fontsize=14)\n",
    "plt.yticks(fontsize=14)\n",
    "plt.xlabel('Deposit Growth', fontsize=14)\n",
    "plt.ylabel('Loans Growth', fontsize=14)\n",
    "plt.title('Deposits and Loans Growth', fontsize=16)\n",
    "plt.grid(color='lightgrey', ls=':', alpha=0.5, lw=1)\n",
    "\n",
    "plt.xlim(-1.2,6.5)\n",
    "plt.ylim(-1.2,6.5)\n",
    "\n",
    "# Set both x and y ticks to be the same\n",
    "plt.xticks(ticks, fontsize=14)\n",
    "plt.yticks(ticks, fontsize=14)\n",
    "plt.gca().set_xticks(ticks)\n",
    "plt.gca().set_yticks(ticks)\n",
    "\n",
    "# Add 45-degree line\n",
    "ax = plt.gca()\n",
    "lims = [min(ax.get_xlim()[0], ax.get_ylim()[0]), max(ax.get_xlim()[1], ax.get_ylim()[1])]\n",
    "plt.plot(lims, lims, linestyle='--', color='black', alpha=0.5)\n",
    "plt.show()"
   ]
  },
  {
   "cell_type": "code",
   "execution_count": null,
   "metadata": {},
   "outputs": [],
   "source": [
    "plt.figure(figsize=(12, 6))\n",
    "binned_scatter(df['Deposit Growth'], df['Delta Loans Share'], marker='.', q=1000)\n",
    "plt.scatter(df[df['IDRSSD'].isin(failed_banks)]['Deposit Growth'], \n",
    "            df[df['IDRSSD'].isin(failed_banks)]['Delta Loans Share'],\n",
    "            marker='s'\n",
    "            )\n",
    "plt.xticks(fontsize=14)\n",
    "plt.yticks(fontsize=14)\n",
    "plt.xlabel('Deposit Growth', fontsize=14)\n",
    "plt.ylabel('$\\Delta$Loans Share', fontsize=14)\n",
    "plt.title('Deposits and $\\Delta$Loans Share', fontsize=16)\n",
    "plt.grid(color='lightgrey', ls=':', alpha=0.5, lw=1)\n",
    "plt.show()\n",
    "\n",
    "plt.figure(figsize=(12, 6))\n",
    "binned_scatter(df['Deposit Growth'], df['Delta Securities Share'], marker='.', q=1000)\n",
    "plt.scatter(df[df['IDRSSD'].isin(failed_banks)]['Deposit Growth'], \n",
    "            df[df['IDRSSD'].isin(failed_banks)]['Delta Securities Share'],\n",
    "            marker='s'\n",
    "            )\n",
    "plt.xticks(fontsize=14)\n",
    "plt.yticks(fontsize=14)\n",
    "plt.xlabel('Deposit Growth', fontsize=14)\n",
    "plt.ylabel('$\\Delta$Securities Share', fontsize=14)\n",
    "plt.title('Deposits and $\\Delta$Securities Share', fontsize=16)\n",
    "plt.grid(color='lightgrey', ls=':', alpha=0.5, lw=1)\n",
    "plt.show()\n",
    "\n",
    "plt.figure(figsize=(12, 6))\n",
    "#binned_scatter(df['Deposit Growth'], df['Delta Security Maturity'], marker='.', q=1000)\n",
    "plt.scatter(df['Deposit Growth'], df['Delta Security Maturity'], marker='.')\n",
    "plt.scatter(df[df['IDRSSD'].isin(failed_banks)]['Deposit Growth'], \n",
    "            df[df['IDRSSD'].isin(failed_banks)]['Delta Security Maturity'],\n",
    "            marker='s'\n",
    "            )\n",
    "plt.xticks(fontsize=14)\n",
    "plt.yticks(fontsize=14)\n",
    "plt.xlabel('Deposit Growth', fontsize=14)\n",
    "plt.ylabel('$\\Delta$Security Maturity', fontsize=14)\n",
    "plt.title('Deposits and $\\Delta$ Security Maturity', fontsize=16)\n",
    "plt.grid(color='lightgrey', ls=':', alpha=0.5, lw=1)\n",
    "plt.show()"
   ]
  },
  {
   "cell_type": "markdown",
   "metadata": {},
   "source": [
    "### SVB"
   ]
  },
  {
   "cell_type": "code",
   "execution_count": null,
   "metadata": {},
   "outputs": [],
   "source": [
    "# ------------------------------- START DATE ------------------------------\n",
    "svb_start_date = main[main['IDRSSD']==802866]['Date'].min()\n",
    "svb_start = main[main['Date'] == svb_start_date]\n",
    "svb_start_share = svb_start[svb_start['IDRSSD'] == 802866]['Securities Share'].values[0]\n",
    "svb_start.loc[:, 'Log Assets'] = np.log(svb_start['Total Assets'])\n",
    "# ------------------------------- END DATE --------------------------------\n",
    "svb_date = main[(main['Date'] == '2022-12-31')]\n",
    "# create a log of the total assets using .loc:\n",
    "svb_date.loc[:, 'Log Assets'] = np.log(svb_date['Total Assets'])\n",
    "svb_share = svb_date[svb_date['IDRSSD'] == 802866]['Securities Share'].values[0]\n",
    "svb_share_cash = svb_date[svb_date['IDRSSD'] == 802866]['Cash Share'].values[0]\n",
    "svb_share_loans = svb_date[svb_date['IDRSSD'] == 802866]['Loans Share'].values[0]\n",
    "# ------------------------------ PLOTS -------------------------------------\n",
    "sns.histplot(data=svb_start, x='Securities Share', bins=25, kde=True, stat='density', label='2001-03-31')\n",
    "# plot a vertical line at the ID=802866 (SVB):\n",
    "plt.axvline(x=svb_start_share, linestyle='--', linewidth=2, color='blue')\n",
    "sns.histplot(data=svb_date, x='Securities Share', bins=25, kde=True, stat='density', label='2022-12-31')\n",
    "# plot a vertical line at the ID=802866 (SVB):\n",
    "plt.axvline(x=svb_date[svb_date['IDRSSD'] == 802866]['Securities Share'].values[0], linestyle='--', linewidth=2, color='orange')\n",
    "plt.title(f'Distribution of Securities Share')\n",
    "plt.legend()\n",
    "plt.show()\n",
    "\n",
    "sns.histplot(data=svb_start, x='Log Assets', bins=25, kde=True, stat='density', label='2001-03-31')\n",
    "# plot a vertical line at the ID=802866 (SVB):\n",
    "plt.axvline(x=svb_start[svb_start['IDRSSD'] == 802866]['Log Assets'].values[0], color='blue', linestyle='--', linewidth=2)\n",
    "sns.histplot(data=svb_date, x='Log Assets', bins=25, kde=True, stat='density', label='2022-12-31')\n",
    "# plot a vertical line at the ID=802866 (SVB):\n",
    "plt.axvline(x=svb_date[svb_date['IDRSSD'] == 802866]['Log Assets'].values[0], color='orange', linestyle='--', linewidth=2)\n",
    "plt.title('Distribution of Log Total Assets')\n",
    "plt.legend()\n",
    "plt.show()\n",
    "\n",
    "# plot the distribution of the securities share for the banks with log assets larger than SVB:\n",
    "sns.histplot(data=svb_start[svb_start['Log Assets'] >= svb_start[svb_start['IDRSSD'] == 802866]['Log Assets'].values[0]],\n",
    "              x='Securities Share', bins=5, kde=False, stat='density', label='2001-03-31')\n",
    "plt.axvline(x=svb_start[svb_start['IDRSSD'] == 802866]['Securities Share'].values[0], color='blue', linestyle='--', linewidth=2)\n",
    "sns.histplot(data=svb_date[svb_date['Log Assets'] >= svb_date[svb_date['IDRSSD'] == 802866]['Log Assets'].values[0]],\n",
    "              x='Securities Share', bins=5, kde=False, stat='density', label='2022-12-31')\n",
    "plt.axvline(x=svb_date[svb_date['IDRSSD'] == 802866]['Securities Share'].values[0], color='orange', linestyle='--', linewidth=2)\n",
    "plt.title('Distribution of Securities Share for Banks with Log Assets >= SVB')\n",
    "plt.xlabel('Securities Share')\n",
    "plt.ylabel('Density')\n",
    "plt.legend()\n",
    "plt.show()"
   ]
  },
  {
   "cell_type": "code",
   "execution_count": null,
   "metadata": {},
   "outputs": [],
   "source": [
    "# print the banks that had a larger securities share than SVB and longer asset maturity:\n",
    "svb_date[#(svb_date['Securities Share'] >= svb_share) & \n",
    "         #(svb_date['Asset Maturity'] >= svb_date[svb_date['IDRSSD'] == 802866]['Asset Maturity'].values[0]) & \n",
    "         (svb_date['Log Assets'] >= svb_date[svb_date['IDRSSD'] == 802866]['Log Assets'].values[0])][['Financial Institution Name', 'Log Assets', \n",
    "                                                                                                      'Securities Share', 'Cash Share',\n",
    "                                                                                                      'Security Maturity', 'Asset Maturity']].sort_values('Securities Share', ascending=False)"
   ]
  },
  {
   "cell_type": "code",
   "execution_count": null,
   "metadata": {},
   "outputs": [],
   "source": [
    "# print the banks that had a larger securities share than SVB and longer asset maturity:\n",
    "svb_date[(svb_date['Securities Share'] >= svb_share) & \n",
    "         #(svb_date['Asset Maturity'] >= svb_date[svb_date['IDRSSD'] == 802866]['Asset Maturity'].values[0]) & \n",
    "         (svb_date['Log Assets'] >= svb_date[svb_date['IDRSSD'] == 802866]['Log Assets'].values[0])][['Financial Institution Name', 'Log Assets', \n",
    "                                                                                                      'Securities Share', 'Cash Share',\n",
    "                                                                                                      'Security Maturity', 'Asset Maturity']].sort_values('Log Assets', ascending=False)"
   ]
  },
  {
   "cell_type": "markdown",
   "metadata": {},
   "source": [
    "## Aggregate Data"
   ]
  },
  {
   "cell_type": "code",
   "execution_count": null,
   "metadata": {},
   "outputs": [],
   "source": [
    "# Load monetary policy shock data:\n",
    "mp_shocks = pd.read_csv('brw-shock-series.csv')\n",
    "\n",
    "# Drop column that has 'Unnamed' in it:\n",
    "mp_shocks = mp_shocks.loc[:, ~mp_shocks.columns.str.contains('^Unnamed')]\n",
    "\n",
    "# keep only the first 4 columns:\n",
    "mp_shocks = mp_shocks.iloc[:, 0:4]\n",
    "\n",
    "# rename columns:\n",
    "mp_shocks.columns = mp_shocks.columns.str.replace(' (updated)', '')\n",
    "mp_shocks.loc[:, 'month'] = mp_shocks['month'].str.replace('m', '-')\n",
    "mp_shocks = mp_shocks[['month', 'BRW_monthly']]\n",
    "\n",
    "# drop the 'NaT' row:\n",
    "mp_shocks = mp_shocks.dropna()\n",
    "mp_shocks['month'] = pd.to_datetime(mp_shocks['month'], format='%Y-%m')\n",
    "# compute the quarterly average of the monthly shocks:\n",
    "mp_shocks['quarter'] = mp_shocks['month'].dt.to_period('Q')\n",
    "mp_shocks['BRW_quarterly'] = mp_shocks.groupby('quarter')['BRW_monthly'].transform('sum')\n",
    "\n",
    "# keep only one observation for 'month' and 'BRW_quarterly' for each quarter:\n",
    "mp_shocks = mp_shocks.drop_duplicates(subset='quarter', keep='first')\n",
    "mp_shocks['Date'] = mp_shocks['month'] - pd.DateOffset(days = 1)\n",
    "\n",
    "mp_shocks = mp_shocks[['Date', 'BRW_quarterly']]\n",
    "mp_shocks.rename(columns={'BRW_quarterly': 'MP Shocks'}, inplace=True)\n",
    "\n",
    "mp_shocks.loc[:,'Positive FF Shock'] = 0\n",
    "mp_shocks.loc[mp_shocks['MP Shocks'] > 0, 'Positive FF Shock'] = 1"
   ]
  },
  {
   "cell_type": "code",
   "execution_count": null,
   "metadata": {},
   "outputs": [],
   "source": [
    "# Load the Excess Bond Premium data:\n",
    "ebp = pd.read_csv('ebp_csv.csv')"
   ]
  },
  {
   "cell_type": "code",
   "execution_count": null,
   "metadata": {},
   "outputs": [],
   "source": [
    "# create a quarter column:\n",
    "ebp['quarter'] = pd.to_datetime(ebp['date']).dt.to_period('Q')"
   ]
  },
  {
   "cell_type": "code",
   "execution_count": null,
   "metadata": {},
   "outputs": [],
   "source": [
    "# generate ebp quarterly averages:\n",
    "ebp['ebp_q'] = ebp.groupby('quarter')['ebp'].transform('mean')"
   ]
  },
  {
   "cell_type": "code",
   "execution_count": null,
   "metadata": {},
   "outputs": [],
   "source": [
    "# load fredgraph data:\n",
    "aggregates = pd.read_csv('fredgraph.csv')\n",
    "\n",
    "# rename some variables\n",
    "aggregates.rename(columns = {'DATE':'Date', \n",
    "                             'NGDPSAXDCUSQ': 'Nominal GDP', \n",
    "                             'CPIAUCSL_NBD19840101': 'CPI',\n",
    "                             'GDPDEF': 'Deflator'}, inplace = True)\n",
    "\n",
    "# drop the first row:\n",
    "aggregates = aggregates.iloc[1:,:]\n",
    "\n",
    "# for all entries with '.' substitute with NaN:\n",
    "aggregates = aggregates.replace('.', np.nan)\n",
    "\n",
    "# make 'Deflator' and 'Nominal GDP' floats:\n",
    "aggregates['Deflator'] = aggregates['Deflator'].astype(float)\n",
    "aggregates['Nominal GDP'] = aggregates['Nominal GDP'].astype(float)\n",
    "aggregates['FEDFUNDS'] = aggregates['FEDFUNDS'].astype(float)\n",
    "aggregates['CPI'] = aggregates['CPI'].astype(float)\n",
    "\n",
    "# make 'Date' a datetime object:\n",
    "aggregates['Date'] = pd.to_datetime(aggregates['Date'])\n",
    "\n",
    "# create 'Real GDP' variable:\n",
    "aggregates['Real GDP'] = aggregates['Nominal GDP'] / aggregates['CPI'] * 100\n",
    "aggregates = aggregates.dropna()\n",
    "\n",
    "# adjust the FF rate: \n",
    "aggregates['FEDFUNDS'] = aggregates['FEDFUNDS'] / 100\n",
    "aggregates['Date'] = aggregates['Date'] - pd.DateOffset(days = 1)\n",
    "\n",
    "# create 'Inflation' as the growth rate of the CPI:\n",
    "aggregates['Inflation'] = aggregates['CPI'].pct_change(fill_method=None)\n",
    "\n",
    "# create a variable named 'High Inflation' as 1 if the inflation is above the average, and 0 otherwise:\n",
    "aggregates['High Inflation'] = 0\n",
    "aggregates.loc[aggregates['Inflation'] > aggregates['Inflation'].mean(), 'High Inflation'] = 1\n",
    "\n",
    "# create a variable named 'FF Hike' as 1 if the FF rate increased, and 0 otherwise:\n",
    "aggregates['FF Hike'] = 0\n",
    "aggregates.loc[aggregates['FEDFUNDS'] > aggregates['FEDFUNDS'].shift(1), 'FF Hike'] = 1\n",
    "\n",
    "param = 1600\n",
    "\n",
    "# De-trend the variables using an HP filter:\n",
    "aggregates['De-trended Real GDP'] = sm.tsa.filters.hpfilter(np.log(aggregates['Real GDP']), lamb=param)[0]\n",
    "\n",
    "# create a variable named 'Boom' that is 1, if the De-trended Real GDP is above 0, and 0 otherwise:\n",
    "aggregates['Recession'] = 0\n",
    "aggregates.loc[aggregates['De-trended Real GDP'] < 0, 'Recession'] = 1"
   ]
  },
  {
   "cell_type": "code",
   "execution_count": null,
   "metadata": {},
   "outputs": [],
   "source": [
    "# load data on mergers and acquisitions:\n",
    "transformations = pd.read_csv('CSV_TRANSFORMATIONS.csv')\n",
    "\n",
    "# rename the columns:\n",
    "transformations = transformations.rename(columns={'#ID_RSSD_PREDECESSOR': 'Predecessor ID', \n",
    "                                                  'ID_RSSD_SUCCESSOR': 'Successor ID',\n",
    "                                                 'DT_TRANS': 'Transaction Date',\n",
    "                                                 'TRNSFM_CD': 'Transaction Code',})\n",
    "\n",
    "# convert the 'transaction_date' to datetime format:\n",
    "transformations['Transaction Date'] = pd.to_datetime(transformations['Transaction Date'], format='%Y%m%d')\n",
    "transformations = transformations[['Predecessor ID', 'Successor ID', 'Transaction Date', 'Transaction Code']]"
   ]
  },
  {
   "cell_type": "code",
   "execution_count": null,
   "metadata": {},
   "outputs": [],
   "source": [
    "#main = pd.merge(main, aggregates, how = 'left', on = 'Date').sort_values(by = ['IDRSSD', 'Date'])\n",
    "#main = pd.merge(main, mp_shocks, how = 'left', on = 'Date').sort_values(by = ['IDRSSD', 'Date'])"
   ]
  },
  {
   "cell_type": "markdown",
   "metadata": {},
   "source": [
    "## Start Analysis"
   ]
  },
  {
   "cell_type": "markdown",
   "metadata": {},
   "source": [
    "### Time-series analysis (portfolio shares)"
   ]
  },
  {
   "cell_type": "code",
   "execution_count": 56,
   "metadata": {},
   "outputs": [],
   "source": [
    "df = main[['Date', 'IDRSSD', 'Financial Institution Name', \n",
    "           'Loan Maturity', 'Treasury Maturity', 'Security Maturity', 'Asset Maturity', 'Long Assets Maturity',\n",
    "           'Total Assets', 'Total Securities', 'Total Loans', 'Total Deposits', 'Cash', \n",
    "           'Securities Share', 'Loans Share', 'Cash Share',\n",
    "           'Deposit Rate', 'Avg. Deposit Rate', 'Std. Deposit Rate', 'R_hat',\n",
    "           ]]\n",
    "\n",
    "# Assuming df is your DataFrame\n",
    "df = df.dropna(subset=['Securities Share', 'Loans Share', 'Cash Share', 'Total Assets',\n",
    "                       'Asset Maturity', 'Loan Maturity', 'Security Maturity', 'Total Loans', 'Total Securities'])"
   ]
  },
  {
   "cell_type": "code",
   "execution_count": 57,
   "metadata": {},
   "outputs": [],
   "source": [
    "df = df[df['Date'].dt.year<2020]"
   ]
  },
  {
   "cell_type": "code",
   "execution_count": 58,
   "metadata": {},
   "outputs": [
    {
     "name": "stderr",
     "output_type": "stream",
     "text": [
      "C:\\Users\\angel\\AppData\\Local\\Temp\\ipykernel_12052\\3164643325.py:2: DeprecationWarning: DataFrameGroupBy.apply operated on the grouping columns. This behavior is deprecated, and in a future version of pandas the grouping columns will be excluded from the operation. Either pass `include_groups=False` to exclude the groupings or explicitly select the grouping columns after groupby to silence this warning.\n",
      "  df = df.groupby('Date').apply(lambda x: x[x['Total Assets'] > x['Total Assets'].quantile(0.20)]).reset_index(drop=True)\n",
      "C:\\Users\\angel\\AppData\\Local\\Temp\\ipykernel_12052\\3164643325.py:5: DeprecationWarning: DataFrameGroupBy.apply operated on the grouping columns. This behavior is deprecated, and in a future version of pandas the grouping columns will be excluded from the operation. Either pass `include_groups=False` to exclude the groupings or explicitly select the grouping columns after groupby to silence this warning.\n",
      "  df = df.groupby('Date').apply(lambda x: x[~x['IDRSSD'].isin(x.nlargest(10, 'Total Assets')['IDRSSD'])]).reset_index(drop=True)\n"
     ]
    }
   ],
   "source": [
    "# drop the bottom 20% of the banks in terms of total assets per 'Date':\n",
    "df = df.groupby('Date').apply(lambda x: x[x['Total Assets'] > x['Total Assets'].quantile(0.20)]).reset_index(drop=True)\n",
    "\n",
    "# use nlargest to drop the 10 largest banks in 'Total Assets' per 'Date':\n",
    "df = df.groupby('Date').apply(lambda x: x[~x['IDRSSD'].isin(x.nlargest(10, 'Total Assets')['IDRSSD'])]).reset_index(drop=True)"
   ]
  },
  {
   "cell_type": "code",
   "execution_count": 59,
   "metadata": {},
   "outputs": [
    {
     "data": {
      "image/png": "[encoded data removed]",
      "text/plain": [
       "<Figure size 1200x600 with 1 Axes>"
      ]
     },
     "metadata": {},
     "output_type": "display_data"
    },
    {
     "data": {
      "image/png": "[encoded data removed]",
      "text/plain": [
       "<Figure size 1200x600 with 1 Axes>"
      ]
     },
     "metadata": {},
     "output_type": "display_data"
    },
    {
     "data": {
      "image/png": "[encoded data removed]",
      "text/plain": [
       "<Figure size 1200x600 with 1 Axes>"
      ]
     },
     "metadata": {},
     "output_type": "display_data"
    }
   ],
   "source": [
    "\n",
    "# Compute weighted averages\n",
    "df['Weighted_Securities_Share'] = df['Securities Share'] * df['Total Assets']\n",
    "df['Weighted_Loans_Share'] = df['Loans Share'] * df['Total Assets']\n",
    "df['Weighted_Cash_Share'] = df['Cash Share'] * df['Total Assets']\n",
    "df['Weighted_Asset_Maturity'] = df['Asset Maturity'] * df['Total Assets']\n",
    "df['Weighted_Loans_Maturity'] = df['Loan Maturity'] * df['Total Assets']\n",
    "df['Weighted_Securities_Maturity'] = df['Security Maturity'] * df['Total Assets']\n",
    "\n",
    "# Group by 'Date' and compute the sum of weighted shares and total assets\n",
    "grouped = df.groupby('Date').agg({\n",
    "    'Weighted_Securities_Share': 'sum',\n",
    "    'Weighted_Loans_Share': 'sum',\n",
    "    'Weighted_Cash_Share': 'sum',\n",
    "    'Weighted_Asset_Maturity': 'sum',\n",
    "    'Weighted_Loans_Maturity': 'sum',\n",
    "    'Weighted_Securities_Maturity': 'sum',\n",
    "    'Total Assets': 'sum',\n",
    "    'Total Loans': 'sum',\n",
    "    'Total Securities': 'sum'\n",
    "}).reset_index()\n",
    "\n",
    "# Compute the weighted averages\n",
    "grouped['Securities_Share_Avg'] = grouped['Weighted_Securities_Share'] / grouped['Total Assets']\n",
    "grouped['Loans_Share_Avg'] = grouped['Weighted_Loans_Share'] / grouped['Total Assets']\n",
    "grouped['Cash_Share_Avg'] = grouped['Weighted_Cash_Share'] / grouped['Total Assets']\n",
    "grouped['Asset_Maturity_Avg'] = grouped['Weighted_Asset_Maturity'] / grouped['Total Assets']\n",
    "grouped['Loans_Maturity_Avg'] = grouped['Weighted_Loans_Maturity'] / grouped['Total Assets']\n",
    "grouped['Securities_Maturity_Avg'] = grouped['Weighted_Securities_Maturity'] / grouped['Total Assets']\n",
    "\n",
    "# Plot the time series\n",
    "plt.figure(figsize=(12, 6))\n",
    "plt.plot(grouped['Date'], grouped['Securities_Share_Avg'], label='Securities Share', ls='-')\n",
    "plt.plot(grouped['Date'], grouped['Loans_Share_Avg'], label='Loans Share', ls='--')\n",
    "plt.plot(grouped['Date'], grouped['Cash_Share_Avg'], label='Cash Share', ls=':')\n",
    "\n",
    "plt.title('Time Series of Weighted Securities, Loans, and Cash Shares')\n",
    "plt.xlabel('Date')\n",
    "plt.ylabel('Weighted Share')\n",
    "plt.legend()\n",
    "plt.grid(True, linestyle='--', alpha=0.5, linewidth=0.5, color='lightgrey')\n",
    "plt.show()\n",
    "\n",
    "# Plot the time series\n",
    "plt.figure(figsize=(12, 6))\n",
    "plt.plot(grouped['Date'], grouped['Securities_Maturity_Avg'], label='Securities', ls='-', lw=3)\n",
    "#plt.plot(grouped['Date'], grouped['Loans_Maturity_Avg'], label='Loans', ls='--')\n",
    "# increase the size of the ticks and labels:\n",
    "plt.xticks(fontsize=14)\n",
    "plt.yticks(fontsize=14)\n",
    "#plt.plot(grouped['Date'], grouped['Asset_Maturity_Avg'], label='Asset', ls='-', lw=3)\n",
    "plt.title('Time Series of Weighted Securities Maturity', fontsize=18)\n",
    "plt.xlabel('Date', fontsize=16)\n",
    "plt.ylabel('Weighted Securities Maturity', fontsize=16)\n",
    "plt.grid(True, linestyle='--', alpha=0.5, linewidth=0.5, color='lightgrey')\n",
    "plt.show()\n",
    "\n",
    "# Plot the time series\n",
    "plt.figure(figsize=(12, 6))\n",
    "plt.plot(grouped['Date'], grouped['Asset_Maturity_Avg'], label='Securities', ls='-', lw=3)\n",
    "#plt.plot(grouped['Date'], grouped['Loans_Maturity_Avg'], label='Loans', ls='--')\n",
    "# increase the size of the ticks and labels:\n",
    "plt.xticks(fontsize=14)\n",
    "plt.yticks(fontsize=14)\n",
    "#plt.plot(grouped['Date'], grouped['Asset_Maturity_Avg'], label='Asset', ls='-', lw=3)\n",
    "plt.title('Time Series of Weighted Asset Maturity', fontsize=18)\n",
    "plt.xlabel('Date', fontsize=16)\n",
    "plt.ylabel('Weighted Asset Maturity', fontsize=16)\n",
    "plt.grid(True, linestyle='--', alpha=0.5, linewidth=0.5, color='lightgrey')\n",
    "plt.show()"
   ]
  },
  {
   "cell_type": "code",
   "execution_count": 54,
   "metadata": {},
   "outputs": [
    {
     "name": "stdout",
     "output_type": "stream",
     "text": [
      "        Date  Loans_Share_Avg  Securities_Share_Avg  Cash_Share_Avg\n",
      "0 2001-03-31         0.745388              0.209976        0.044636\n",
      "         Date  Loans_Share_Avg  Securities_Share_Avg  Cash_Share_Avg\n",
      "75 2019-12-31         0.757999               0.17368        0.068322\n"
     ]
    }
   ],
   "source": [
    "print(grouped[grouped['Date'] == grouped['Date'].min()][['Date', 'Loans_Share_Avg', \n",
    "                                                                        'Securities_Share_Avg', 'Cash_Share_Avg']])\n",
    "print(grouped[grouped['Date'] == grouped['Date'].max()][['Date', 'Loans_Share_Avg', \n",
    "                                                                        'Securities_Share_Avg', 'Cash_Share_Avg']])"
   ]
  },
  {
   "cell_type": "code",
   "execution_count": 40,
   "metadata": {},
   "outputs": [
    {
     "name": "stdout",
     "output_type": "stream",
     "text": [
      "        Date  Asset_Maturity_Avg  Securities_Maturity_Avg  Loans_Maturity_Avg\n",
      "0 2001-03-31            5.929837                 7.366565            6.084479\n",
      "         Date  Asset_Maturity_Avg  Securities_Maturity_Avg  Loans_Maturity_Avg\n",
      "79 2020-12-31            8.228625                 9.419744            9.787112\n"
     ]
    }
   ],
   "source": [
    "print(grouped[grouped['Date'] == grouped['Date'].min()][['Date', 'Asset_Maturity_Avg', \n",
    "                                                                        'Securities_Maturity_Avg', 'Loans_Maturity_Avg']])\n",
    "print(grouped[grouped['Date'] == grouped['Date'].max()][['Date', 'Asset_Maturity_Avg', \n",
    "                                                                        'Securities_Maturity_Avg', 'Loans_Maturity_Avg']])"
   ]
  },
  {
   "cell_type": "code",
   "execution_count": null,
   "metadata": {},
   "outputs": [],
   "source": [
    "df = main[['Date', 'IDRSSD', 'Financial Institution Name', \n",
    "           'Loan Maturity', 'Treasury Maturity', 'Security Maturity', 'Asset Maturity', 'Long Assets Maturity',\n",
    "           'Total Assets', 'Total Securities', 'Total Loans', 'Total Deposits', 'Cash', \n",
    "           'Securities Share', 'Loans Share', 'Cash Share',\n",
    "           'Deposit Rate', 'Avg. Deposit Rate', 'Std. Deposit Rate', 'R_hat',\n",
    "           ]]"
   ]
  },
  {
   "cell_type": "code",
   "execution_count": null,
   "metadata": {},
   "outputs": [],
   "source": [
    "# Assuming df is your DataFrame\n",
    "df = df.dropna(subset=['Securities Share', 'Loans Share', 'Cash Share', 'Total Assets',\n",
    "                       'Asset Maturity', 'Loan Maturity', 'Security Maturity', 'Total Loans', 'Total Securities'])\n",
    "\n",
    "# Group by 'Date' and compute the sum of weighted shares and total assets\n",
    "grouped = df.groupby('Date').agg({\n",
    "    'Securities Share': 'mean',\n",
    "    'Loans Share': 'mean',\n",
    "    'Cash Share': 'mean',\n",
    "    'Asset Maturity': 'mean',\n",
    "    'Loan Maturity': 'mean',\n",
    "    'Security Maturity': 'mean',\n",
    "    'Total Assets': 'mean',\n",
    "    'Total Loans': 'mean',\n",
    "    'Total Securities': 'mean'\n",
    "}).reset_index()\n",
    "\n",
    "# Plot the time series\n",
    "plt.figure(figsize=(12, 6))\n",
    "plt.plot(grouped['Date'], grouped['Securities Share'], label='Securities Share', ls='-')\n",
    "plt.plot(grouped['Date'], grouped['Loans Share'], label='Loans Share', ls='--')\n",
    "plt.plot(grouped['Date'], grouped['Cash Share'], label='Cash Share', ls=':')\n",
    "\n",
    "plt.title('Time Series of Avg. Securities, Loans, and Cash Shares')\n",
    "plt.xlabel('Date')\n",
    "plt.ylabel('Avg. Share')\n",
    "plt.legend()\n",
    "plt.grid(True, linestyle='--', alpha=0.5, linewidth=0.5, color='lightgrey')\n",
    "plt.show()\n",
    "\n",
    "# Plot the time series\n",
    "plt.figure(figsize=(12, 6))\n",
    "plt.plot(grouped['Date'], grouped['Security Maturity'], label='Securities', ls='-', lw=3)\n",
    "plt.xticks(fontsize=14)\n",
    "plt.yticks(fontsize=14)\n",
    "plt.title('Time Series of Avg. Securities Maturity', fontsize=18)\n",
    "plt.xlabel('Date', fontsize=16)\n",
    "plt.ylabel('Avg. Securities Maturity', fontsize=16)\n",
    "plt.grid(True, linestyle='--', alpha=0.5, linewidth=0.5, color='lightgrey')\n",
    "plt.show()\n",
    "\n",
    "# Plot the time series\n",
    "plt.figure(figsize=(12, 6))\n",
    "plt.plot(grouped['Date'], grouped['Asset Maturity'], label='Asset', ls='-', lw=3)\n",
    "# increase the size of the ticks and labels:\n",
    "plt.xticks(fontsize=14)\n",
    "plt.yticks(fontsize=14)\n",
    "plt.title('Time Series of Avg. Asset Maturity', fontsize=18)\n",
    "plt.xlabel('Date', fontsize=16)\n",
    "plt.ylabel('Avg. Asset Maturity', fontsize=16)\n",
    "plt.grid(True, linestyle='--', alpha=0.5, linewidth=0.5, color='lightgrey')\n",
    "plt.show()"
   ]
  },
  {
   "cell_type": "code",
   "execution_count": null,
   "metadata": {},
   "outputs": [],
   "source": [
    "print(grouped[grouped['Date'] == grouped['Date'].min()][['Date', 'Loans Share', \n",
    "                                                                        'Securities Share', 'Cash Share']])\n",
    "print(grouped[grouped['Date'] == grouped['Date'].max()][['Date', 'Loans Share', \n",
    "                                                                        'Securities Share', 'Cash Share']])\n"
   ]
  },
  {
   "cell_type": "code",
   "execution_count": null,
   "metadata": {},
   "outputs": [],
   "source": [
    "print(grouped[grouped['Date'] == grouped['Date'].min()][['Date', 'Asset Maturity', \n",
    "                                                                        'Security Maturity', 'Loan Maturity']])\n",
    "print(grouped[grouped['Date'] == grouped['Date'].max()][['Date', 'Asset Maturity', \n",
    "                                                                        'Security Maturity', 'Loan Maturity']])"
   ]
  },
  {
   "cell_type": "code",
   "execution_count": null,
   "metadata": {},
   "outputs": [],
   "source": [
    "# create 'base_date' variable:\n",
    "base_date = '2021-12-31'\n",
    "\n",
    "# what is the ID of the bank with more assets in 2001:\n",
    "top = 5\n",
    "top_id_2001 = df[df['Date'] == base_date].sort_values(by = 'Total Assets', ascending = False).head(top)['Financial Institution Name']"
   ]
  },
  {
   "cell_type": "code",
   "execution_count": null,
   "metadata": {},
   "outputs": [],
   "source": [
    "# plot the time series of portfolio shares for top_10_id_2001 using seaborn:\n",
    "plt.figure(figsize=(12, 6))\n",
    "sns.scatterplot(data=df[df['Financial Institution Name'].isin(top_id_2001)], x='Date',\n",
    "                 y='Securities Share', hue='Financial Institution Name', palette='tab10', \n",
    "             marker='o')\n",
    "plt.title(f'Time Series of Securities Share for Top {top} Banks by Assets in {base_date}', fontsize=16)\n",
    "plt.xlabel('Date', fontsize=14)\n",
    "plt.ylabel('Securities Share', fontsize=14)\n",
    "plt.grid(True, linestyle='--', alpha=0.5, linewidth=0.5, color='lightgrey')\n",
    "# let the legend be outside the plot:\n",
    "plt.legend(bbox_to_anchor=(1.05, 1), loc='upper left', fontsize=14)\n",
    "plt.xticks(fontsize=14)\n",
    "plt.yticks(fontsize=14)\n",
    "plt.show()\n",
    "\n",
    "# plot the time series of portfolio shares for top_10_id_2001 using seaborn:\n",
    "plt.figure(figsize=(12, 6))\n",
    "sns.scatterplot(data=df[df['Financial Institution Name'].isin(top_id_2001)], x='Date', y='Loans Share', \n",
    "                hue='Financial Institution Name', palette='tab10', \n",
    "             marker='o')\n",
    "plt.title(f'Time Series of Loans Share for Top {top} Banks by Assets in {base_date}', fontsize=16)\n",
    "plt.xlabel('Date', fontsize=14)\n",
    "plt.ylabel('Loans Share', fontsize=14)\n",
    "plt.xticks(fontsize=14)\n",
    "plt.yticks(fontsize=14)\n",
    "plt.grid(True, linestyle='--', alpha=0.5, linewidth=0.5, color='lightgrey')\n",
    "# let the legend be outside the plot:\n",
    "plt.legend(bbox_to_anchor=(1.05, 1), loc='upper left', fontsize=14)\n",
    "plt.show()\n",
    "\n",
    "# plot the time series of portfolio shares for top_10_id_2001 using seaborn:\n",
    "plt.figure(figsize=(12, 6))\n",
    "sns.scatterplot(data=df[df['Financial Institution Name'].isin(top_id_2001)], x='Date', y='Cash Share',\n",
    "                 hue='Financial Institution Name', palette='tab10', \n",
    "             marker='o')\n",
    "plt.title(f'Time Series of Cash Share for Top {top} Banks by Assets in {base_date}', fontsize=16)\n",
    "plt.xlabel('Date', fontsize=14)\n",
    "plt.ylabel('Cash Share', fontsize=14)\n",
    "plt.xticks(fontsize=14)\n",
    "plt.yticks(fontsize=14)\n",
    "plt.grid(True, linestyle='--', alpha=0.5, linewidth=0.5, color='lightgrey')\n",
    "# let the legend be outside the plot:\n",
    "plt.legend(bbox_to_anchor=(1.05, 1), loc='upper left', fontsize=14)\n",
    "plt.show()\n",
    "\n"
   ]
  },
  {
   "cell_type": "code",
   "execution_count": null,
   "metadata": {},
   "outputs": [],
   "source": [
    "plt.figure(figsize=(12, 6))\n",
    "sns.scatterplot(data=df[df['Financial Institution Name'].isin(top_id_2001)], x='Date', y='Asset Maturity', hue='Financial Institution Name',\n",
    "                 palette='tab10', \n",
    "             marker='o')\n",
    "plt.title(f'Time Series of Asset Maturity for Top {top} Banks by Assets in {base_date}', fontsize=16)\n",
    "plt.xlabel('Date', fontsize=14)\n",
    "plt.ylabel('Asset Maturity', fontsize=14)\n",
    "plt.xticks(fontsize=14)\n",
    "plt.yticks(fontsize=14)\n",
    "plt.grid(True, linestyle='--', alpha=0.5, linewidth=0.5, color='lightgrey')\n",
    "# let the legend be outside the plot:\n",
    "plt.legend(bbox_to_anchor=(1.05, 1), loc='upper left', fontsize=14)\n",
    "plt.show()\n",
    "\n",
    "plt.figure(figsize=(12, 6))\n",
    "sns.scatterplot(data=df[df['Financial Institution Name'].isin(top_id_2001)], x='Date', y='Loan Maturity', hue='Financial Institution Name',\n",
    "                 palette='tab10', \n",
    "             marker='o')\n",
    "plt.title(f'Time Series of Loan Maturity for Top {top} Banks by Assets in {base_date}', fontsize=16)\n",
    "plt.xlabel('Date', fontsize=14)\n",
    "plt.ylabel('Loans Maturity', fontsize=14)\n",
    "plt.grid(True, linestyle='--', alpha=0.5, linewidth=0.5, color='lightgrey')\n",
    "# let the legend be outside the plot:\n",
    "plt.legend(bbox_to_anchor=(1.05, 1), loc='upper left', fontsize=14)\n",
    "plt.show()\n",
    "\n",
    "plt.figure(figsize=(12, 6))\n",
    "sns.scatterplot(data=df[df['Financial Institution Name'].isin(top_id_2001)], x='Date', y='Security Maturity', hue='Financial Institution Name',\n",
    "                 palette='tab10', \n",
    "             marker='o')\n",
    "plt.title(f'Time Series of Securities Maturity for Top {top} Banks by Assets in {base_date}', fontsize=16)\n",
    "plt.xlabel('Date', fontsize=14)\n",
    "plt.ylabel('Securities Maturity', fontsize=14)\n",
    "plt.grid(True, linestyle='--', alpha=0.5, linewidth=0.5, color='lightgrey')\n",
    "# let the legend be outside the plot:\n",
    "plt.legend(bbox_to_anchor=(1.05, 1), loc='upper left', fontsize=14)\n",
    "plt.show()\n"
   ]
  },
  {
   "cell_type": "code",
   "execution_count": null,
   "metadata": {},
   "outputs": [],
   "source": []
  },
  {
   "cell_type": "markdown",
   "metadata": {},
   "source": [
    "### Cross-sectional analysis (portfolio shares)"
   ]
  },
  {
   "cell_type": "code",
   "execution_count": null,
   "metadata": {},
   "outputs": [],
   "source": [
    "df = main[['Date', 'IDRSSD', 'Financial Institution Name', \n",
    "           'Loan Maturity', 'Treasury Maturity', 'Security Maturity', 'Asset Maturity', 'Long Assets Maturity',\n",
    "           'Treasury Maturity', 'MBS Maturity',\n",
    "           'Total Assets', 'Total Securities', 'Total Loans', 'Total Deposits', 'Cash', \n",
    "           'Securities Share', 'Loans Share', 'Cash Share',\n",
    "           'Deposit Rate', 'Avg. Deposit Rate', 'Std. Deposit Rate', 'R_hat',\n",
    "           ]]"
   ]
  },
  {
   "cell_type": "code",
   "execution_count": null,
   "metadata": {},
   "outputs": [],
   "source": [
    "print(df['Cash Share'].quantile([0.01, 0.99]))\n",
    "print(df['Securities Share'].quantile([0.01, 0.99]))\n",
    "print(df['Loans Share'].quantile([0.01, 0.99]))\n",
    "print(df['Asset Maturity'].quantile([0.01, 0.99]))\n",
    "print(df['Security Maturity'].quantile([0.01, 0.99]))\n",
    "print(df['Loan Maturity'].quantile([0.01, 0.99]))\n",
    "\n",
    "# drop the top 1% and bottom 1% of the data for the variables above:\n",
    "df = df[(df['Cash Share'] > df['Cash Share'].quantile(0.01)) & (df['Cash Share'] < df['Cash Share'].quantile(0.99))]\n",
    "df = df[(df['Securities Share'] > df['Securities Share'].quantile(0.01)) & (df['Securities Share'] < df['Securities Share'].quantile(0.99))]\n",
    "df = df[(df['Loans Share'] > df['Loans Share'].quantile(0.01)) & (df['Loans Share'] < df['Loans Share'].quantile(0.99))]\n",
    "df = df[(df['Asset Maturity'] > df['Asset Maturity'].quantile(0.01)) & (df['Asset Maturity'] < df['Asset Maturity'].quantile(0.99))]\n",
    "df = df[(df['Security Maturity'] > df['Security Maturity'].quantile(0.01)) & (df['Security Maturity'] < df['Security Maturity'].quantile(0.99))]\n",
    "df = df[(df['Loan Maturity'] > df['Loan Maturity'].quantile(0.01)) & (df['Loan Maturity'] < df['Loan Maturity'].quantile(0.99))]\n",
    "df = df.dropna(subset=['Securities Share', 'Loans Share', 'Cash Share', 'Total Assets',\n",
    "                       'Asset Maturity', 'Loan Maturity', 'Security Maturity', 'Total Loans', 'Total Securities'])"
   ]
  },
  {
   "cell_type": "code",
   "execution_count": null,
   "metadata": {},
   "outputs": [],
   "source": [
    "# create the 'Log Total Assets' variable:\n",
    "df['Log Total Assets'] = np.log(df['Total Assets'])"
   ]
  },
  {
   "cell_type": "code",
   "execution_count": null,
   "metadata": {},
   "outputs": [],
   "source": [
    "# use seaborn to plot the distribution of 'Security Maturity':\n",
    "plt.figure(figsize=(12, 6))\n",
    "sns.histplot(data=df, x='Loan Maturity', bins=50, kde=False, stat='density', label='Loans')\n",
    "sns.histplot(data=df, x='Security Maturity', bins=50, kde=False, stat='density', label='Securities', \n",
    "             alpha=0.5)\n",
    "plt.legend(fontsize=16)\n",
    "plt.xticks(fontsize=14)\n",
    "plt.yticks(fontsize=14)\n",
    "plt.ylabel('Density', fontsize=16)\n",
    "plt.xlabel('Maturity (years)', fontsize=16)\n",
    "# write the averages for each variable in the plot:\n",
    "plt.text(x=11, y=0.14, s=f'Loans: {np.round(df[\"Loan Maturity\"].mean(),2)}', color='blue', alpha=0.8, fontsize=16)\n",
    "plt.text(x=11, y=0.13, s=f'Securities: {np.round(df[\"Security Maturity\"].mean(),2)}', color='orange', fontsize=16)\n",
    "plt.show()\n",
    "\n",
    "print(df['Security Maturity'].describe())\n",
    "print(df['Loan Maturity'].describe())"
   ]
  },
  {
   "cell_type": "code",
   "execution_count": null,
   "metadata": {},
   "outputs": [],
   "source": [
    "plt.figure(figsize=(12, 6))\n",
    "binned_scatter(\n",
    "df['Log Total Assets'], \n",
    "df['Cash Share'], \n",
    "q=100, \n",
    "#color='blue', \n",
    ")\n",
    "\n",
    "# Plot settings\n",
    "plt.title('Binned Log Total Assets vs. Cash Share (Quantile Bins)') \n",
    "plt.ylabel('Cash Share')\n",
    "plt.xlabel('Log Total Assets')\n",
    "#plt.legend()\n",
    "plt.grid(True, which='both', linestyle='--', lw=0.5, alpha=0.5, color='lightgrey')\n",
    "plt.legend()\n",
    "plt.show()"
   ]
  },
  {
   "cell_type": "code",
   "execution_count": null,
   "metadata": {},
   "outputs": [],
   "source": [
    "plt.figure(figsize=(12, 6))\n",
    "binned_scatter(\n",
    "df['Log Total Assets'], \n",
    "df['Loans Share'], \n",
    "q=100, \n",
    "#color='blue', \n",
    ")\n",
    "\n",
    "\n",
    "# Plot settings\n",
    "plt.title('Binned Log Total Assets vs. Loans Share (Quantile Bins)') \n",
    "plt.ylabel('Loans Share')\n",
    "plt.xlabel('Log Total Assets')\n",
    "#plt.legend()\n",
    "plt.grid(True, which='both', linestyle='--', lw=0.5, alpha=0.5, color='lightgrey')\n",
    "plt.show()\n"
   ]
  },
  {
   "cell_type": "code",
   "execution_count": null,
   "metadata": {},
   "outputs": [],
   "source": [
    "plt.figure(figsize=(12, 6))\n",
    "binned_scatter(\n",
    "df['Log Total Assets'], \n",
    "df['Securities Share'], \n",
    "q=100, \n",
    "#color='blue', \n",
    ")\n",
    "\n",
    "\n",
    "# Plot settings\n",
    "plt.title('Binned Log Total Assets vs. Securities Share (Quantile Bins)') \n",
    "plt.ylabel('Securities Share')\n",
    "plt.xlabel('Log Total Assets')\n",
    "#plt.legend()\n",
    "plt.grid(True, which='both', linestyle='--', lw=0.5, alpha=0.5, color='lightgrey')\n",
    "plt.show()"
   ]
  },
  {
   "cell_type": "code",
   "execution_count": null,
   "metadata": {},
   "outputs": [],
   "source": [
    "plt.figure(figsize=(12, 6))\n",
    "binned_scatter(\n",
    "df['Log Total Assets'], \n",
    "df['Asset Maturity'], \n",
    "q=100, \n",
    "#color='blue', \n",
    ")\n",
    "\n",
    "\n",
    "# Plot settings\n",
    "plt.title('Binned Log Total Assets vs. Asset Maturity (Quantile Bins)') \n",
    "plt.ylabel('Asset Maturity (years)')\n",
    "plt.xlabel('Log Total Assets')\n",
    "plt.legend()\n",
    "plt.grid(True, which='both', linestyle='--', lw=0.5, alpha=0.5, color='lightgrey')\n",
    "plt.show()"
   ]
  },
  {
   "cell_type": "code",
   "execution_count": null,
   "metadata": {},
   "outputs": [],
   "source": [
    "plt.figure(figsize=(12, 6))\n",
    "binned_scatter(\n",
    "df['Log Total Assets'], \n",
    "df['Security Maturity'], \n",
    "q=100, \n",
    "#color='blue', \n",
    ")\n",
    "\n",
    "# Plot settings\n",
    "plt.title('Binned Log Total Assets vs. Security Maturity (Quantile Bins)') \n",
    "plt.ylabel('Security Maturity (years)')\n",
    "plt.xlabel('Log Total Assets')\n",
    "plt.grid(True, which='both', linestyle='--', lw=0.5, alpha=0.5, color='lightgrey')\n",
    "plt.show()"
   ]
  },
  {
   "cell_type": "code",
   "execution_count": null,
   "metadata": {},
   "outputs": [],
   "source": [
    "plt.figure(figsize=(12, 6))\n",
    "binned_scatter(\n",
    "df['Log Total Assets'], \n",
    "df['Loan Maturity'], \n",
    "q=100, \n",
    "#color='blue', \n",
    ")\n",
    "\n",
    "\n",
    "# Plot settings\n",
    "plt.title('Binned Log Total Assets vs. Loans Maturity (Quantile Bins)') \n",
    "plt.ylabel('Loan Maturity (years)')\n",
    "plt.xlabel('Log Total Assets')\n",
    "plt.grid(True, which='both', linestyle='--', lw=0.5, alpha=0.5, color='lightgrey')\n",
    "plt.show()"
   ]
  },
  {
   "cell_type": "code",
   "execution_count": null,
   "metadata": {},
   "outputs": [],
   "source": [
    "plt.figure(figsize=(12, 6))\n",
    "binned_scatter(\n",
    "df['Security Maturity'], \n",
    "df['Loan Maturity'], \n",
    "q=100, \n",
    "#color='blue', \n",
    ")\n",
    "\n",
    "\n",
    "# Plot settings\n",
    "plt.title('Binned Security Maturity vs. Loans Maturity (Quantile Bins)', fontsize=16) \n",
    "plt.ylabel('Loan Maturity (years)', fontsize=16)\n",
    "plt.xlabel('Security Maturity (years)', fontsize=16)\n",
    "plt.xticks(fontsize=14)\n",
    "plt.yticks(fontsize=14)\n",
    "plt.grid(True, which='both', linestyle='--', lw=0.5, alpha=0.5, color='lightgrey')\n",
    "plt.legend(fontsize=14)\n",
    "plt.show()"
   ]
  },
  {
   "cell_type": "code",
   "execution_count": null,
   "metadata": {},
   "outputs": [],
   "source": [
    "# regress the 'Asset Maturity' on the 'Log Total Assets' and the squared of 'Log Total Assets'. Deal with NaNs:\n",
    "df2 = df.dropna(subset=['Asset Maturity', 'Log Total Assets'])\n",
    "X = df2['Log Total Assets']\n",
    "X = sm.add_constant(X)\n",
    "\n",
    "y = df2['Asset Maturity']\n",
    "\n",
    "model = sm.OLS(y, X)\n",
    "results = model.fit()\n",
    "print(results.summary())"
   ]
  },
  {
   "cell_type": "code",
   "execution_count": null,
   "metadata": {},
   "outputs": [],
   "source": [
    "# regress the 'Asset Maturity' on the 'Log Total Assets' and the squared of 'Log Total Assets'. Deal with NaNs:\n",
    "df2 = df.dropna(subset=['Cash Share', 'Log Total Assets'])\n",
    "X = df2['Log Total Assets']\n",
    "X = sm.add_constant(X)\n",
    "\n",
    "y = df2['Cash Share']\n",
    "\n",
    "model = sm.OLS(y, X)\n",
    "results = model.fit()\n",
    "print(results.summary())"
   ]
  },
  {
   "cell_type": "code",
   "execution_count": null,
   "metadata": {},
   "outputs": [],
   "source": [
    "# regress the 'Asset Maturity' on the 'Log Total Assets' and the squared of 'Log Total Assets'. Deal with NaNs:\n",
    "df2 = df.dropna(subset=['Loans Share', 'Log Total Assets'])\n",
    "X = df2['Log Total Assets']\n",
    "X = sm.add_constant(X)\n",
    "\n",
    "y = df2['Loans Share']\n",
    "\n",
    "model = sm.OLS(y, X)\n",
    "results = model.fit()\n",
    "print(results.summary())"
   ]
  },
  {
   "cell_type": "code",
   "execution_count": null,
   "metadata": {},
   "outputs": [],
   "source": [
    "# regress the 'Asset Maturity' on the 'Log Total Assets' and the squared of 'Log Total Assets'. Deal with NaNs:\n",
    "df2 = df.dropna(subset=['Securities Share', 'Log Total Assets'])\n",
    "X = df2['Log Total Assets']\n",
    "X = sm.add_constant(X)\n",
    "\n",
    "y = df2['Securities Share']\n",
    "\n",
    "model = sm.OLS(y, X)\n",
    "results = model.fit()\n",
    "print(results.summary())"
   ]
  },
  {
   "cell_type": "markdown",
   "metadata": {},
   "source": [
    "### Previous cross-sectional analysis (growth rates)"
   ]
  },
  {
   "cell_type": "code",
   "execution_count": null,
   "metadata": {},
   "outputs": [],
   "source": [
    "def compute_growth(df, transformations, window=1):\n",
    "    \"\"\"\n",
    "    Compute the log difference of deposits while accounting for mergers, acquisitions, and failures.\n",
    "\n",
    "    Args:\n",
    "    - df (pd.DataFrame): Dataframe containing bank-level balance sheet data.\n",
    "    - transformations (pd.DataFrame): Dataframe containing information about transformations.\n",
    "    - window (int): Number of quarters before and after a transaction to set as NaN for growth rate.\n",
    "\n",
    "    Returns:\n",
    "    - pd.DataFrame: The updated 'df' with a 'deposit_growth' column.\n",
    "    \"\"\"\n",
    "    # Sort the dataframe by bank ID and date to ensure proper lag calculation\n",
    "    df = df.sort_values(by=['IDRSSD', 'Date'])\n",
    "    df['Real Deposits'] = df['Total Deposits'] / df['CPI'] * 100\n",
    "    df['Real Loans'] = df['Total Loans'] / df['CPI'] * 100\n",
    "\n",
    "\n",
    "    # Calculate log difference (log growth rate) of deposits\n",
    "    df['Deposit_Growth'] = df.groupby('IDRSSD')['Real Deposits'].transform(lambda x: np.log(x).diff())\n",
    "    df['Loan_Growth'] = df.groupby('IDRSSD')['Real Loans'].transform(lambda x: np.log(x).diff())\n",
    "    \n",
    "    # Create a mask to identify rows to be set to NaN\n",
    "    for _, row in transformations.iterrows():\n",
    "        predecessor_id = row['Predecessor ID']\n",
    "        successor_id = row['Successor ID']\n",
    "        transaction_date = row['Transaction Date']\n",
    "        \n",
    "        # Identify date range around the transaction\n",
    "        start_date = transaction_date - pd.DateOffset(months=3 * window)\n",
    "        end_date = transaction_date + pd.DateOffset(months=3 * window)\n",
    "        \n",
    "        # Apply NaN to the specified window for predecessor and successor banks\n",
    "        df.loc[\n",
    "            ((df['IDRSSD'] == predecessor_id) | (df['IDRSSD'] == successor_id)) & \n",
    "            (df['Date'].between(start_date, end_date)),\n",
    "            'Deposit_Growth'\n",
    "        ] = np.nan\n",
    "\n",
    "        df.loc[\n",
    "            ((df['IDRSSD'] == predecessor_id) | (df['IDRSSD'] == successor_id)) & \n",
    "            (df['Date'].between(start_date, end_date)),\n",
    "            'Loan_Growth'\n",
    "        ] = np.nan\n",
    "    \n",
    "    return df"
   ]
  },
  {
   "cell_type": "code",
   "execution_count": null,
   "metadata": {},
   "outputs": [],
   "source": [
    "df = main[[ 'IDRSSD', 'Date', 'Financial Institution Name',             # Dates and IDS \n",
    "            'Total Deposits', 'Deposit Share', 'Total Assets',          # Bank specific quantity variables\n",
    "            'Total Loans',\n",
    "            'Deposit Rate', 'Deposit Spread',                           # Bank specific rate variable\n",
    "            'Cash', 'Securities AC',                                    # Bank specific asset variables\n",
    "            'FEDFUNDS', 'High Inflation', 'FF Hike', 'Recession',\n",
    "            'CPI', 'Positive FF Shock'                                  # Macro variables\n",
    "            ]]"
   ]
  },
  {
   "cell_type": "code",
   "execution_count": null,
   "metadata": {},
   "outputs": [],
   "source": [
    "df.loc[:,'Securities Share'] = df['Securities AC'] / df['Total Assets']"
   ]
  },
  {
   "cell_type": "code",
   "execution_count": null,
   "metadata": {},
   "outputs": [],
   "source": [
    "svb_securities = df[(df['IDRSSD'] == 802866) & (df['Date'] == '2022-12-31')]['Securities Share'].values[0]"
   ]
  },
  {
   "cell_type": "code",
   "execution_count": null,
   "metadata": {},
   "outputs": [],
   "source": [
    "# tell me the IDs of the banks that have a 'Securities Share' above svb_securities:\n",
    "right_tail_banks = df[(df['Date'] == '2022-12-31') & \n",
    "                      (df[df['Date'] == '2022-12-31']['Securities Share'] > svb_securities)]['IDRSSD'].unique()"
   ]
  },
  {
   "cell_type": "code",
   "execution_count": null,
   "metadata": {},
   "outputs": [],
   "source": [
    "right_tail_df = df[ (df['Date'] == '2022-12-31') & \n",
    "    (df['IDRSSD'].isin(right_tail_banks))][['Financial Institution Name', 'Total Assets', 'Total Deposits']]"
   ]
  },
  {
   "cell_type": "code",
   "execution_count": null,
   "metadata": {},
   "outputs": [],
   "source": [
    "df[(df['Date'] == '2022-12-31')][['Financial Institution Name', 'Total Assets', 'Total Deposits']].describe()"
   ]
  },
  {
   "cell_type": "code",
   "execution_count": null,
   "metadata": {},
   "outputs": [],
   "source": [
    "right_tail_df.describe()"
   ]
  },
  {
   "cell_type": "code",
   "execution_count": null,
   "metadata": {},
   "outputs": [],
   "source": [
    "# plot the distribution of securities share for 03/31/2023:\n",
    "sns.histplot(df[df['Date'] == '2022-12-31']['Securities Share'], bins=20, kde=True)\n",
    "# add a vertical line for the bank with IDRSSD=802866:\n",
    "plt.axvline(x=df[(df['IDRSSD'] == 802866) & (df['Date'] == '2022-12-31')]['Securities Share'].values[0], \n",
    "            color='red', linestyle='--', linewidth=2)       \n",
    "plt.title('Distribution of Securities Share on 12/31/2022')\n",
    "plt.show()\n"
   ]
  },
  {
   "cell_type": "code",
   "execution_count": null,
   "metadata": {},
   "outputs": [],
   "source": [
    "# compute the correlation between FF Hike and Positive FF Shock:\n",
    "df[['FF Hike', 'Positive FF Shock']].corr()"
   ]
  },
  {
   "cell_type": "code",
   "execution_count": null,
   "metadata": {},
   "outputs": [],
   "source": [
    "df = compute_growth(df, transformations, window=1)"
   ]
  },
  {
   "cell_type": "code",
   "execution_count": null,
   "metadata": {},
   "outputs": [],
   "source": [
    "print(df['Loan_Growth'].describe())\n",
    "print(df['Loan_Growth'].quantile([0.01, 0.99]))"
   ]
  },
  {
   "cell_type": "code",
   "execution_count": null,
   "metadata": {},
   "outputs": [],
   "source": [
    "print(df['Deposit_Growth'].describe())\n",
    "print(df['Deposit_Growth'].quantile([0.01, 0.99]))"
   ]
  },
  {
   "cell_type": "code",
   "execution_count": null,
   "metadata": {},
   "outputs": [],
   "source": [
    "# mask the outliers (top and bottom 0.1%) of the distribution of 'Deposit Growth':\n",
    "df['Deposit_Growth'] = df['Deposit_Growth'].mask((df['Deposit_Growth'] < df['Deposit_Growth'].quantile(0.01)) | \n",
    "                                                 (df['Deposit_Growth'] > df['Deposit_Growth'].quantile(0.99)), np.nan)\n",
    "\n",
    "df['Loan_Growth'] = df['Loan_Growth'].mask((df['Loan_Growth'] < df['Loan_Growth'].quantile(0.01)) | \n",
    "                                                 (df['Loan_Growth'] > df['Loan_Growth'].quantile(0.99)), np.nan)\n"
   ]
  },
  {
   "cell_type": "code",
   "execution_count": null,
   "metadata": {},
   "outputs": [],
   "source": [
    "df['Securities Growth'] = df.groupby('IDRSSD')['Securities AC'].pct_change(fill_method=None)\n",
    "print(df['Securities Growth'].describe())\n",
    "# if the 'Securities Growth' is in either top or bottom 1% of the distribution, set it to NaN:\n",
    "df['Securities Growth'] = df['Securities Growth'].mask((df['Securities Growth'] < df['Securities Growth'].quantile(0.01)) | (df['Securities Growth'] > df['Securities Growth'].quantile(0.99)))\n",
    "print(df['Securities Growth'].describe())"
   ]
  },
  {
   "cell_type": "code",
   "execution_count": null,
   "metadata": {},
   "outputs": [],
   "source": [
    "df['Real Cash'] = df['Cash'] / df['CPI'] * 100\n",
    "df['Cash Growth'] = df.groupby('IDRSSD')['Real Cash'].pct_change(fill_method=None)\n",
    "print(df['Cash Growth'].describe())\n",
    "# if the 'Securities Growth' is in either top or bottom 1% of the distribution, set it to NaN:\n",
    "df['Cash Growth'] = df['Cash Growth'].mask((df['Cash Growth'] < df['Cash Growth'].quantile(0.01)) | (df['Cash Growth'] > df['Cash Growth'].quantile(0.99)))\n",
    "print(df['Cash Growth'].describe())"
   ]
  },
  {
   "cell_type": "code",
   "execution_count": null,
   "metadata": {},
   "outputs": [],
   "source": [
    "def cross_sectional_plots(  df,                     # Dataframe with bank-level data \n",
    "                            criteria,               # Criteria to define the interest rate shock\n",
    "                            num_quantiles=100):     # Number of quantiles for the binned scatter plot\n",
    "\n",
    "    # Define the interest rate criteria:\n",
    "    # 1. 'ff_hike': FF Hike is a simple increase in the FFR.\n",
    "    # 2. 'mp_shock': MP Shock is a positive shock to the FFR.\n",
    "    if criteria == 'ff_hike':\n",
    "        # Filter conditions for Expansion and Contraction\n",
    "        expansion_condition = (\n",
    "                              (df['Recession'] == 0) & \n",
    "                              (df['FF Hike'] == 1) &\n",
    "                              (df['High Inflation'] == 1)\n",
    "                              )\n",
    "        contraction_condition = (\n",
    "                                (df['Recession'] == 1) &\n",
    "                                (df['FF Hike'] == 1) &\n",
    "                                (df['High Inflation'] == 1)\n",
    "                                )\n",
    "\n",
    "    elif criteria == 'mp_shock':\n",
    "        # Filter conditions for Expansion and Contraction\n",
    "        expansion_condition = (\n",
    "                            (df['Recession'] == 0) &\n",
    "                            (df['Positive FF Shock'] == 1) &\n",
    "                            (df['High Inflation'] == 1)\n",
    "                            )\n",
    "        contraction_condition = (\n",
    "                            (df['Recession'] == 1) &\n",
    "                            (df['Positive FF Shock'] == 1) & \n",
    "                            (df['High Inflation'] == 1)\n",
    "                            )\n",
    "\n",
    "    else:\n",
    "        print('Criteria not found')\n",
    "        return None\n",
    "    \n",
    "    # --------------------------------- Histograms --------------------------------- #\n",
    "\n",
    "    # make a histogram of the de-trended loans when the inflation is high, FF hike and Boom vs. Recession:\n",
    "    lin = np.linspace(-0.25, 0.25, 150)\n",
    "    plt.figure(figsize=(12, 6))\n",
    "    sns.histplot(df[expansion_condition]['Loan_Growth'], \n",
    "                label='Expansion', bins=lin, stat='density', alpha=0.6)\n",
    "    plt.axvline(df[expansion_condition]['Loan_Growth'].mean(), linestyle='--', linewidth=2, color='blue')\n",
    "    sns.histplot(df[contraction_condition]['Loan_Growth'], \n",
    "                label='Contraction', bins=lin, alpha=0.6, stat='density')\n",
    "    plt.axvline(df[contraction_condition]['Loan_Growth'].mean(), linestyle='--', linewidth=2, color='orange')\n",
    "    plt.title('Loan Growth (High Inflation, FF Hike)')\n",
    "    plt.xlabel('Loan Growth')\n",
    "    plt.ylabel('Density')\n",
    "    plt.legend()\n",
    "    # print the std deviation of both distributions in the (-0.2,8) coordinate:\n",
    "    plt.text(0.1, 7, 'Mean Expansion:             ' + str(round(df[expansion_condition]['Loan_Growth'].mean(), 4)))\n",
    "    plt.text(0.1, 6.5, 'Std. Expansion:             ' + str(round(df[expansion_condition]['Loan_Growth'].std(), 4)))\n",
    "    plt.text(0.1, 6, 'Mean Contraction:           ' + str(round(df[contraction_condition]['Loan_Growth'].mean(), 4)))\n",
    "    plt.text(0.1, 5.5, 'Std. Contraction:           ' + str(round(df[contraction_condition]['Loan_Growth'].std(), 4)))\n",
    "    plt.grid(True, which='both', linestyle='--', lw=0.5, alpha=0.5, color='lightgrey')\n",
    "    plt.xlim(-0.13, 0.22)\n",
    "    plt.show()\n",
    "\n",
    "    #-------------------------------------------------------------------------------------------------#\n",
    "\n",
    "    lin = np.linspace(-0.25, 0.25, 150)\n",
    "    plt.figure(figsize=(12, 6))\n",
    "    sns.histplot(df[expansion_condition]['Deposit_Growth'], \n",
    "                label='Expansion', bins=lin, stat='density', alpha=0.6)\n",
    "    plt.axvline(df[expansion_condition]['Deposit_Growth'].mean(), linestyle='--', linewidth=2, color='blue')\n",
    "    sns.histplot(df[contraction_condition]['Deposit_Growth'], \n",
    "                label='Contraction', bins=lin, alpha=0.6, stat='density')\n",
    "    plt.axvline(df[contraction_condition]['Deposit_Growth'].mean(), linestyle='--', linewidth=2, color='orange')\n",
    "    plt.title('Deposits Growth (High Inflation, FF Hike)')\n",
    "    plt.xlabel('Deposits Growth')\n",
    "    plt.ylabel('Density')\n",
    "    plt.legend()\n",
    "    # print the std deviation of both distributions in the (-0.2,8) coordinate:\n",
    "    plt.text(0.1, 7, 'Mean Expansion:             ' + str(round(df[expansion_condition]['Deposit_Growth'].mean(), 4)))\n",
    "    plt.text(0.1, 6.5, 'Std. Expansion:             ' + str(round(df[expansion_condition]['Deposit_Growth'].std(), 4)))\n",
    "    plt.text(0.1, 6, 'Mean Contraction:           ' + str(round(df[contraction_condition]['Deposit_Growth'].mean(), 4)))\n",
    "    plt.text(0.1, 5.5, 'Std. Contraction:           ' + str(round(df[contraction_condition]['Deposit_Growth'].std(), 4)))\n",
    "    plt.grid(True, which='both', linestyle='--', lw=0.5, alpha=0.5, color='lightgrey')\n",
    "    plt.xlim(-0.13, 0.22)\n",
    "    plt.show()\n",
    "\n",
    "    #-------------------------------------------------------------------------------------------------#\n",
    "\n",
    "    # make a histogram of the de-trended loans when the inflation is high, FF hike and Boom vs. Recession:\n",
    "    plt.figure(figsize=(12, 6))\n",
    "    sns.histplot(df[expansion_condition]['Securities Growth'], \n",
    "                label='Expansion', bins=lin, stat='density', alpha=0.6)\n",
    "    plt.axvline(df[expansion_condition]['Securities Growth'].mean(), linestyle='--', linewidth=2, color='blue')\n",
    "    sns.histplot(df[contraction_condition]['Securities Growth'], \n",
    "                label='Contraction', bins=lin, alpha=0.6, stat='density')\n",
    "    plt.axvline(df[contraction_condition]['Securities Growth'].mean(), linestyle='--', linewidth=2, color='orange')\n",
    "    plt.title('Securities Growth (High Inflation, FF Hike)')\n",
    "    plt.xlabel('Securities Growth')\n",
    "    plt.ylabel('Density')\n",
    "    plt.legend()\n",
    "    # print the std deviation of both distributions in the (-0.2,8) coordinate:\n",
    "    plt.text(0.1, 7.5, 'Mean Expansion:             ' + str(round(df[expansion_condition]['Securities Growth'].mean(), 4)))\n",
    "    plt.text(0.1, 6.5, 'Std. Expansion:             ' + str(round(df[expansion_condition]['Securities Growth'].std(), 4)))\n",
    "    plt.text(0.1, 5.5, 'Mean Contraction:           ' + str(round(df[contraction_condition]['Securities Growth'].mean(), 4)))\n",
    "    plt.text(0.1, 4.5, 'Std. Contraction:           ' + str(round(df[contraction_condition]['Securities Growth'].std(), 4)))\n",
    "    plt.grid(True, which='both', linestyle='--', lw=0.5, alpha=0.5, color='lightgrey')\n",
    "    plt.xlim(-0.25, 0.25)\n",
    "    plt.show()\n",
    "\n",
    "    #-------------------------------------------------------------------------------------------------#\n",
    "\n",
    "    # make a histogram of the de-trended loans when the inflation is high, FF hike and Boom vs. Recession:\n",
    "    plt.figure(figsize=(12, 6))\n",
    "    lin = np.linspace(df['Cash Growth'].min(), 2, 150)\n",
    "    sns.histplot(df[expansion_condition]['Cash Growth'], \n",
    "                label='Expansion', bins=lin, stat='density', alpha=0.6)\n",
    "    plt.axvline(df[expansion_condition]['Cash Growth'].mean(), linestyle='--', linewidth=2, color='blue')\n",
    "    sns.histplot(df[contraction_condition]['Cash Growth'], \n",
    "                label='Contraction', bins=lin, alpha=0.6, stat='density')\n",
    "    plt.axvline(df[contraction_condition]['Cash Growth'].mean(), linestyle='--', linewidth=2, color='orange')\n",
    "    plt.title('Cash Growth (High Inflation, FF Hike)')\n",
    "    plt.xlabel('Cash Growth')\n",
    "    plt.ylabel('Density')\n",
    "    plt.legend()\n",
    "    # print the std deviation of both distributions in the (-0.2,8) coordinate:\n",
    "    # print the std deviation of both distributions in the (-0.2,8) coordinate:\n",
    "    plt.text(1, 1.4, 'Mean Expansion:             ' + str(round(df[expansion_condition]['Cash Growth'].mean(), 4)))\n",
    "    plt.text(1, 1.3, 'Std. Expansion:             ' + str(round(df[expansion_condition]['Cash Growth'].std(), 4)))\n",
    "    plt.text(1, 1.2, 'Mean Contraction:           ' + str(round(df[contraction_condition]['Cash Growth'].mean(), 4)))\n",
    "    plt.text(1, 1.1, 'Std. Contraction:           ' + str(round(df[contraction_condition]['Cash Growth'].std(), 4)))\n",
    "    plt.grid(True, which='both', linestyle='--', lw=0.5, alpha=0.5, color='lightgrey')\n",
    "    plt.show()\n",
    "\n",
    "\n",
    "    # --------------------------------- Scatter Plots --------------------------------- #\n",
    "    #-------------------------------------------------------------------------------------------------#\n",
    "\n",
    "    # Create the figure\n",
    "    plt.figure(figsize=(12, 6))\n",
    "\n",
    "    # Binned scatter for expansion\n",
    "    binned_scatter(\n",
    "    df.loc[expansion_condition, 'Loan_Growth'], \n",
    "    df.loc[expansion_condition, 'Securities Growth'], \n",
    "    q=num_quantiles, \n",
    "    #color='blue', \n",
    "    label='Expansion'\n",
    "    )\n",
    "\n",
    "    # Binned scatter for contraction\n",
    "    binned_scatter(\n",
    "    df.loc[contraction_condition, 'Loan_Growth'], \n",
    "    df.loc[contraction_condition, 'Securities Growth'], \n",
    "    q=num_quantiles, \n",
    "    #color='orange', \n",
    "    label='Contraction'\n",
    "    )\n",
    "\n",
    "    # Plot settings\n",
    "    plt.title('Binned Loan Growth vs. Securities Growth (Quantile Bins)')\n",
    "    plt.ylabel('Loan Growth')\n",
    "    plt.xlabel('Securities Growth')\n",
    "    plt.ylim(-0.05, 0.12)\n",
    "    plt.legend()\n",
    "    plt.grid(True, which='both', linestyle='--', lw=0.5, alpha=0.5, color='lightgrey')\n",
    "    plt.show()\n",
    "\n",
    "    #-------------------------------------------------------------------------------------------------#\n",
    "    # Create the figure\n",
    "    plt.figure(figsize=(12, 6))\n",
    "\n",
    "    # Binned scatter for expansion\n",
    "    binned_scatter(\n",
    "    df.loc[expansion_condition, 'Deposit_Growth'], \n",
    "    df.loc[expansion_condition, 'Loan_Growth'], \n",
    "    q=num_quantiles, \n",
    "    #color='blue', \n",
    "    label='Expansion'\n",
    "    )\n",
    "\n",
    "    # Binned scatter for contraction\n",
    "    binned_scatter(\n",
    "    df.loc[contraction_condition, 'Deposit_Growth'], \n",
    "    df.loc[contraction_condition, 'Loan_Growth'], \n",
    "    q=num_quantiles, \n",
    "    #color='orange', \n",
    "    label='Contraction'\n",
    "    )\n",
    "\n",
    "    # Plot settings\n",
    "    plt.title('Binned Deposits Growth vs. Loan Growth (Quantile Bins)')\n",
    "    plt.ylabel('Loan Growth')\n",
    "    plt.xlabel('Deposits Growth')\n",
    "    plt.ylim(-0.01, 0.05)\n",
    "    plt.xlim(-0.1, 0.2)\n",
    "    plt.legend()\n",
    "    plt.grid(True, which='both', linestyle='--', lw=0.5, alpha=0.5, color='lightgrey')\n",
    "    plt.show()\n",
    "\n",
    "    #-------------------------------------------------------------------------------------------------#\n",
    "    # Create the figure\n",
    "    plt.figure(figsize=(12, 6))\n",
    "\n",
    "    # Binned scatter for expansion\n",
    "    binned_scatter(\n",
    "    df.loc[expansion_condition, 'Deposit_Growth'], \n",
    "    df.loc[expansion_condition, 'Cash Growth'], \n",
    "    q=num_quantiles, \n",
    "    #color='blue', \n",
    "    label='Expansion'\n",
    "    )\n",
    "\n",
    "    # Binned scatter for contraction\n",
    "    binned_scatter(\n",
    "    df.loc[contraction_condition, 'Deposit_Growth'], \n",
    "    df.loc[contraction_condition, 'Cash Growth'], \n",
    "    q=num_quantiles, \n",
    "    #color='orange', \n",
    "    label='Contraction'\n",
    "    )\n",
    "\n",
    "    # Plot settings\n",
    "    plt.title('Binned Deposits Growth vs. Cash Growth (Quantile Bins)')\n",
    "    plt.ylabel('Cash Growth')\n",
    "    plt.xlabel('Deposits Growth')\n",
    "    plt.legend()\n",
    "    plt.grid(True, which='both', linestyle='--', lw=0.5, alpha=0.5, color='lightgrey')\n",
    "    plt.show()\n",
    "\n",
    "    #-------------------------------------------------------------------------------------------------#\n",
    "    # Create the figure\n",
    "    plt.figure(figsize=(12, 6))\n",
    "\n",
    "    # Binned scatter for expansion\n",
    "    binned_scatter(\n",
    "    df.loc[expansion_condition, 'Deposit_Growth'], \n",
    "    df.loc[expansion_condition, 'Securities Growth'], \n",
    "    q=num_quantiles, \n",
    "    #color='blue', \n",
    "    label='Expansion'\n",
    "    )\n",
    "\n",
    "    # Binned scatter for contraction\n",
    "    binned_scatter(\n",
    "    df.loc[contraction_condition, 'Deposit_Growth'], \n",
    "    df.loc[contraction_condition, 'Securities Growth'], \n",
    "    q=num_quantiles, \n",
    "    #color='orange', \n",
    "    label='Contraction'\n",
    "    )\n",
    "\n",
    "    # Plot settings\n",
    "    plt.title('Binned Deposits Growth vs. Securities Growth (Quantile Bins)')\n",
    "    plt.ylabel('Securities Growth')\n",
    "    plt.xlabel('Deposits Growth')\n",
    "    plt.legend()\n",
    "    plt.grid(True, which='both', linestyle='--', lw=0.5, alpha=0.5, color='lightgrey')\n",
    "    plt.show()"
   ]
  },
  {
   "cell_type": "code",
   "execution_count": null,
   "metadata": {},
   "outputs": [],
   "source": [
    "cross_sectional_plots(df, 'ff_hike', num_quantiles=50)"
   ]
  },
  {
   "cell_type": "code",
   "execution_count": null,
   "metadata": {},
   "outputs": [],
   "source": [
    "cross_sectional_plots(df, 'mp_shock', num_quantiles=50)"
   ]
  },
  {
   "cell_type": "code",
   "execution_count": null,
   "metadata": {},
   "outputs": [],
   "source": []
  },
  {
   "cell_type": "code",
   "execution_count": null,
   "metadata": {},
   "outputs": [],
   "source": []
  }
 ],
 "metadata": {
  "kernelspec": {
   "display_name": "Python 3",
   "language": "python",
   "name": "python3"
  },
  "language_info": {
   "codemirror_mode": {
    "name": "ipython",
    "version": 3
   },
   "file_extension": ".py",
   "mimetype": "text/x-python",
   "name": "python",
   "nbconvert_exporter": "python",
   "pygments_lexer": "ipython3",
   "version": "3.11.9"
  }
 },
 "nbformat": 4,
 "nbformat_minor": 2
}
