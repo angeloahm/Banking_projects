{
 "cells": [
  {
   "cell_type": "markdown",
   "metadata": {},
   "source": [
    "#### Housekeeping"
   ]
  },
  {
   "cell_type": "code",
   "execution_count": 17,
   "metadata": {},
   "outputs": [],
   "source": [
    "# Load packages\n",
    "import os\n",
    "import numpy as np\n",
    "import pandas as pd\n",
    "import seaborn as sns\n",
    "import matplotlib.pyplot as plt"
   ]
  },
  {
   "cell_type": "code",
   "execution_count": 18,
   "metadata": {},
   "outputs": [],
   "source": [
    "path = 'C:/Users/angel/Documents/Economics/Research/Banking Project/data/clean'\n",
    "\n",
    "# Set path to be the directory:\n",
    "os.chdir(path)"
   ]
  },
  {
   "cell_type": "code",
   "execution_count": 19,
   "metadata": {},
   "outputs": [],
   "source": [
    "# Load information on Fed Funds Rate:\n",
    "fed_funds = pd.read_csv('FEDFUNDS.csv', parse_dates = ['DATE'])\n",
    "\n",
    "# Rename 'DATE' to 'Date' in fed_funds:\n",
    "fed_funds = fed_funds.rename(columns = {'DATE':'Date'})\n",
    "\n",
    "# Divide FEDFUNDS by 100 to get the interest rate in percentage terms:\n",
    "fed_funds['FEDFUNDS'] = fed_funds['FEDFUNDS']/100\n",
    "\n",
    "# Make the dates in fed_funds to be the last day of the previous month:\n",
    "fed_funds['Date'] = fed_funds['Date'] - pd.DateOffset(days = 1)"
   ]
  },
  {
   "cell_type": "code",
   "execution_count": 20,
   "metadata": {},
   "outputs": [],
   "source": [
    "# Load the CSV_TRANSFORMATION file:\n",
    "mergers = pd.read_csv('CSV_TRANSFORMATIONS.csv', parse_dates = ['D_DT_TRANS'])\n",
    "\n",
    "# Rename the date column to 'Date':\n",
    "mergers = mergers.rename(columns = {'D_DT_TRANS': 'Date', '#ID_RSSD_PREDECESSOR': 'IDRSSD_PRE', \n",
    "                                    'ID_RSSD_SUCCESSOR': 'IDRSSD_SUC'})"
   ]
  },
  {
   "cell_type": "code",
   "execution_count": 21,
   "metadata": {},
   "outputs": [],
   "source": [
    "# Read the call reports:\n",
    "cr = pd.read_csv('call_reports.csv', parse_dates = ['Date'], low_memory = False)\n",
    "\n",
    "# drop all columns in main that start with 'Unnamed':\n",
    "cr = cr.loc[:, ~cr.columns.str.contains('^Unnamed')]"
   ]
  },
  {
   "cell_type": "markdown",
   "metadata": {},
   "source": [
    "### Balance Sheet (Schedule RC)"
   ]
  },
  {
   "cell_type": "code",
   "execution_count": null,
   "metadata": {},
   "outputs": [],
   "source": [
    "cr['Total Assets'] = cr['RCFD2170']\n",
    "cr['Total Deposits'] = cr['RCON2200']\n",
    "cr['Loans'] = cr['RCFD5369']+cr['RCFDB529']\n",
    "cr['Fed Funds Purchased'] = cr['RCONB993']+cr['RCFDB995']"
   ]
  },
  {
   "cell_type": "code",
   "execution_count": null,
   "metadata": {},
   "outputs": [],
   "source": [
    "# Variables derived from the raw variables\n",
    "\n",
    "# Group by 'ID' and compute the difference in 'Deposit_Expenditure' to get the actual expenditure per period\n",
    "cr['Actual Expenditure'] = cr.groupby(['IDRSSD', 'Year'])['Deposit Expenditure'].diff().fillna(cr['Deposit Expenditure'])\n",
    "\n",
    "\n",
    "# Compute the Aggregate Deposits as the sum of all deposits in a given date:\n",
    "cr['Aggregate Deposits'] = cr.groupby('Date')['Total Deposit'].transform('sum')\n",
    "\n",
    "# get the variation of 'Aggregate Deposits':\n",
    "cr['Aggregate Deposits Variation'] = cr.groupby('IDRSSD')['Aggregate Deposits'].diff()\n",
    "cr['Pct. Aggregate Deposits Variation'] = cr.groupby('IDRSSD')['Aggregate Deposits'].pct_change()\n",
    "\n",
    "# compute the share of deposits of a given bank in the total deposits of all banks in a given date:\n",
    "cr['Deposit Share'] = cr['Total Deposit']/cr.groupby('Date')['Total Deposit'].transform('sum')\n",
    "\n",
    "# Calculate s_{it} - s_{it-1} (Deposit Share Variation)\n",
    "cr['Deposit Share Variation'] = cr.groupby('IDRSSD')['Deposit Share'].diff()\n",
    "\n",
    "cr['Actual Small TD Exp'] = cr.groupby(['IDRSSD', 'Year'])['Small TD Exp'].diff().fillna(cr['Small TD Exp'])\n",
    "cr['Small TD Rate'] =   cr['Actual Small TD Exp'] / cr['Small TD']\n",
    "cr['Small TD Share'] = cr['Small TD'] / cr['Total Deposit']\n",
    "\n",
    "cr['Actual Large TD Exp'] = cr.groupby(['IDRSSD', 'Year'])['Large TD Exp'].diff().fillna(cr['Large TD Exp'])\n",
    "cr['Large TD Rate'] = cr['Actual Large TD Exp'] / cr['Large TD']\n",
    "cr['Large TD Share'] = cr['Large TD'] / cr['Total Deposit']\n",
    "\n",
    "cr['Savings Share'] = cr['Savings Accounts'] / cr['Total Deposit']\n",
    "\n",
    "# Transaction\n",
    "cr['Transaction Share'] = cr['Transaction Accounts'] / cr['Total Deposit']\n",
    "\n",
    "\n",
    "\n",
    "# Group by 'ID' and compute the difference in 'Deposit_Expenditure' to get the actual expenditure per period\n",
    "cr['Actual Expenditure Repo'] = cr.groupby(['IDRSSD', 'Year'])['Expenditure Repo'].diff().fillna(cr['Expenditure Repo'])\n",
    "cr['Actual Income Repo'] = cr.groupby(['IDRSSD', 'Year'])['Expenditure Repo'].diff().fillna(cr['Income Repo'])\n"
   ]
  },
  {
   "cell_type": "code",
   "execution_count": null,
   "metadata": {},
   "outputs": [],
   "source": [
    "# Compute deposit rates:\n",
    "#cr['Deposit Rate'] = cr['Actual Expenditure'] / cr['Total Deposit']\n",
    "\n",
    "# Create an extra column in df3 with the avg. deposit rate per Date:\n",
    "#cr['Avg. Deposit Rate'] = cr.groupby('Date')['Deposit Rate'].transform('mean')\n",
    "#cr['Std. Deposit Rate'] = cr.groupby('Date')['Deposit Rate'].transform('std')\n",
    "#cr['R_hat'] = (cr['Deposit Rate'] - cr['Avg. Deposit Rate']) / cr['Std. Deposit Rate']\n",
    "\n",
    "# Average the deposit rate by 'Date', weighting by 'Total Deposit':\n",
    "#cr['Weighted Deposit Rate'] = cr.groupby('Date')['Deposit Rate'].transform(lambda x: np.average(x, weights = cr.loc[x.index, 'Total Deposit']))"
   ]
  },
  {
   "cell_type": "markdown",
   "metadata": {},
   "source": [
    "#### Assets"
   ]
  },
  {
   "cell_type": "code",
   "execution_count": null,
   "metadata": {},
   "outputs": [],
   "source": []
  },
  {
   "cell_type": "markdown",
   "metadata": {},
   "source": [
    "### Loans"
   ]
  },
  {
   "cell_type": "code",
   "execution_count": null,
   "metadata": {},
   "outputs": [],
   "source": [
    "# Create income from loans\n",
    "cr['Interest Income Loans'] = cr['RIAD4010'] + cr['RIAD4065']\n",
    "cr['Actual Interest Income on Loans'] = cr.groupby(['IDRSSD', 'Year'])['Interest Income Loans'].diff().fillna(cr['Interest Income Loans'])\n"
   ]
  },
  {
   "cell_type": "markdown",
   "metadata": {},
   "source": [
    "### Securities"
   ]
  },
  {
   "cell_type": "code",
   "execution_count": 24,
   "metadata": {},
   "outputs": [],
   "source": [
    "cr['Interest Income in Securities'] = cr['RIADB488']\n",
    "cr['Securities'] = cr['RCFDB558']"
   ]
  }
 ],
 "metadata": {
  "kernelspec": {
   "display_name": "Python 3",
   "language": "python",
   "name": "python3"
  },
  "language_info": {
   "codemirror_mode": {
    "name": "ipython",
    "version": 3
   },
   "file_extension": ".py",
   "mimetype": "text/x-python",
   "name": "python",
   "nbconvert_exporter": "python",
   "pygments_lexer": "ipython3",
   "version": "3.11.9"
  }
 },
 "nbformat": 4,
 "nbformat_minor": 2
}
